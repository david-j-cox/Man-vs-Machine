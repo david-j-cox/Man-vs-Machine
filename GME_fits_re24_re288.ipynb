{
  "nbformat": 4,
  "nbformat_minor": 0,
  "metadata": {
    "colab": {
      "name": "GME_fits_re24_re288.ipynb",
      "provenance": [],
      "collapsed_sections": [],
      "machine_shape": "hm",
      "include_colab_link": true
    },
    "kernelspec": {
      "name": "python3",
      "display_name": "Python 3"
    },
    "accelerator": "TPU"
  },
  "cells": [
    {
      "cell_type": "markdown",
      "metadata": {
        "id": "view-in-github",
        "colab_type": "text"
      },
      "source": [
        "<a href=\"https://colab.research.google.com/github/david-j-cox/Man-vs-Machine/blob/RE288/GME_fits_re24_re288.ipynb\" target=\"_parent\"><img src=\"https://colab.research.google.com/assets/colab-badge.svg\" alt=\"Open In Colab\"/></a>"
      ]
    },
    {
      "cell_type": "markdown",
      "source": [
        "# Environment Setup"
      ],
      "metadata": {
        "id": "Ga8dbhkOmwCb"
      }
    },
    {
      "cell_type": "code",
      "source": [
        "# Set working directory\n",
        "from google.colab import drive\n",
        "drive.mount('/content/gdrive')\n",
        "%cd './gdrive/My Drive/GME & MLB/Scripts and Notebooks/'"
      ],
      "metadata": {
        "colab": {
          "base_uri": "https://localhost:8080/"
        },
        "id": "vEYkzyXmmyw2",
        "outputId": "57bfa91f-534b-478b-c306-30556a086972"
      },
      "execution_count": 1,
      "outputs": [
        {
          "output_type": "stream",
          "name": "stdout",
          "text": [
            "Drive already mounted at /content/gdrive; to attempt to forcibly remount, call drive.mount(\"/content/gdrive\", force_remount=True).\n",
            "/content/gdrive/My Drive/GME & MLB/Scripts and Notebooks\n"
          ]
        }
      ]
    },
    {
      "cell_type": "code",
      "source": [
        "# Connect GPU, if desired\n",
        "%tensorflow_version 2.x\n",
        "import tensorflow as tf\n",
        "device_name = tf.test.gpu_device_name()\n",
        "if device_name != '/device:GPU:0':\n",
        "  raise SystemError('GPU device not found')\n",
        "print('Found GPU at: {}'.format(device_name))"
      ],
      "metadata": {
        "id": "AQ8mW3zhm0r4"
      },
      "execution_count": null,
      "outputs": []
    },
    {
      "cell_type": "code",
      "source": [
        "# Connect TPU, if desired\n",
        "%tensorflow_version 2.x\n",
        "import tensorflow as tf\n",
        "print(\"Tensorflow version \" + tf.__version__)\n",
        "\n",
        "try:\n",
        "  tpu = tf.distribute.cluster_resolver.TPUClusterResolver()  # TPU detection\n",
        "  print('Running on TPU ', tpu.cluster_spec().as_dict()['worker'])\n",
        "except ValueError:\n",
        "  raise BaseException('ERROR: Not connected to a TPU runtime')\n",
        "\n",
        "tf.config.experimental_connect_to_cluster(tpu)\n",
        "tf.tpu.experimental.initialize_tpu_system(tpu)\n",
        "tpu_strategy = tf.distribute.experimental.TPUStrategy(tpu)"
      ],
      "metadata": {
        "colab": {
          "base_uri": "https://localhost:8080/"
        },
        "id": "YKqMOgUhm00W",
        "outputId": "3efe9b14-c829-4855-9ef9-731fcf6ca2ea"
      },
      "execution_count": 2,
      "outputs": [
        {
          "output_type": "stream",
          "name": "stdout",
          "text": [
            "Tensorflow version 2.7.0\n",
            "Running on TPU  ['10.4.167.34:8470']\n",
            "INFO:tensorflow:Deallocate tpu buffers before initializing tpu system.\n"
          ]
        },
        {
          "output_type": "stream",
          "name": "stderr",
          "text": [
            "INFO:tensorflow:Deallocate tpu buffers before initializing tpu system.\n"
          ]
        },
        {
          "output_type": "stream",
          "name": "stdout",
          "text": [
            "INFO:tensorflow:Initializing the TPU system: grpc://10.4.167.34:8470\n"
          ]
        },
        {
          "output_type": "stream",
          "name": "stderr",
          "text": [
            "INFO:tensorflow:Initializing the TPU system: grpc://10.4.167.34:8470\n"
          ]
        },
        {
          "output_type": "stream",
          "name": "stdout",
          "text": [
            "INFO:tensorflow:Finished initializing TPU system.\n"
          ]
        },
        {
          "output_type": "stream",
          "name": "stderr",
          "text": [
            "INFO:tensorflow:Finished initializing TPU system.\n",
            "WARNING:absl:`tf.distribute.experimental.TPUStrategy` is deprecated, please use  the non experimental symbol `tf.distribute.TPUStrategy` instead.\n"
          ]
        },
        {
          "output_type": "stream",
          "name": "stdout",
          "text": [
            "INFO:tensorflow:Found TPU system:\n"
          ]
        },
        {
          "output_type": "stream",
          "name": "stderr",
          "text": [
            "INFO:tensorflow:Found TPU system:\n"
          ]
        },
        {
          "output_type": "stream",
          "name": "stdout",
          "text": [
            "INFO:tensorflow:*** Num TPU Cores: 8\n"
          ]
        },
        {
          "output_type": "stream",
          "name": "stderr",
          "text": [
            "INFO:tensorflow:*** Num TPU Cores: 8\n"
          ]
        },
        {
          "output_type": "stream",
          "name": "stdout",
          "text": [
            "INFO:tensorflow:*** Num TPU Workers: 1\n"
          ]
        },
        {
          "output_type": "stream",
          "name": "stderr",
          "text": [
            "INFO:tensorflow:*** Num TPU Workers: 1\n"
          ]
        },
        {
          "output_type": "stream",
          "name": "stdout",
          "text": [
            "INFO:tensorflow:*** Num TPU Cores Per Worker: 8\n"
          ]
        },
        {
          "output_type": "stream",
          "name": "stderr",
          "text": [
            "INFO:tensorflow:*** Num TPU Cores Per Worker: 8\n"
          ]
        },
        {
          "output_type": "stream",
          "name": "stdout",
          "text": [
            "INFO:tensorflow:*** Available Device: _DeviceAttributes(/job:localhost/replica:0/task:0/device:CPU:0, CPU, 0, 0)\n"
          ]
        },
        {
          "output_type": "stream",
          "name": "stderr",
          "text": [
            "INFO:tensorflow:*** Available Device: _DeviceAttributes(/job:localhost/replica:0/task:0/device:CPU:0, CPU, 0, 0)\n"
          ]
        },
        {
          "output_type": "stream",
          "name": "stdout",
          "text": [
            "INFO:tensorflow:*** Available Device: _DeviceAttributes(/job:worker/replica:0/task:0/device:CPU:0, CPU, 0, 0)\n"
          ]
        },
        {
          "output_type": "stream",
          "name": "stderr",
          "text": [
            "INFO:tensorflow:*** Available Device: _DeviceAttributes(/job:worker/replica:0/task:0/device:CPU:0, CPU, 0, 0)\n"
          ]
        },
        {
          "output_type": "stream",
          "name": "stdout",
          "text": [
            "INFO:tensorflow:*** Available Device: _DeviceAttributes(/job:worker/replica:0/task:0/device:TPU:0, TPU, 0, 0)\n"
          ]
        },
        {
          "output_type": "stream",
          "name": "stderr",
          "text": [
            "INFO:tensorflow:*** Available Device: _DeviceAttributes(/job:worker/replica:0/task:0/device:TPU:0, TPU, 0, 0)\n"
          ]
        },
        {
          "output_type": "stream",
          "name": "stdout",
          "text": [
            "INFO:tensorflow:*** Available Device: _DeviceAttributes(/job:worker/replica:0/task:0/device:TPU:1, TPU, 0, 0)\n"
          ]
        },
        {
          "output_type": "stream",
          "name": "stderr",
          "text": [
            "INFO:tensorflow:*** Available Device: _DeviceAttributes(/job:worker/replica:0/task:0/device:TPU:1, TPU, 0, 0)\n"
          ]
        },
        {
          "output_type": "stream",
          "name": "stdout",
          "text": [
            "INFO:tensorflow:*** Available Device: _DeviceAttributes(/job:worker/replica:0/task:0/device:TPU:2, TPU, 0, 0)\n"
          ]
        },
        {
          "output_type": "stream",
          "name": "stderr",
          "text": [
            "INFO:tensorflow:*** Available Device: _DeviceAttributes(/job:worker/replica:0/task:0/device:TPU:2, TPU, 0, 0)\n"
          ]
        },
        {
          "output_type": "stream",
          "name": "stdout",
          "text": [
            "INFO:tensorflow:*** Available Device: _DeviceAttributes(/job:worker/replica:0/task:0/device:TPU:3, TPU, 0, 0)\n"
          ]
        },
        {
          "output_type": "stream",
          "name": "stderr",
          "text": [
            "INFO:tensorflow:*** Available Device: _DeviceAttributes(/job:worker/replica:0/task:0/device:TPU:3, TPU, 0, 0)\n"
          ]
        },
        {
          "output_type": "stream",
          "name": "stdout",
          "text": [
            "INFO:tensorflow:*** Available Device: _DeviceAttributes(/job:worker/replica:0/task:0/device:TPU:4, TPU, 0, 0)\n"
          ]
        },
        {
          "output_type": "stream",
          "name": "stderr",
          "text": [
            "INFO:tensorflow:*** Available Device: _DeviceAttributes(/job:worker/replica:0/task:0/device:TPU:4, TPU, 0, 0)\n"
          ]
        },
        {
          "output_type": "stream",
          "name": "stdout",
          "text": [
            "INFO:tensorflow:*** Available Device: _DeviceAttributes(/job:worker/replica:0/task:0/device:TPU:5, TPU, 0, 0)\n"
          ]
        },
        {
          "output_type": "stream",
          "name": "stderr",
          "text": [
            "INFO:tensorflow:*** Available Device: _DeviceAttributes(/job:worker/replica:0/task:0/device:TPU:5, TPU, 0, 0)\n"
          ]
        },
        {
          "output_type": "stream",
          "name": "stdout",
          "text": [
            "INFO:tensorflow:*** Available Device: _DeviceAttributes(/job:worker/replica:0/task:0/device:TPU:6, TPU, 0, 0)\n"
          ]
        },
        {
          "output_type": "stream",
          "name": "stderr",
          "text": [
            "INFO:tensorflow:*** Available Device: _DeviceAttributes(/job:worker/replica:0/task:0/device:TPU:6, TPU, 0, 0)\n"
          ]
        },
        {
          "output_type": "stream",
          "name": "stdout",
          "text": [
            "INFO:tensorflow:*** Available Device: _DeviceAttributes(/job:worker/replica:0/task:0/device:TPU:7, TPU, 0, 0)\n"
          ]
        },
        {
          "output_type": "stream",
          "name": "stderr",
          "text": [
            "INFO:tensorflow:*** Available Device: _DeviceAttributes(/job:worker/replica:0/task:0/device:TPU:7, TPU, 0, 0)\n"
          ]
        },
        {
          "output_type": "stream",
          "name": "stdout",
          "text": [
            "INFO:tensorflow:*** Available Device: _DeviceAttributes(/job:worker/replica:0/task:0/device:TPU_SYSTEM:0, TPU_SYSTEM, 0, 0)\n"
          ]
        },
        {
          "output_type": "stream",
          "name": "stderr",
          "text": [
            "INFO:tensorflow:*** Available Device: _DeviceAttributes(/job:worker/replica:0/task:0/device:TPU_SYSTEM:0, TPU_SYSTEM, 0, 0)\n"
          ]
        },
        {
          "output_type": "stream",
          "name": "stdout",
          "text": [
            "INFO:tensorflow:*** Available Device: _DeviceAttributes(/job:worker/replica:0/task:0/device:XLA_CPU:0, XLA_CPU, 0, 0)\n"
          ]
        },
        {
          "output_type": "stream",
          "name": "stderr",
          "text": [
            "INFO:tensorflow:*** Available Device: _DeviceAttributes(/job:worker/replica:0/task:0/device:XLA_CPU:0, XLA_CPU, 0, 0)\n"
          ]
        }
      ]
    },
    {
      "cell_type": "code",
      "metadata": {
        "id": "nCJSs9pQ3MG8",
        "colab": {
          "base_uri": "https://localhost:8080/"
        },
        "outputId": "5d32760f-14d5-4252-e75a-400d8cd1dab7"
      },
      "source": [
        "# Packages and modules we'll use\n",
        "# System\n",
        "import glob\n",
        "import zipfile, io, os\n",
        "import time\n",
        "from IPython.display import HTML, display, clear_output\n",
        "\n",
        "# Data manipulations\n",
        "import pandas as pd\n",
        "import numpy as np\n",
        "import math\n",
        "\n",
        "print(\"Packages loaded\")"
      ],
      "execution_count": 3,
      "outputs": [
        {
          "output_type": "stream",
          "name": "stdout",
          "text": [
            "Packages loaded\n"
          ]
        }
      ]
    },
    {
      "cell_type": "markdown",
      "metadata": {
        "id": "EiEMddOoXnEi"
      },
      "source": [
        "# Fit the GME for each pitcher in the df using specified SR+\n",
        "\n",
        "### Caution: This will run for a long time. Break into batches if possible. "
      ]
    },
    {
      "cell_type": "code",
      "metadata": {
        "id": "BSf2tDrp_WvZ"
      },
      "source": [
        "# Create lists of which pitches fall into which categories\n",
        "hrd_strt = ['4-Seam Fastball', '2-Seam Fastball', 'Cutter', 'Pitch Out']\n",
        "hrd_brkng = ['Slider', 'Sinker', 'Split Finger', 'Screwball', 'Forkball']\n",
        "sft_strt = ['Changeup', 'Knuckle Ball', 'Eephus']\n",
        "sft_brkng = ['Curveball', 'Knuckle Curve', 'Unknown']"
      ],
      "execution_count": 5,
      "outputs": []
    },
    {
      "cell_type": "code",
      "source": [
        "# Compute matching for each df across all years\n",
        "for yr in [2008, 2009, 2010, 2011, 2012, 2013, 2014, 2015, 2016, 2017, 2018, 2019]:\n",
        "  # Read in the target dataframe\n",
        "  data = pd.read_csv(f'../Data/03_analytic/df_{yr}.csv').drop(['Unnamed: 0'], axis=1)\n",
        "\n",
        "# Lists for storing results\n",
        "  year = []\n",
        "  pitcher_id = []\n",
        "  reinforcer = []\n",
        "  vac = []\n",
        "  bias = []\n",
        "  sensitivity = []\n",
        "\n",
        "  # For reporting prgress to notebook user\n",
        "  count = 0 \n",
        "\n",
        "  # Loop through dataframe, fit GME, and get fit metrics for every pitcher\n",
        "  uniq_p = data['pitcher'].unique()\n",
        "  for pitcher in uniq_p:\n",
        "    # For each putative reinforcer we're trying...\n",
        "    for sr_type in ['re_24_change_raw', 're_24_change_ord', 're_288_change_raw', 're_288_change_ord']:\n",
        "      # Empty lists to store counts in\n",
        "      # Behaviors\n",
        "      count_hard_straight = []\n",
        "      count_hard_breaking = []\n",
        "      count_soft_straight = []\n",
        "      count_soft_breaking = []\n",
        "      # Consequences\n",
        "      count_sr_hs = []\n",
        "      count_sr_hb = []\n",
        "      count_sr_ss = []\n",
        "      count_sr_sb = []\n",
        "\n",
        "      # Isolating the pitcher's data for the season\n",
        "      temp_df = data[data['pitcher']==pitcher]\n",
        "\n",
        "      # Get list of unique games in which they pitched. Skip if pitched in less than 3 games\n",
        "      uniq_games = temp_df['game_pk'].unique()\n",
        "      if len(uniq_games) < 3:\n",
        "        continue\n",
        "      else:\n",
        "        # Isolate each unique game \n",
        "        for game in uniq_games:\n",
        "          game_data = temp_df[temp_df['game_pk']==game]\n",
        "          # Create dfs for each pitch type\n",
        "          hard_straight = game_data.loc[game_data['pitch_name'].isin(hrd_strt)]\n",
        "          hard_breaking = game_data.loc[game_data['pitch_name'].isin(hrd_brkng)]\n",
        "          soft_straight = game_data.loc[game_data['pitch_name'].isin(sft_strt)]\n",
        "          soft_breaking = game_data.loc[game_data['pitch_name'].isin(sft_brkng)]\n",
        "          \n",
        "          # Get the count of each pitch type per game\n",
        "          count_hard_straight.append(len(hard_straight))\n",
        "          count_hard_breaking.append(len(hard_breaking))\n",
        "          count_soft_straight.append(len(soft_straight))\n",
        "          count_soft_breaking.append(len(soft_breaking))\n",
        "\n",
        "          # Get the count of putative reinforcers that followed each pitch type per game\n",
        "          count_sr_hs.append(hard_straight[hard_straight[sr_type]>0][sr_type].sum())\n",
        "          count_sr_hb.append(hard_breaking[hard_breaking[sr_type]>0][sr_type].sum())\n",
        "          count_sr_ss.append(soft_straight[soft_straight[sr_type]>0][sr_type].sum())\n",
        "          count_sr_sb.append(soft_breaking[soft_breaking[sr_type]>0][sr_type].sum())\n",
        "\n",
        "      # Log pitch and outcome ratios using fastball as Bi\n",
        "      logged_bx = []\n",
        "      logged_strikes = []\n",
        "      for l in list(range(len(count_hard_straight))):\n",
        "        behavior = (count_hard_straight[l]+1)/(count_hard_breaking[l] + count_soft_straight[l] + count_soft_breaking[l]+1)\n",
        "        strikes = (count_sr_hs[l]+1)/(count_sr_hb[l] + count_sr_ss[l] + count_sr_sb[l]+1)\n",
        "        logged_bx.append(math.log(behavior, 10))\n",
        "        logged_strikes.append(math.log(strikes, 10))\n",
        "      count_data = pd.DataFrame({'Logged_Bx':logged_bx, 'Logged_Strikes':logged_strikes})\n",
        "      count_data.fillna(0)\n",
        "      \n",
        "      # Fit the GME and return the parameters\n",
        "      if len(count_data)>0:\n",
        "        s_str, b_str = np.polyfit(count_data['Logged_Strikes'], count_data['Logged_Bx'], 1)\n",
        "        corrmatSTR = np.corrcoef(count_data['Logged_Strikes'], count_data['Logged_Bx'])\n",
        "        r2_str = (corrmatSTR[0,1])**2\n",
        "\n",
        "        # Append matching params\n",
        "        year.append(yr)\n",
        "        pitcher_id.append(pitcher)\n",
        "        reinforcer.append(sr_type)\n",
        "        vac.append(round(r2_str, 4))\n",
        "        bias.append(round(b_str, 4))\n",
        "        sensitivity.append(round(s_str, 4))\n",
        "      else:\n",
        "        continue\n",
        "    \n",
        "    # After every 5th player completed in a season...\n",
        "    # Save data\n",
        "    player_fits = pd.DataFrame({'Player':pitcher_id,\n",
        "                                'Season':year,\n",
        "                                'Reinforcer': reinforcer, \n",
        "                                'VAC':vac,\n",
        "                                'Bias':bias,\n",
        "                                'Sensitivity':sensitivity,\n",
        "                                })\n",
        "    player_fits.to_csv(f'../Data/06_model_output/gme_fits_{yr}.csv')\n",
        "\n",
        "    # Provide notebook user with update on progress \n",
        "    count +=1\n",
        "    if count%5==0:\n",
        "      clear_output()\n",
        "      print(f\"Working on {yr}\\n{count} completed out of {len(uniq_p)}. ({round(100*(count/len(uniq_p)), 2)}%)\")"
      ],
      "metadata": {
        "colab": {
          "base_uri": "https://localhost:8080/"
        },
        "id": "seBF9l_bxvia",
        "outputId": "188a1164-9e7f-42f9-dddb-ae9f433aff1b"
      },
      "execution_count": null,
      "outputs": [
        {
          "output_type": "stream",
          "name": "stdout",
          "text": [
            "Working on 2008\n",
            "505 completed out of 630. (80.16%)\n"
          ]
        }
      ]
    }
  ]
}