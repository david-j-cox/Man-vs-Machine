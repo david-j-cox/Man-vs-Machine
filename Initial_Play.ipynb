{
 "cells": [
  {
   "cell_type": "code",
   "execution_count": 1,
   "metadata": {},
   "outputs": [
    {
     "name": "stdout",
     "output_type": "stream",
     "text": [
      "/Users/dcox/Dropbox/Projects/CurrentProjectManuscripts/Empirical/PersonalFun/Matching/KaggleWebscrapingAnalysis/data\n"
     ]
    }
   ],
   "source": [
    "cd /Users/dcox/Dropbox/Projects/CurrentProjectManuscripts/Empirical/PersonalFun/Matching/KaggleWebscrapingAnalysis/data"
   ]
  },
  {
   "cell_type": "code",
   "execution_count": 2,
   "metadata": {},
   "outputs": [],
   "source": [
    "import pandas as pd\n",
    "import numpy as np\n",
    "import matplotlib.pyplot as plt\n",
    "import seaborn as sns\n",
    "from pandas_profiling import ProfileReport"
   ]
  },
  {
   "cell_type": "code",
   "execution_count": null,
   "metadata": {},
   "outputs": [],
   "source": [
    "# Read in data\n",
    "at_bats = pd.read_csv('atbats.csv')\n",
    "games = pd.read_csv('games.csv')\n",
    "pitches = pd.read_csv('pitches.csv')\n",
    "data = pd.read_csv('merged_data.csv')\n",
    "data = data.drop(['Unnamed: 0'], axis=1)\n",
    "df = data.copy()"
   ]
  },
  {
   "cell_type": "code",
   "execution_count": null,
   "metadata": {},
   "outputs": [],
   "source": [
    "# Left join pitches and at_bats on ab_id column\n",
    "data = pitches.merge(at_bats, on='ab_id', how='left')\n",
    "data.to_csv('merged_data.csv')"
   ]
  },
  {
   "cell_type": "code",
   "execution_count": null,
   "metadata": {},
   "outputs": [],
   "source": [
    "df.dtypes"
   ]
  },
  {
   "cell_type": "code",
   "execution_count": null,
   "metadata": {},
   "outputs": [],
   "source": [
    "# Create one df for objects and one df for ints\n",
    "data_obj = ['code', 'type', 'pitch_type', 'event', 'p_throws', 'stand', 'top']\n",
    "data_objs = data[data_obj]\n",
    "data_ints = data.drop(data[data_obj], axis=1)\n",
    "data_ints_cols = list(data_ints)"
   ]
  },
  {
   "cell_type": "code",
   "execution_count": null,
   "metadata": {},
   "outputs": [],
   "source": [
    "# Histograms of \n",
    "data_ints.hist(figsize=(30, 30))"
   ]
  },
  {
   "cell_type": "code",
   "execution_count": null,
   "metadata": {},
   "outputs": [],
   "source": [
    "players = df.batter_id.unique()\n",
    "len(players)"
   ]
  },
  {
   "cell_type": "code",
   "execution_count": null,
   "metadata": {},
   "outputs": [],
   "source": [
    "# Determine how many at-bats each player had across the three years\n",
    "ab_counts = []\n",
    "pitches_seen = []\n",
    "games_played = []\n",
    "for i in players:\n",
    "    rows = df.loc[df['batter_id']==i]\n",
    "    ab_count = len(rows['ab_id'].unique())\n",
    "    pitches = len(rows)\n",
    "    games = len(rows['g_id'].unique())\n",
    "    ab_counts.append(ab_count)\n",
    "    pitches_seen.append(pitches)\n",
    "    games_played.append(games)"
   ]
  },
  {
   "cell_type": "code",
   "execution_count": null,
   "metadata": {},
   "outputs": [],
   "source": [
    "print(len(ab_counts), len(pitches_seen), len(games_played))"
   ]
  },
  {
   "cell_type": "code",
   "execution_count": null,
   "metadata": {},
   "outputs": [],
   "source": [
    "# See how many players we have available based on different cutoffs of total games played. \n",
    "vals = list(range(0, len(games_played)))\n",
    "num_remain = []\n",
    "for i in vals:\n",
    "    count = len([1 for j in games_played if j >i])\n",
    "    num_remain.append(count)\n",
    "plt.plot(num_remain, color='black')\n",
    "plt.ylabel('Number of Players', fontsize=20)\n",
    "plt.xlabel('Number of Games Played', fontsize=20)"
   ]
  },
  {
   "cell_type": "code",
   "execution_count": null,
   "metadata": {},
   "outputs": [],
   "source": [
    "# See how many players we have available based on different cutoffs of number of at-bats played. \n",
    "vals = list(range(0, len(ab_counts)))\n",
    "num_remain = []\n",
    "for i in vals:\n",
    "    count = len([1 for j in ab_counts if j >i])\n",
    "    num_remain.append(count)\n",
    "plt.plot(num_remain, color='black')\n",
    "plt.ylabel('Number of Players', fontsize=20)\n",
    "plt.xlabel('Number of At-Bats', fontsize=20)"
   ]
  },
  {
   "cell_type": "code",
   "execution_count": null,
   "metadata": {},
   "outputs": [],
   "source": []
  }
 ],
 "metadata": {
  "kernelspec": {
   "display_name": "Python 3",
   "language": "python",
   "name": "python3"
  },
  "language_info": {
   "codemirror_mode": {
    "name": "ipython",
    "version": 3
   },
   "file_extension": ".py",
   "mimetype": "text/x-python",
   "name": "python",
   "nbconvert_exporter": "python",
   "pygments_lexer": "ipython3",
   "version": "3.7.4"
  }
 },
 "nbformat": 4,
 "nbformat_minor": 2
}
