{
  "nbformat": 4,
  "nbformat_minor": 0,
  "metadata": {
    "colab": {
      "name": "add_re24_col.ipynb",
      "provenance": [],
      "collapsed_sections": [],
      "machine_shape": "hm",
      "toc_visible": true,
      "authorship_tag": "ABX9TyOJrYjZ/Y9xnT1fQAXD206u",
      "include_colab_link": true
    },
    "kernelspec": {
      "name": "python3",
      "display_name": "Python 3"
    },
    "accelerator": "TPU"
  },
  "cells": [
    {
      "cell_type": "markdown",
      "metadata": {
        "id": "view-in-github",
        "colab_type": "text"
      },
      "source": [
        "<a href=\"https://colab.research.google.com/github/david-j-cox/Man-vs-Machine/blob/master/add_re24_col.ipynb\" target=\"_parent\"><img src=\"https://colab.research.google.com/assets/colab-badge.svg\" alt=\"Open In Colab\"/></a>"
      ]
    },
    {
      "cell_type": "markdown",
      "source": [
        "# Environment Setup"
      ],
      "metadata": {
        "id": "w_tvwWBcIGHB"
      }
    },
    {
      "cell_type": "code",
      "metadata": {
        "id": "IJzp_Hw7cA5U",
        "outputId": "3cdf2c32-e89e-4168-c409-31862bb5046d",
        "colab": {
          "base_uri": "https://localhost:8080/"
        }
      },
      "source": [
        "# Set path to data\n",
        "from google.colab import drive\n",
        "drive.mount('/content/gdrive')\n",
        "%cd './gdrive/My Drive/GME & MLB/'"
      ],
      "execution_count": 2,
      "outputs": [
        {
          "output_type": "stream",
          "name": "stdout",
          "text": [
            "Mounted at /content/gdrive\n",
            "/content/gdrive/My Drive/GME & MLB\n"
          ]
        }
      ]
    },
    {
      "cell_type": "code",
      "source": [
        "# Connect TPU\n",
        "%tensorflow_version 2.x\n",
        "import tensorflow as tf\n",
        "print(\"Tensorflow version \" + tf.__version__)\n",
        "\n",
        "try:\n",
        "  tpu = tf.distribute.cluster_resolver.TPUClusterResolver()  # TPU detection\n",
        "  print('Running on TPU ', tpu.cluster_spec().as_dict()['worker'])\n",
        "except ValueError:\n",
        "  raise BaseException('ERROR: Not connected to a TPU runtime')\n",
        "\n",
        "tf.config.experimental_connect_to_cluster(tpu)\n",
        "tf.tpu.experimental.initialize_tpu_system(tpu)\n",
        "tpu_strategy = tf.distribute.experimental.TPUStrategy(tpu)"
      ],
      "metadata": {
        "colab": {
          "base_uri": "https://localhost:8080/"
        },
        "id": "Nsup_btTAfKJ",
        "outputId": "7ff53339-1c69-4e20-c0ed-99d84e674e3b"
      },
      "execution_count": 3,
      "outputs": [
        {
          "output_type": "stream",
          "name": "stdout",
          "text": [
            "Tensorflow version 2.7.0\n",
            "Running on TPU  ['10.78.120.194:8470']\n",
            "INFO:tensorflow:Deallocate tpu buffers before initializing tpu system.\n"
          ]
        },
        {
          "output_type": "stream",
          "name": "stderr",
          "text": [
            "INFO:tensorflow:Deallocate tpu buffers before initializing tpu system.\n"
          ]
        },
        {
          "output_type": "stream",
          "name": "stdout",
          "text": [
            "INFO:tensorflow:Initializing the TPU system: grpc://10.78.120.194:8470\n"
          ]
        },
        {
          "output_type": "stream",
          "name": "stderr",
          "text": [
            "INFO:tensorflow:Initializing the TPU system: grpc://10.78.120.194:8470\n"
          ]
        },
        {
          "output_type": "stream",
          "name": "stdout",
          "text": [
            "INFO:tensorflow:Finished initializing TPU system.\n"
          ]
        },
        {
          "output_type": "stream",
          "name": "stderr",
          "text": [
            "INFO:tensorflow:Finished initializing TPU system.\n",
            "WARNING:absl:`tf.distribute.experimental.TPUStrategy` is deprecated, please use  the non experimental symbol `tf.distribute.TPUStrategy` instead.\n"
          ]
        },
        {
          "output_type": "stream",
          "name": "stdout",
          "text": [
            "INFO:tensorflow:Found TPU system:\n"
          ]
        },
        {
          "output_type": "stream",
          "name": "stderr",
          "text": [
            "INFO:tensorflow:Found TPU system:\n"
          ]
        },
        {
          "output_type": "stream",
          "name": "stdout",
          "text": [
            "INFO:tensorflow:*** Num TPU Cores: 8\n"
          ]
        },
        {
          "output_type": "stream",
          "name": "stderr",
          "text": [
            "INFO:tensorflow:*** Num TPU Cores: 8\n"
          ]
        },
        {
          "output_type": "stream",
          "name": "stdout",
          "text": [
            "INFO:tensorflow:*** Num TPU Workers: 1\n"
          ]
        },
        {
          "output_type": "stream",
          "name": "stderr",
          "text": [
            "INFO:tensorflow:*** Num TPU Workers: 1\n"
          ]
        },
        {
          "output_type": "stream",
          "name": "stdout",
          "text": [
            "INFO:tensorflow:*** Num TPU Cores Per Worker: 8\n"
          ]
        },
        {
          "output_type": "stream",
          "name": "stderr",
          "text": [
            "INFO:tensorflow:*** Num TPU Cores Per Worker: 8\n"
          ]
        },
        {
          "output_type": "stream",
          "name": "stdout",
          "text": [
            "INFO:tensorflow:*** Available Device: _DeviceAttributes(/job:localhost/replica:0/task:0/device:CPU:0, CPU, 0, 0)\n"
          ]
        },
        {
          "output_type": "stream",
          "name": "stderr",
          "text": [
            "INFO:tensorflow:*** Available Device: _DeviceAttributes(/job:localhost/replica:0/task:0/device:CPU:0, CPU, 0, 0)\n"
          ]
        },
        {
          "output_type": "stream",
          "name": "stdout",
          "text": [
            "INFO:tensorflow:*** Available Device: _DeviceAttributes(/job:worker/replica:0/task:0/device:CPU:0, CPU, 0, 0)\n"
          ]
        },
        {
          "output_type": "stream",
          "name": "stderr",
          "text": [
            "INFO:tensorflow:*** Available Device: _DeviceAttributes(/job:worker/replica:0/task:0/device:CPU:0, CPU, 0, 0)\n"
          ]
        },
        {
          "output_type": "stream",
          "name": "stdout",
          "text": [
            "INFO:tensorflow:*** Available Device: _DeviceAttributes(/job:worker/replica:0/task:0/device:TPU:0, TPU, 0, 0)\n"
          ]
        },
        {
          "output_type": "stream",
          "name": "stderr",
          "text": [
            "INFO:tensorflow:*** Available Device: _DeviceAttributes(/job:worker/replica:0/task:0/device:TPU:0, TPU, 0, 0)\n"
          ]
        },
        {
          "output_type": "stream",
          "name": "stdout",
          "text": [
            "INFO:tensorflow:*** Available Device: _DeviceAttributes(/job:worker/replica:0/task:0/device:TPU:1, TPU, 0, 0)\n"
          ]
        },
        {
          "output_type": "stream",
          "name": "stderr",
          "text": [
            "INFO:tensorflow:*** Available Device: _DeviceAttributes(/job:worker/replica:0/task:0/device:TPU:1, TPU, 0, 0)\n"
          ]
        },
        {
          "output_type": "stream",
          "name": "stdout",
          "text": [
            "INFO:tensorflow:*** Available Device: _DeviceAttributes(/job:worker/replica:0/task:0/device:TPU:2, TPU, 0, 0)\n"
          ]
        },
        {
          "output_type": "stream",
          "name": "stderr",
          "text": [
            "INFO:tensorflow:*** Available Device: _DeviceAttributes(/job:worker/replica:0/task:0/device:TPU:2, TPU, 0, 0)\n"
          ]
        },
        {
          "output_type": "stream",
          "name": "stdout",
          "text": [
            "INFO:tensorflow:*** Available Device: _DeviceAttributes(/job:worker/replica:0/task:0/device:TPU:3, TPU, 0, 0)\n"
          ]
        },
        {
          "output_type": "stream",
          "name": "stderr",
          "text": [
            "INFO:tensorflow:*** Available Device: _DeviceAttributes(/job:worker/replica:0/task:0/device:TPU:3, TPU, 0, 0)\n"
          ]
        },
        {
          "output_type": "stream",
          "name": "stdout",
          "text": [
            "INFO:tensorflow:*** Available Device: _DeviceAttributes(/job:worker/replica:0/task:0/device:TPU:4, TPU, 0, 0)\n"
          ]
        },
        {
          "output_type": "stream",
          "name": "stderr",
          "text": [
            "INFO:tensorflow:*** Available Device: _DeviceAttributes(/job:worker/replica:0/task:0/device:TPU:4, TPU, 0, 0)\n"
          ]
        },
        {
          "output_type": "stream",
          "name": "stdout",
          "text": [
            "INFO:tensorflow:*** Available Device: _DeviceAttributes(/job:worker/replica:0/task:0/device:TPU:5, TPU, 0, 0)\n"
          ]
        },
        {
          "output_type": "stream",
          "name": "stderr",
          "text": [
            "INFO:tensorflow:*** Available Device: _DeviceAttributes(/job:worker/replica:0/task:0/device:TPU:5, TPU, 0, 0)\n"
          ]
        },
        {
          "output_type": "stream",
          "name": "stdout",
          "text": [
            "INFO:tensorflow:*** Available Device: _DeviceAttributes(/job:worker/replica:0/task:0/device:TPU:6, TPU, 0, 0)\n"
          ]
        },
        {
          "output_type": "stream",
          "name": "stderr",
          "text": [
            "INFO:tensorflow:*** Available Device: _DeviceAttributes(/job:worker/replica:0/task:0/device:TPU:6, TPU, 0, 0)\n"
          ]
        },
        {
          "output_type": "stream",
          "name": "stdout",
          "text": [
            "INFO:tensorflow:*** Available Device: _DeviceAttributes(/job:worker/replica:0/task:0/device:TPU:7, TPU, 0, 0)\n"
          ]
        },
        {
          "output_type": "stream",
          "name": "stderr",
          "text": [
            "INFO:tensorflow:*** Available Device: _DeviceAttributes(/job:worker/replica:0/task:0/device:TPU:7, TPU, 0, 0)\n"
          ]
        },
        {
          "output_type": "stream",
          "name": "stdout",
          "text": [
            "INFO:tensorflow:*** Available Device: _DeviceAttributes(/job:worker/replica:0/task:0/device:TPU_SYSTEM:0, TPU_SYSTEM, 0, 0)\n"
          ]
        },
        {
          "output_type": "stream",
          "name": "stderr",
          "text": [
            "INFO:tensorflow:*** Available Device: _DeviceAttributes(/job:worker/replica:0/task:0/device:TPU_SYSTEM:0, TPU_SYSTEM, 0, 0)\n"
          ]
        },
        {
          "output_type": "stream",
          "name": "stdout",
          "text": [
            "INFO:tensorflow:*** Available Device: _DeviceAttributes(/job:worker/replica:0/task:0/device:XLA_CPU:0, XLA_CPU, 0, 0)\n"
          ]
        },
        {
          "output_type": "stream",
          "name": "stderr",
          "text": [
            "INFO:tensorflow:*** Available Device: _DeviceAttributes(/job:worker/replica:0/task:0/device:XLA_CPU:0, XLA_CPU, 0, 0)\n"
          ]
        }
      ]
    },
    {
      "cell_type": "code",
      "metadata": {
        "id": "foAYzI13dAQu",
        "outputId": "ab89cdc2-9840-4a5a-f9e3-d7cebdc78687",
        "colab": {
          "base_uri": "https://localhost:8080/"
        }
      },
      "source": [
        "# Packages we'll use\n",
        "import pandas as pd\n",
        "import numpy as np\n",
        "import matplotlib.pyplot as plt\n",
        "import seaborn as sns\n",
        "import glob\n",
        "from google.colab import files\n",
        "import zipfile, io, os\n",
        "# Load in RE24 game state function; uncomment next line if first time using\n",
        "# files.upload()\n",
        "from RE24 import RE24_calc\n",
        "from IPython.display import HTML, display, clear_output\n",
        "import time\n",
        "print(\"Packages loaded\")"
      ],
      "execution_count": 4,
      "outputs": [
        {
          "output_type": "stream",
          "name": "stdout",
          "text": [
            "Packages loaded\n"
          ]
        }
      ]
    },
    {
      "cell_type": "code",
      "metadata": {
        "id": "gzSKb56fdNh3",
        "outputId": "1ef16883-b522-4d66-f8f4-416d17774234",
        "colab": {
          "base_uri": "https://localhost:8080/",
          "height": 543
        }
      },
      "source": [
        "# Load dfs if starting from here\n",
        "data_raw = pd.read_csv('./Data/01_raw/all_pitches_08_19.csv').drop(['Unnamed: 0'], axis=1)\n",
        "df_gs_spec = data_raw.copy()\n",
        "df_gs_spec.head()"
      ],
      "execution_count": 42,
      "outputs": [
        {
          "output_type": "stream",
          "name": "stderr",
          "text": [
            "/usr/local/lib/python3.7/dist-packages/IPython/core/interactiveshell.py:2718: DtypeWarning: Columns (44,88,89) have mixed types.Specify dtype option on import or set low_memory=False.\n",
            "  interactivity=interactivity, compiler=compiler, result=result)\n"
          ]
        },
        {
          "output_type": "execute_result",
          "data": {
            "text/html": [
              "\n",
              "  <div id=\"df-df6368b4-8a22-44db-a310-b5c746aaf757\">\n",
              "    <div class=\"colab-df-container\">\n",
              "      <div>\n",
              "<style scoped>\n",
              "    .dataframe tbody tr th:only-of-type {\n",
              "        vertical-align: middle;\n",
              "    }\n",
              "\n",
              "    .dataframe tbody tr th {\n",
              "        vertical-align: top;\n",
              "    }\n",
              "\n",
              "    .dataframe thead th {\n",
              "        text-align: right;\n",
              "    }\n",
              "</style>\n",
              "<table border=\"1\" class=\"dataframe\">\n",
              "  <thead>\n",
              "    <tr style=\"text-align: right;\">\n",
              "      <th></th>\n",
              "      <th>pitch_type</th>\n",
              "      <th>game_date</th>\n",
              "      <th>release_speed</th>\n",
              "      <th>release_pos_x</th>\n",
              "      <th>release_pos_z</th>\n",
              "      <th>player_name</th>\n",
              "      <th>batter</th>\n",
              "      <th>pitcher</th>\n",
              "      <th>events</th>\n",
              "      <th>description</th>\n",
              "      <th>spin_dir</th>\n",
              "      <th>spin_rate_deprecated</th>\n",
              "      <th>break_angle_deprecated</th>\n",
              "      <th>break_length_deprecated</th>\n",
              "      <th>zone</th>\n",
              "      <th>des</th>\n",
              "      <th>game_type</th>\n",
              "      <th>stand</th>\n",
              "      <th>p_throws</th>\n",
              "      <th>home_team</th>\n",
              "      <th>away_team</th>\n",
              "      <th>type</th>\n",
              "      <th>hit_location</th>\n",
              "      <th>bb_type</th>\n",
              "      <th>balls</th>\n",
              "      <th>strikes</th>\n",
              "      <th>game_year</th>\n",
              "      <th>pfx_x</th>\n",
              "      <th>pfx_z</th>\n",
              "      <th>plate_x</th>\n",
              "      <th>plate_z</th>\n",
              "      <th>on_3b</th>\n",
              "      <th>on_2b</th>\n",
              "      <th>on_1b</th>\n",
              "      <th>outs_when_up</th>\n",
              "      <th>inning</th>\n",
              "      <th>inning_topbot</th>\n",
              "      <th>hc_x</th>\n",
              "      <th>hc_y</th>\n",
              "      <th>tfs_deprecated</th>\n",
              "      <th>...</th>\n",
              "      <th>az</th>\n",
              "      <th>sz_top</th>\n",
              "      <th>sz_bot</th>\n",
              "      <th>hit_distance_sc</th>\n",
              "      <th>launch_speed</th>\n",
              "      <th>launch_angle</th>\n",
              "      <th>effective_speed</th>\n",
              "      <th>release_spin_rate</th>\n",
              "      <th>release_extension</th>\n",
              "      <th>game_pk</th>\n",
              "      <th>pitcher.1</th>\n",
              "      <th>fielder_2.1</th>\n",
              "      <th>fielder_3</th>\n",
              "      <th>fielder_4</th>\n",
              "      <th>fielder_5</th>\n",
              "      <th>fielder_6</th>\n",
              "      <th>fielder_7</th>\n",
              "      <th>fielder_8</th>\n",
              "      <th>fielder_9</th>\n",
              "      <th>release_pos_y</th>\n",
              "      <th>estimated_ba_using_speedangle</th>\n",
              "      <th>estimated_woba_using_speedangle</th>\n",
              "      <th>woba_value</th>\n",
              "      <th>woba_denom</th>\n",
              "      <th>babip_value</th>\n",
              "      <th>iso_value</th>\n",
              "      <th>launch_speed_angle</th>\n",
              "      <th>at_bat_number</th>\n",
              "      <th>pitch_number</th>\n",
              "      <th>pitch_name</th>\n",
              "      <th>home_score</th>\n",
              "      <th>away_score</th>\n",
              "      <th>bat_score</th>\n",
              "      <th>fld_score</th>\n",
              "      <th>post_away_score</th>\n",
              "      <th>post_home_score</th>\n",
              "      <th>post_bat_score</th>\n",
              "      <th>post_fld_score</th>\n",
              "      <th>if_fielding_alignment</th>\n",
              "      <th>of_fielding_alignment</th>\n",
              "    </tr>\n",
              "  </thead>\n",
              "  <tbody>\n",
              "    <tr>\n",
              "      <th>0</th>\n",
              "      <td>FF</td>\n",
              "      <td>2019-09-29</td>\n",
              "      <td>94.9</td>\n",
              "      <td>-2.3738</td>\n",
              "      <td>5.1379</td>\n",
              "      <td>Ian Kennedy</td>\n",
              "      <td>570731</td>\n",
              "      <td>453178</td>\n",
              "      <td>field_out</td>\n",
              "      <td>hit_into_play</td>\n",
              "      <td>NaN</td>\n",
              "      <td>NaN</td>\n",
              "      <td>NaN</td>\n",
              "      <td>NaN</td>\n",
              "      <td>3.0</td>\n",
              "      <td>Jonathan Schoop pops out to second baseman Eri...</td>\n",
              "      <td>R</td>\n",
              "      <td>R</td>\n",
              "      <td>R</td>\n",
              "      <td>KC</td>\n",
              "      <td>MIN</td>\n",
              "      <td>X</td>\n",
              "      <td>4.0</td>\n",
              "      <td>popup</td>\n",
              "      <td>1</td>\n",
              "      <td>1</td>\n",
              "      <td>2019</td>\n",
              "      <td>-0.9097</td>\n",
              "      <td>1.1972</td>\n",
              "      <td>0.3906</td>\n",
              "      <td>3.1900</td>\n",
              "      <td>NaN</td>\n",
              "      <td>NaN</td>\n",
              "      <td>NaN</td>\n",
              "      <td>2</td>\n",
              "      <td>9</td>\n",
              "      <td>Top</td>\n",
              "      <td>134.2</td>\n",
              "      <td>170.51</td>\n",
              "      <td>NaN</td>\n",
              "      <td>...</td>\n",
              "      <td>-16.6055</td>\n",
              "      <td>3.5400</td>\n",
              "      <td>1.6800</td>\n",
              "      <td>NaN</td>\n",
              "      <td>80.0</td>\n",
              "      <td>69.0</td>\n",
              "      <td>95.087</td>\n",
              "      <td>2430.0</td>\n",
              "      <td>6.245</td>\n",
              "      <td>565782</td>\n",
              "      <td>453178</td>\n",
              "      <td>664926.0</td>\n",
              "      <td>656811.0</td>\n",
              "      <td>625510.0</td>\n",
              "      <td>596144.0</td>\n",
              "      <td>600858.0</td>\n",
              "      <td>643436.0</td>\n",
              "      <td>621433.0</td>\n",
              "      <td>641531.0</td>\n",
              "      <td>54.2545</td>\n",
              "      <td>0.002</td>\n",
              "      <td>0.0</td>\n",
              "      <td>0.0</td>\n",
              "      <td>1.0</td>\n",
              "      <td>0.0</td>\n",
              "      <td>0.0</td>\n",
              "      <td>3.0</td>\n",
              "      <td>67</td>\n",
              "      <td>3</td>\n",
              "      <td>4-Seam Fastball</td>\n",
              "      <td>4</td>\n",
              "      <td>4</td>\n",
              "      <td>4</td>\n",
              "      <td>4</td>\n",
              "      <td>4</td>\n",
              "      <td>4</td>\n",
              "      <td>4</td>\n",
              "      <td>4</td>\n",
              "      <td>Standard</td>\n",
              "      <td>Standard</td>\n",
              "    </tr>\n",
              "    <tr>\n",
              "      <th>1</th>\n",
              "      <td>FC</td>\n",
              "      <td>2019-09-29</td>\n",
              "      <td>91.6</td>\n",
              "      <td>-2.3719</td>\n",
              "      <td>5.2549</td>\n",
              "      <td>Ian Kennedy</td>\n",
              "      <td>570731</td>\n",
              "      <td>453178</td>\n",
              "      <td>NaN</td>\n",
              "      <td>ball</td>\n",
              "      <td>NaN</td>\n",
              "      <td>NaN</td>\n",
              "      <td>NaN</td>\n",
              "      <td>NaN</td>\n",
              "      <td>14.0</td>\n",
              "      <td>NaN</td>\n",
              "      <td>R</td>\n",
              "      <td>R</td>\n",
              "      <td>R</td>\n",
              "      <td>KC</td>\n",
              "      <td>MIN</td>\n",
              "      <td>B</td>\n",
              "      <td>NaN</td>\n",
              "      <td>NaN</td>\n",
              "      <td>0</td>\n",
              "      <td>1</td>\n",
              "      <td>2019</td>\n",
              "      <td>-0.1234</td>\n",
              "      <td>0.6398</td>\n",
              "      <td>1.1979</td>\n",
              "      <td>1.7012</td>\n",
              "      <td>NaN</td>\n",
              "      <td>NaN</td>\n",
              "      <td>NaN</td>\n",
              "      <td>2</td>\n",
              "      <td>9</td>\n",
              "      <td>Top</td>\n",
              "      <td>NaN</td>\n",
              "      <td>NaN</td>\n",
              "      <td>NaN</td>\n",
              "      <td>...</td>\n",
              "      <td>-23.8739</td>\n",
              "      <td>3.5473</td>\n",
              "      <td>1.6873</td>\n",
              "      <td>NaN</td>\n",
              "      <td>NaN</td>\n",
              "      <td>NaN</td>\n",
              "      <td>92.040</td>\n",
              "      <td>2206.0</td>\n",
              "      <td>6.192</td>\n",
              "      <td>565782</td>\n",
              "      <td>453178</td>\n",
              "      <td>664926.0</td>\n",
              "      <td>656811.0</td>\n",
              "      <td>625510.0</td>\n",
              "      <td>596144.0</td>\n",
              "      <td>600858.0</td>\n",
              "      <td>643436.0</td>\n",
              "      <td>621433.0</td>\n",
              "      <td>641531.0</td>\n",
              "      <td>54.3079</td>\n",
              "      <td>NaN</td>\n",
              "      <td>NaN</td>\n",
              "      <td>NaN</td>\n",
              "      <td>NaN</td>\n",
              "      <td>NaN</td>\n",
              "      <td>NaN</td>\n",
              "      <td>NaN</td>\n",
              "      <td>67</td>\n",
              "      <td>2</td>\n",
              "      <td>Cutter</td>\n",
              "      <td>4</td>\n",
              "      <td>4</td>\n",
              "      <td>4</td>\n",
              "      <td>4</td>\n",
              "      <td>4</td>\n",
              "      <td>4</td>\n",
              "      <td>4</td>\n",
              "      <td>4</td>\n",
              "      <td>Standard</td>\n",
              "      <td>Standard</td>\n",
              "    </tr>\n",
              "    <tr>\n",
              "      <th>2</th>\n",
              "      <td>FF</td>\n",
              "      <td>2019-09-29</td>\n",
              "      <td>95.0</td>\n",
              "      <td>-2.1334</td>\n",
              "      <td>5.1900</td>\n",
              "      <td>Ian Kennedy</td>\n",
              "      <td>570731</td>\n",
              "      <td>453178</td>\n",
              "      <td>NaN</td>\n",
              "      <td>called_strike</td>\n",
              "      <td>NaN</td>\n",
              "      <td>NaN</td>\n",
              "      <td>NaN</td>\n",
              "      <td>NaN</td>\n",
              "      <td>8.0</td>\n",
              "      <td>NaN</td>\n",
              "      <td>R</td>\n",
              "      <td>R</td>\n",
              "      <td>R</td>\n",
              "      <td>KC</td>\n",
              "      <td>MIN</td>\n",
              "      <td>S</td>\n",
              "      <td>NaN</td>\n",
              "      <td>NaN</td>\n",
              "      <td>0</td>\n",
              "      <td>0</td>\n",
              "      <td>2019</td>\n",
              "      <td>-0.8063</td>\n",
              "      <td>1.0940</td>\n",
              "      <td>-0.0142</td>\n",
              "      <td>1.8812</td>\n",
              "      <td>NaN</td>\n",
              "      <td>NaN</td>\n",
              "      <td>NaN</td>\n",
              "      <td>2</td>\n",
              "      <td>9</td>\n",
              "      <td>Top</td>\n",
              "      <td>NaN</td>\n",
              "      <td>NaN</td>\n",
              "      <td>NaN</td>\n",
              "      <td>...</td>\n",
              "      <td>-16.9976</td>\n",
              "      <td>3.5473</td>\n",
              "      <td>1.6873</td>\n",
              "      <td>NaN</td>\n",
              "      <td>NaN</td>\n",
              "      <td>NaN</td>\n",
              "      <td>96.259</td>\n",
              "      <td>2400.0</td>\n",
              "      <td>6.533</td>\n",
              "      <td>565782</td>\n",
              "      <td>453178</td>\n",
              "      <td>664926.0</td>\n",
              "      <td>656811.0</td>\n",
              "      <td>625510.0</td>\n",
              "      <td>596144.0</td>\n",
              "      <td>600858.0</td>\n",
              "      <td>643436.0</td>\n",
              "      <td>621433.0</td>\n",
              "      <td>641531.0</td>\n",
              "      <td>53.9663</td>\n",
              "      <td>NaN</td>\n",
              "      <td>NaN</td>\n",
              "      <td>NaN</td>\n",
              "      <td>NaN</td>\n",
              "      <td>NaN</td>\n",
              "      <td>NaN</td>\n",
              "      <td>NaN</td>\n",
              "      <td>67</td>\n",
              "      <td>1</td>\n",
              "      <td>4-Seam Fastball</td>\n",
              "      <td>4</td>\n",
              "      <td>4</td>\n",
              "      <td>4</td>\n",
              "      <td>4</td>\n",
              "      <td>4</td>\n",
              "      <td>4</td>\n",
              "      <td>4</td>\n",
              "      <td>4</td>\n",
              "      <td>Standard</td>\n",
              "      <td>Standard</td>\n",
              "    </tr>\n",
              "    <tr>\n",
              "      <th>3</th>\n",
              "      <td>FF</td>\n",
              "      <td>2019-09-29</td>\n",
              "      <td>95.5</td>\n",
              "      <td>-2.3222</td>\n",
              "      <td>5.1256</td>\n",
              "      <td>Ian Kennedy</td>\n",
              "      <td>595909</td>\n",
              "      <td>453178</td>\n",
              "      <td>strikeout</td>\n",
              "      <td>swinging_strike</td>\n",
              "      <td>NaN</td>\n",
              "      <td>NaN</td>\n",
              "      <td>NaN</td>\n",
              "      <td>NaN</td>\n",
              "      <td>11.0</td>\n",
              "      <td>Jake Cave strikes out swinging.</td>\n",
              "      <td>R</td>\n",
              "      <td>L</td>\n",
              "      <td>R</td>\n",
              "      <td>KC</td>\n",
              "      <td>MIN</td>\n",
              "      <td>S</td>\n",
              "      <td>2.0</td>\n",
              "      <td>NaN</td>\n",
              "      <td>1</td>\n",
              "      <td>2</td>\n",
              "      <td>2019</td>\n",
              "      <td>-0.9011</td>\n",
              "      <td>1.0580</td>\n",
              "      <td>-0.8813</td>\n",
              "      <td>2.9723</td>\n",
              "      <td>NaN</td>\n",
              "      <td>NaN</td>\n",
              "      <td>NaN</td>\n",
              "      <td>1</td>\n",
              "      <td>9</td>\n",
              "      <td>Top</td>\n",
              "      <td>NaN</td>\n",
              "      <td>NaN</td>\n",
              "      <td>NaN</td>\n",
              "      <td>...</td>\n",
              "      <td>-18.0513</td>\n",
              "      <td>3.5400</td>\n",
              "      <td>1.6800</td>\n",
              "      <td>NaN</td>\n",
              "      <td>NaN</td>\n",
              "      <td>NaN</td>\n",
              "      <td>96.088</td>\n",
              "      <td>2564.0</td>\n",
              "      <td>6.223</td>\n",
              "      <td>565782</td>\n",
              "      <td>453178</td>\n",
              "      <td>664926.0</td>\n",
              "      <td>656811.0</td>\n",
              "      <td>625510.0</td>\n",
              "      <td>596144.0</td>\n",
              "      <td>600858.0</td>\n",
              "      <td>643436.0</td>\n",
              "      <td>621433.0</td>\n",
              "      <td>641531.0</td>\n",
              "      <td>54.2767</td>\n",
              "      <td>NaN</td>\n",
              "      <td>NaN</td>\n",
              "      <td>0.0</td>\n",
              "      <td>1.0</td>\n",
              "      <td>0.0</td>\n",
              "      <td>0.0</td>\n",
              "      <td>NaN</td>\n",
              "      <td>66</td>\n",
              "      <td>6</td>\n",
              "      <td>4-Seam Fastball</td>\n",
              "      <td>4</td>\n",
              "      <td>4</td>\n",
              "      <td>4</td>\n",
              "      <td>4</td>\n",
              "      <td>4</td>\n",
              "      <td>4</td>\n",
              "      <td>4</td>\n",
              "      <td>4</td>\n",
              "      <td>Standard</td>\n",
              "      <td>Standard</td>\n",
              "    </tr>\n",
              "    <tr>\n",
              "      <th>4</th>\n",
              "      <td>FF</td>\n",
              "      <td>2019-09-29</td>\n",
              "      <td>95.6</td>\n",
              "      <td>-2.1953</td>\n",
              "      <td>5.1823</td>\n",
              "      <td>Ian Kennedy</td>\n",
              "      <td>595909</td>\n",
              "      <td>453178</td>\n",
              "      <td>NaN</td>\n",
              "      <td>foul</td>\n",
              "      <td>NaN</td>\n",
              "      <td>NaN</td>\n",
              "      <td>NaN</td>\n",
              "      <td>NaN</td>\n",
              "      <td>3.0</td>\n",
              "      <td>NaN</td>\n",
              "      <td>R</td>\n",
              "      <td>L</td>\n",
              "      <td>R</td>\n",
              "      <td>KC</td>\n",
              "      <td>MIN</td>\n",
              "      <td>S</td>\n",
              "      <td>NaN</td>\n",
              "      <td>NaN</td>\n",
              "      <td>1</td>\n",
              "      <td>2</td>\n",
              "      <td>2019</td>\n",
              "      <td>-0.7817</td>\n",
              "      <td>1.2909</td>\n",
              "      <td>0.6739</td>\n",
              "      <td>3.3859</td>\n",
              "      <td>NaN</td>\n",
              "      <td>NaN</td>\n",
              "      <td>NaN</td>\n",
              "      <td>1</td>\n",
              "      <td>9</td>\n",
              "      <td>Top</td>\n",
              "      <td>NaN</td>\n",
              "      <td>NaN</td>\n",
              "      <td>NaN</td>\n",
              "      <td>...</td>\n",
              "      <td>-15.0374</td>\n",
              "      <td>3.3500</td>\n",
              "      <td>1.6300</td>\n",
              "      <td>161.0</td>\n",
              "      <td>61.0</td>\n",
              "      <td>52.2</td>\n",
              "      <td>96.121</td>\n",
              "      <td>2363.0</td>\n",
              "      <td>6.490</td>\n",
              "      <td>565782</td>\n",
              "      <td>453178</td>\n",
              "      <td>664926.0</td>\n",
              "      <td>656811.0</td>\n",
              "      <td>625510.0</td>\n",
              "      <td>596144.0</td>\n",
              "      <td>600858.0</td>\n",
              "      <td>643436.0</td>\n",
              "      <td>621433.0</td>\n",
              "      <td>641531.0</td>\n",
              "      <td>54.0092</td>\n",
              "      <td>NaN</td>\n",
              "      <td>NaN</td>\n",
              "      <td>NaN</td>\n",
              "      <td>NaN</td>\n",
              "      <td>NaN</td>\n",
              "      <td>NaN</td>\n",
              "      <td>NaN</td>\n",
              "      <td>66</td>\n",
              "      <td>5</td>\n",
              "      <td>4-Seam Fastball</td>\n",
              "      <td>4</td>\n",
              "      <td>4</td>\n",
              "      <td>4</td>\n",
              "      <td>4</td>\n",
              "      <td>4</td>\n",
              "      <td>4</td>\n",
              "      <td>4</td>\n",
              "      <td>4</td>\n",
              "      <td>Standard</td>\n",
              "      <td>Standard</td>\n",
              "    </tr>\n",
              "  </tbody>\n",
              "</table>\n",
              "<p>5 rows × 89 columns</p>\n",
              "</div>\n",
              "      <button class=\"colab-df-convert\" onclick=\"convertToInteractive('df-df6368b4-8a22-44db-a310-b5c746aaf757')\"\n",
              "              title=\"Convert this dataframe to an interactive table.\"\n",
              "              style=\"display:none;\">\n",
              "        \n",
              "  <svg xmlns=\"http://www.w3.org/2000/svg\" height=\"24px\"viewBox=\"0 0 24 24\"\n",
              "       width=\"24px\">\n",
              "    <path d=\"M0 0h24v24H0V0z\" fill=\"none\"/>\n",
              "    <path d=\"M18.56 5.44l.94 2.06.94-2.06 2.06-.94-2.06-.94-.94-2.06-.94 2.06-2.06.94zm-11 1L8.5 8.5l.94-2.06 2.06-.94-2.06-.94L8.5 2.5l-.94 2.06-2.06.94zm10 10l.94 2.06.94-2.06 2.06-.94-2.06-.94-.94-2.06-.94 2.06-2.06.94z\"/><path d=\"M17.41 7.96l-1.37-1.37c-.4-.4-.92-.59-1.43-.59-.52 0-1.04.2-1.43.59L10.3 9.45l-7.72 7.72c-.78.78-.78 2.05 0 2.83L4 21.41c.39.39.9.59 1.41.59.51 0 1.02-.2 1.41-.59l7.78-7.78 2.81-2.81c.8-.78.8-2.07 0-2.86zM5.41 20L4 18.59l7.72-7.72 1.47 1.35L5.41 20z\"/>\n",
              "  </svg>\n",
              "      </button>\n",
              "      \n",
              "  <style>\n",
              "    .colab-df-container {\n",
              "      display:flex;\n",
              "      flex-wrap:wrap;\n",
              "      gap: 12px;\n",
              "    }\n",
              "\n",
              "    .colab-df-convert {\n",
              "      background-color: #E8F0FE;\n",
              "      border: none;\n",
              "      border-radius: 50%;\n",
              "      cursor: pointer;\n",
              "      display: none;\n",
              "      fill: #1967D2;\n",
              "      height: 32px;\n",
              "      padding: 0 0 0 0;\n",
              "      width: 32px;\n",
              "    }\n",
              "\n",
              "    .colab-df-convert:hover {\n",
              "      background-color: #E2EBFA;\n",
              "      box-shadow: 0px 1px 2px rgba(60, 64, 67, 0.3), 0px 1px 3px 1px rgba(60, 64, 67, 0.15);\n",
              "      fill: #174EA6;\n",
              "    }\n",
              "\n",
              "    [theme=dark] .colab-df-convert {\n",
              "      background-color: #3B4455;\n",
              "      fill: #D2E3FC;\n",
              "    }\n",
              "\n",
              "    [theme=dark] .colab-df-convert:hover {\n",
              "      background-color: #434B5C;\n",
              "      box-shadow: 0px 1px 3px 1px rgba(0, 0, 0, 0.15);\n",
              "      filter: drop-shadow(0px 1px 2px rgba(0, 0, 0, 0.3));\n",
              "      fill: #FFFFFF;\n",
              "    }\n",
              "  </style>\n",
              "\n",
              "      <script>\n",
              "        const buttonEl =\n",
              "          document.querySelector('#df-df6368b4-8a22-44db-a310-b5c746aaf757 button.colab-df-convert');\n",
              "        buttonEl.style.display =\n",
              "          google.colab.kernel.accessAllowed ? 'block' : 'none';\n",
              "\n",
              "        async function convertToInteractive(key) {\n",
              "          const element = document.querySelector('#df-df6368b4-8a22-44db-a310-b5c746aaf757');\n",
              "          const dataTable =\n",
              "            await google.colab.kernel.invokeFunction('convertToInteractive',\n",
              "                                                     [key], {});\n",
              "          if (!dataTable) return;\n",
              "\n",
              "          const docLinkHtml = 'Like what you see? Visit the ' +\n",
              "            '<a target=\"_blank\" href=https://colab.research.google.com/notebooks/data_table.ipynb>data table notebook</a>'\n",
              "            + ' to learn more about interactive tables.';\n",
              "          element.innerHTML = '';\n",
              "          dataTable['output_type'] = 'display_data';\n",
              "          await google.colab.output.renderOutput(dataTable, element);\n",
              "          const docLink = document.createElement('div');\n",
              "          docLink.innerHTML = docLinkHtml;\n",
              "          element.appendChild(docLink);\n",
              "        }\n",
              "      </script>\n",
              "    </div>\n",
              "  </div>\n",
              "  "
            ],
            "text/plain": [
              "  pitch_type   game_date  ...  if_fielding_alignment  of_fielding_alignment\n",
              "0         FF  2019-09-29  ...               Standard               Standard\n",
              "1         FC  2019-09-29  ...               Standard               Standard\n",
              "2         FF  2019-09-29  ...               Standard               Standard\n",
              "3         FF  2019-09-29  ...               Standard               Standard\n",
              "4         FF  2019-09-29  ...               Standard               Standard\n",
              "\n",
              "[5 rows x 89 columns]"
            ]
          },
          "metadata": {},
          "execution_count": 42
        }
      ]
    },
    {
      "cell_type": "code",
      "source": [
        "df = df_gs_spec[['game_year', 'pitcher', 'batter', 'pitch_type', 'game_date', 'type', 'balls', 'strikes', \n",
        "                 'on_3b',\t'on_2b',\t'on_1b', \t'outs_when_up', 'inning', 'inning_topbot', 'pitch_number',\n",
        "                 'pitch_name',  'home_score',  'away_score', 'bat_score', 'fld_score',\n",
        "                 'post_away_score', 'post_home_score', 'post_bat_score', 'post_fld_score', \n",
        "                 'events', 'description']]"
      ],
      "metadata": {
        "id": "jPh50GLoMqBU"
      },
      "execution_count": 43,
      "outputs": []
    },
    {
      "cell_type": "code",
      "source": [
        "# Save it \n",
        "for col in ['on_1b', 'on_2b', 'on_3b', 'outs_when_up']:\n",
        "  df[col] = df[col].astype(float)\n",
        "  df[col] = df[col].fillna(0.0)\n",
        "df.to_csv('df_analysis.csv')"
      ],
      "metadata": {
        "id": "cWpNuOsEBQx8",
        "colab": {
          "base_uri": "https://localhost:8080/"
        },
        "outputId": "9cf86250-c1d2-4100-cf7c-0acdbca572f3"
      },
      "execution_count": 51,
      "outputs": [
        {
          "output_type": "stream",
          "name": "stderr",
          "text": [
            "/usr/local/lib/python3.7/dist-packages/ipykernel_launcher.py:3: SettingWithCopyWarning: \n",
            "A value is trying to be set on a copy of a slice from a DataFrame.\n",
            "Try using .loc[row_indexer,col_indexer] = value instead\n",
            "\n",
            "See the caveats in the documentation: https://pandas.pydata.org/pandas-docs/stable/user_guide/indexing.html#returning-a-view-versus-a-copy\n",
            "  This is separate from the ipykernel package so we can avoid doing imports until\n",
            "/usr/local/lib/python3.7/dist-packages/ipykernel_launcher.py:4: SettingWithCopyWarning: \n",
            "A value is trying to be set on a copy of a slice from a DataFrame.\n",
            "Try using .loc[row_indexer,col_indexer] = value instead\n",
            "\n",
            "See the caveats in the documentation: https://pandas.pydata.org/pandas-docs/stable/user_guide/indexing.html#returning-a-view-versus-a-copy\n",
            "  after removing the cwd from sys.path.\n"
          ]
        }
      ]
    },
    {
      "cell_type": "code",
      "source": [
        "# Segment out the years into dfs\n",
        "for year in df['game_year'].unique():\n",
        "  temp_df = df[df['game_year']==year]\n",
        "  temp_df.reset_index(drop=True)\n",
        "  temp_df.to_csv(f'./Data/02_intermediate/df_{year}.csv')"
      ],
      "metadata": {
        "id": "RQLIwrauP63g"
      },
      "execution_count": 45,
      "outputs": []
    },
    {
      "cell_type": "markdown",
      "source": [
        "# Add RE24 to each year df"
      ],
      "metadata": {
        "id": "xn5Sy9E7SocR"
      }
    },
    {
      "cell_type": "code",
      "source": [
        "# Function to add re24 vals to dataframes\n",
        "def calc_re_24(df, year):\n",
        "  re24_vals = []\n",
        "  for i in range(len(df)):\n",
        "    outs = df['outs_when_up'][i]\n",
        "    first = df['on_1b'][i]\n",
        "    second = df['on_2b'][i]\n",
        "    third = df['on_3b'][i]\n",
        "    val = RE24_calc(outs=outs, runner_first=first, \n",
        "                    runner_second=second, runner_third=third)\n",
        "    re24_vals.append(val)\n",
        "    if i%100==0:\n",
        "      clear_output()\n",
        "      print(f'Season: {year}\\n{i} of {len(df)} completed ({int((i/len(df))*100)}%)')\n",
        "  df['re_24'] = re24_vals\n",
        "  return df"
      ],
      "metadata": {
        "id": "khI5rG7pd2B9"
      },
      "execution_count": 52,
      "outputs": []
    },
    {
      "cell_type": "code",
      "source": [
        "# Add RE24 to all year dfs\n",
        "for year in [2008, 2009, 2010, 2011, 2012, 2013, 2014, 2015, 2016, 2017, 2018, 2019]:\n",
        "  temp_df = pd.read_csv(f'./Data/02_intermediate/df_{year}.csv')\n",
        "  drop_list = [i for i in list(temp_df) if 'Unnamed' in i]\n",
        "  temp_df = temp_df.drop(drop_list, axis=1)\n",
        "  for col in ['on_1b', 'on_2b', 'on_3b']:\n",
        "    temp_df[col] = temp_df[col].fillna(0)\n",
        "  temp_df = calc_re_24(temp_df, year)\n",
        "  temp_df.to_csv(f'./Data/02_intermediate/df_{year}.csv')"
      ],
      "metadata": {
        "colab": {
          "base_uri": "https://localhost:8080/"
        },
        "id": "yYfebkXSQD5I",
        "outputId": "6289363d-e1af-44ee-fccb-129aea021f8f"
      },
      "execution_count": 76,
      "outputs": [
        {
          "output_type": "stream",
          "name": "stdout",
          "text": [
            "Season: 2019\n",
            "732400 of 732473 completed (99%)\n"
          ]
        }
      ]
    },
    {
      "cell_type": "markdown",
      "source": [
        "# Add cols for change in RE24 pre-post"
      ],
      "metadata": {
        "id": "RBdD74FhIPvY"
      }
    },
    {
      "cell_type": "code",
      "source": [
        "# Function to get change in RE24 pre-post pitch\n",
        "def re24_change(df, year):\n",
        "  df = df.sort_values(by=['game_date', 'inning', 'pitch_number'])\n",
        "\n",
        "  # Change in RE24 value - continuous\n",
        "  temp_list = []\n",
        "  for index in range(len(df)):\n",
        "    if index==0:\n",
        "      temp_list.append(np.nan) \n",
        "    elif df['inning'][index-1]==df['inning'][index]:\n",
        "      temp_list.append(df['re_24'][index-1]-df['re_24'][index])\n",
        "    else:\n",
        "      temp_list.append(np.nan)\n",
        "    if index%100==0:\n",
        "      clear_output()\n",
        "      print(f'Season: {year}\\nRE24 Continuous Change: {index} of {len(df)} completed ({int((index/len(df))*100)}%)')\n",
        "  df['re_24_change_raw'] = temp_list\n",
        "  \n",
        "  # Categorical change\n",
        "  temp_list = []\n",
        "  for index in range(len(df)):\n",
        "    if index==0:\n",
        "      temp_list.append(np.nan) \n",
        "    elif df['inning'][index-1]==df['inning'][index]:\n",
        "      if df['re_24'][index-1]>df['re_24'][index]:\n",
        "        temp_list.append(1)\n",
        "      elif df['re_24'][index-1]<df['re_24'][index]:\n",
        "        temp_list.append(-1)\n",
        "      else:\n",
        "        temp_list.append(0)\n",
        "    else:\n",
        "      temp_list.append(np.nan)\n",
        "    if index%100==0:\n",
        "      clear_output()\n",
        "      print(f'Season: {year}\\nRE24 Categorical Change: {index} of {len(df)} completed ({int((index/len(df))*100)}%)')\n",
        "  df['re_24_change_cat'] = temp_list\n",
        "\n",
        "  return df"
      ],
      "metadata": {
        "id": "8OrlWBmdGg7q"
      },
      "execution_count": 99,
      "outputs": []
    },
    {
      "cell_type": "code",
      "source": [
        "# Add RE24 changes to all dfs\n",
        "for year in [2008, 2009, 2010, 2011, 2012, 2013, 2014, 2015, 2016, 2017, 2018, 2019]:\n",
        "  temp_df = pd.read_csv(f'./Data/02_intermediate/df_{year}.csv')\n",
        "  drop_list = [i for i in list(temp_df) if 'Unnamed' in i]\n",
        "  temp_df = temp_df.drop(drop_list, axis=1)\n",
        "  temp_df = temp_df.reset_index(drop=True)\n",
        "  for col in ['on_1b', 'on_2b', 'on_3b']:\n",
        "    temp_df[col] = temp_df[col].fillna(0)\n",
        "  temp_df = re24_change(temp_df, year)\n",
        "  temp_df.to_csv(f'./Data/02_intermediate/df_{year}.csv')"
      ],
      "metadata": {
        "colab": {
          "base_uri": "https://localhost:8080/"
        },
        "id": "L5k6QRvkYupo",
        "outputId": "3aa58858-42ba-4e14-da3f-e73db110514d"
      },
      "execution_count": 100,
      "outputs": [
        {
          "output_type": "stream",
          "name": "stdout",
          "text": [
            "Season: 2019\n",
            "RE24 Categorical Change: 732400 of 732473 completed (99%)\n"
          ]
        }
      ]
    }
  ]
}