{
  "nbformat": 4,
  "nbformat_minor": 0,
  "metadata": {
    "colab": {
      "name": "add_so_col.ipynb",
      "provenance": [],
      "collapsed_sections": [],
      "machine_shape": "hm",
      "authorship_tag": "ABX9TyNrz5Tvz5WNUsxKk0bzLhUO",
      "include_colab_link": true
    },
    "kernelspec": {
      "name": "python3",
      "display_name": "Python 3"
    },
    "accelerator": "TPU"
  },
  "cells": [
    {
      "cell_type": "markdown",
      "metadata": {
        "id": "view-in-github",
        "colab_type": "text"
      },
      "source": [
        "<a href=\"https://colab.research.google.com/github/david-j-cox/Man-vs-Machine/blob/master/add_so_col.ipynb\" target=\"_parent\"><img src=\"https://colab.research.google.com/assets/colab-badge.svg\" alt=\"Open In Colab\"/></a>"
      ]
    },
    {
      "cell_type": "markdown",
      "source": [
        "# Environment Setup"
      ],
      "metadata": {
        "id": "w_tvwWBcIGHB"
      }
    },
    {
      "cell_type": "code",
      "metadata": {
        "id": "IJzp_Hw7cA5U",
        "outputId": "53f85d4e-0368-473e-eae5-166b6fa57cf8",
        "colab": {
          "base_uri": "https://localhost:8080/"
        }
      },
      "source": [
        "# Set working directory\n",
        "from google.colab import drive\n",
        "drive.mount('/content/gdrive')\n",
        "%cd './gdrive/My Drive/GME & MLB/Scripts and Notebooks/'"
      ],
      "execution_count": 1,
      "outputs": [
        {
          "output_type": "stream",
          "name": "stdout",
          "text": [
            "Mounted at /content/gdrive\n",
            "/content/gdrive/My Drive/GME & MLB/Scripts and Notebooks\n"
          ]
        }
      ]
    },
    {
      "cell_type": "code",
      "source": [
        "# Connect GPU, if desired\n",
        "%tensorflow_version 2.x\n",
        "import tensorflow as tf\n",
        "device_name = tf.test.gpu_device_name()\n",
        "if device_name != '/device:GPU:0':\n",
        "  raise SystemError('GPU device not found')\n",
        "print('Found GPU at: {}'.format(device_name))"
      ],
      "metadata": {
        "id": "AD_PUDhrbb6y"
      },
      "execution_count": null,
      "outputs": []
    },
    {
      "cell_type": "code",
      "source": [
        "# Connect TPU, if desired\n",
        "%tensorflow_version 2.x\n",
        "import tensorflow as tf\n",
        "print(\"Tensorflow version \" + tf.__version__)\n",
        "\n",
        "try:\n",
        "  tpu = tf.distribute.cluster_resolver.TPUClusterResolver()  # TPU detection\n",
        "  print('Running on TPU ', tpu.cluster_spec().as_dict()['worker'])\n",
        "except ValueError:\n",
        "  raise BaseException('ERROR: Not connected to a TPU runtime')\n",
        "\n",
        "tf.config.experimental_connect_to_cluster(tpu)\n",
        "tf.tpu.experimental.initialize_tpu_system(tpu)\n",
        "tpu_strategy = tf.distribute.experimental.TPUStrategy(tpu)"
      ],
      "metadata": {
        "id": "Nsup_btTAfKJ",
        "colab": {
          "base_uri": "https://localhost:8080/"
        },
        "outputId": "2bf09f1e-71b5-4986-db53-05d60cc945b7"
      },
      "execution_count": 2,
      "outputs": [
        {
          "output_type": "stream",
          "name": "stdout",
          "text": [
            "Tensorflow version 2.7.0\n",
            "Running on TPU  ['10.3.190.202:8470']\n",
            "INFO:tensorflow:Deallocate tpu buffers before initializing tpu system.\n"
          ]
        },
        {
          "output_type": "stream",
          "name": "stderr",
          "text": [
            "INFO:tensorflow:Deallocate tpu buffers before initializing tpu system.\n"
          ]
        },
        {
          "output_type": "stream",
          "name": "stdout",
          "text": [
            "INFO:tensorflow:Initializing the TPU system: grpc://10.3.190.202:8470\n"
          ]
        },
        {
          "output_type": "stream",
          "name": "stderr",
          "text": [
            "INFO:tensorflow:Initializing the TPU system: grpc://10.3.190.202:8470\n"
          ]
        },
        {
          "output_type": "stream",
          "name": "stdout",
          "text": [
            "INFO:tensorflow:Finished initializing TPU system.\n"
          ]
        },
        {
          "output_type": "stream",
          "name": "stderr",
          "text": [
            "INFO:tensorflow:Finished initializing TPU system.\n",
            "WARNING:absl:`tf.distribute.experimental.TPUStrategy` is deprecated, please use  the non experimental symbol `tf.distribute.TPUStrategy` instead.\n"
          ]
        },
        {
          "output_type": "stream",
          "name": "stdout",
          "text": [
            "INFO:tensorflow:Found TPU system:\n"
          ]
        },
        {
          "output_type": "stream",
          "name": "stderr",
          "text": [
            "INFO:tensorflow:Found TPU system:\n"
          ]
        },
        {
          "output_type": "stream",
          "name": "stdout",
          "text": [
            "INFO:tensorflow:*** Num TPU Cores: 8\n"
          ]
        },
        {
          "output_type": "stream",
          "name": "stderr",
          "text": [
            "INFO:tensorflow:*** Num TPU Cores: 8\n"
          ]
        },
        {
          "output_type": "stream",
          "name": "stdout",
          "text": [
            "INFO:tensorflow:*** Num TPU Workers: 1\n"
          ]
        },
        {
          "output_type": "stream",
          "name": "stderr",
          "text": [
            "INFO:tensorflow:*** Num TPU Workers: 1\n"
          ]
        },
        {
          "output_type": "stream",
          "name": "stdout",
          "text": [
            "INFO:tensorflow:*** Num TPU Cores Per Worker: 8\n"
          ]
        },
        {
          "output_type": "stream",
          "name": "stderr",
          "text": [
            "INFO:tensorflow:*** Num TPU Cores Per Worker: 8\n"
          ]
        },
        {
          "output_type": "stream",
          "name": "stdout",
          "text": [
            "INFO:tensorflow:*** Available Device: _DeviceAttributes(/job:localhost/replica:0/task:0/device:CPU:0, CPU, 0, 0)\n"
          ]
        },
        {
          "output_type": "stream",
          "name": "stderr",
          "text": [
            "INFO:tensorflow:*** Available Device: _DeviceAttributes(/job:localhost/replica:0/task:0/device:CPU:0, CPU, 0, 0)\n"
          ]
        },
        {
          "output_type": "stream",
          "name": "stdout",
          "text": [
            "INFO:tensorflow:*** Available Device: _DeviceAttributes(/job:worker/replica:0/task:0/device:CPU:0, CPU, 0, 0)\n"
          ]
        },
        {
          "output_type": "stream",
          "name": "stderr",
          "text": [
            "INFO:tensorflow:*** Available Device: _DeviceAttributes(/job:worker/replica:0/task:0/device:CPU:0, CPU, 0, 0)\n"
          ]
        },
        {
          "output_type": "stream",
          "name": "stdout",
          "text": [
            "INFO:tensorflow:*** Available Device: _DeviceAttributes(/job:worker/replica:0/task:0/device:TPU:0, TPU, 0, 0)\n"
          ]
        },
        {
          "output_type": "stream",
          "name": "stderr",
          "text": [
            "INFO:tensorflow:*** Available Device: _DeviceAttributes(/job:worker/replica:0/task:0/device:TPU:0, TPU, 0, 0)\n"
          ]
        },
        {
          "output_type": "stream",
          "name": "stdout",
          "text": [
            "INFO:tensorflow:*** Available Device: _DeviceAttributes(/job:worker/replica:0/task:0/device:TPU:1, TPU, 0, 0)\n"
          ]
        },
        {
          "output_type": "stream",
          "name": "stderr",
          "text": [
            "INFO:tensorflow:*** Available Device: _DeviceAttributes(/job:worker/replica:0/task:0/device:TPU:1, TPU, 0, 0)\n"
          ]
        },
        {
          "output_type": "stream",
          "name": "stdout",
          "text": [
            "INFO:tensorflow:*** Available Device: _DeviceAttributes(/job:worker/replica:0/task:0/device:TPU:2, TPU, 0, 0)\n"
          ]
        },
        {
          "output_type": "stream",
          "name": "stderr",
          "text": [
            "INFO:tensorflow:*** Available Device: _DeviceAttributes(/job:worker/replica:0/task:0/device:TPU:2, TPU, 0, 0)\n"
          ]
        },
        {
          "output_type": "stream",
          "name": "stdout",
          "text": [
            "INFO:tensorflow:*** Available Device: _DeviceAttributes(/job:worker/replica:0/task:0/device:TPU:3, TPU, 0, 0)\n"
          ]
        },
        {
          "output_type": "stream",
          "name": "stderr",
          "text": [
            "INFO:tensorflow:*** Available Device: _DeviceAttributes(/job:worker/replica:0/task:0/device:TPU:3, TPU, 0, 0)\n"
          ]
        },
        {
          "output_type": "stream",
          "name": "stdout",
          "text": [
            "INFO:tensorflow:*** Available Device: _DeviceAttributes(/job:worker/replica:0/task:0/device:TPU:4, TPU, 0, 0)\n"
          ]
        },
        {
          "output_type": "stream",
          "name": "stderr",
          "text": [
            "INFO:tensorflow:*** Available Device: _DeviceAttributes(/job:worker/replica:0/task:0/device:TPU:4, TPU, 0, 0)\n"
          ]
        },
        {
          "output_type": "stream",
          "name": "stdout",
          "text": [
            "INFO:tensorflow:*** Available Device: _DeviceAttributes(/job:worker/replica:0/task:0/device:TPU:5, TPU, 0, 0)\n"
          ]
        },
        {
          "output_type": "stream",
          "name": "stderr",
          "text": [
            "INFO:tensorflow:*** Available Device: _DeviceAttributes(/job:worker/replica:0/task:0/device:TPU:5, TPU, 0, 0)\n"
          ]
        },
        {
          "output_type": "stream",
          "name": "stdout",
          "text": [
            "INFO:tensorflow:*** Available Device: _DeviceAttributes(/job:worker/replica:0/task:0/device:TPU:6, TPU, 0, 0)\n"
          ]
        },
        {
          "output_type": "stream",
          "name": "stderr",
          "text": [
            "INFO:tensorflow:*** Available Device: _DeviceAttributes(/job:worker/replica:0/task:0/device:TPU:6, TPU, 0, 0)\n"
          ]
        },
        {
          "output_type": "stream",
          "name": "stdout",
          "text": [
            "INFO:tensorflow:*** Available Device: _DeviceAttributes(/job:worker/replica:0/task:0/device:TPU:7, TPU, 0, 0)\n"
          ]
        },
        {
          "output_type": "stream",
          "name": "stderr",
          "text": [
            "INFO:tensorflow:*** Available Device: _DeviceAttributes(/job:worker/replica:0/task:0/device:TPU:7, TPU, 0, 0)\n"
          ]
        },
        {
          "output_type": "stream",
          "name": "stdout",
          "text": [
            "INFO:tensorflow:*** Available Device: _DeviceAttributes(/job:worker/replica:0/task:0/device:TPU_SYSTEM:0, TPU_SYSTEM, 0, 0)\n"
          ]
        },
        {
          "output_type": "stream",
          "name": "stderr",
          "text": [
            "INFO:tensorflow:*** Available Device: _DeviceAttributes(/job:worker/replica:0/task:0/device:TPU_SYSTEM:0, TPU_SYSTEM, 0, 0)\n"
          ]
        },
        {
          "output_type": "stream",
          "name": "stdout",
          "text": [
            "INFO:tensorflow:*** Available Device: _DeviceAttributes(/job:worker/replica:0/task:0/device:XLA_CPU:0, XLA_CPU, 0, 0)\n"
          ]
        },
        {
          "output_type": "stream",
          "name": "stderr",
          "text": [
            "INFO:tensorflow:*** Available Device: _DeviceAttributes(/job:worker/replica:0/task:0/device:XLA_CPU:0, XLA_CPU, 0, 0)\n"
          ]
        }
      ]
    },
    {
      "cell_type": "code",
      "metadata": {
        "id": "foAYzI13dAQu",
        "outputId": "57726d8e-943a-433f-802f-66fc57b9589b",
        "colab": {
          "base_uri": "https://localhost:8080/"
        }
      },
      "source": [
        "# Packages and modules we'll use\n",
        "# System\n",
        "import glob\n",
        "from google.colab import files\n",
        "import zipfile, io, os\n",
        "import warnings\n",
        "import time\n",
        "\n",
        "# Data manipulation\n",
        "import pandas as pd\n",
        "import numpy as np\n",
        "\n",
        "# Visualizations\n",
        "import matplotlib.pyplot as plt\n",
        "import seaborn as sns\n",
        "from IPython.display import HTML, display, clear_output\n",
        "\n",
        "print(\"Packages loaded\")"
      ],
      "execution_count": 3,
      "outputs": [
        {
          "output_type": "stream",
          "name": "stdout",
          "text": [
            "Packages loaded\n"
          ]
        }
      ]
    },
    {
      "cell_type": "markdown",
      "source": [
        "### Functions"
      ],
      "metadata": {
        "id": "mDP94_atndEL"
      }
    },
    {
      "cell_type": "code",
      "source": [
        "temp_df.description[52372]"
      ],
      "metadata": {
        "colab": {
          "base_uri": "https://localhost:8080/",
          "height": 34
        },
        "id": "sUf4ZTTF_At3",
        "outputId": "eb47193f-b255-4350-c471-e6479775aaa4"
      },
      "execution_count": 12,
      "outputs": [
        {
          "output_type": "execute_result",
          "data": {
            "application/vnd.google.colaboratory.intrinsic+json": {
              "type": "string"
            },
            "text/plain": [
              "'ball'"
            ]
          },
          "metadata": {},
          "execution_count": 12
        }
      ]
    },
    {
      "cell_type": "code",
      "source": [
        "# Function to get change in so pre-post pitch\n",
        "def so_change(df, year):\n",
        "  \"\"\"\n",
        "  Add single column with the change in strike and out value resulting each pitch in the dataset.\n",
        "    1.) Change in strikes and outs (so) on a Continuous scale. \n",
        "  -----\n",
        "  Params:\n",
        "    df: dataframe\n",
        "      - Dataframe containing the data with the strike and out states and cols necessary \n",
        "        to temporally sort the data. \n",
        "    year: int\n",
        "      - The year within the dataframe you want to isolate for batch computing. \n",
        "  -----\n",
        "  Returns: \n",
        "    The original dataframe with an added column containing the mapped so value for each pitch. \n",
        "  \"\"\"\n",
        "\n",
        "  # Create list of all Strike and out categories to serve as reinforcers\n",
        "  s_o = ['hit_into_play', 'foul','swinging_strike', 'swinging_strike_blocked', \\\n",
        "        'called_strike','foul_bunt', 'foul_tip', 'missed_bunt','swinging_pitchout', \\\n",
        "        'foul_pitchout', 'bunt_foul_tip', 'unknown_strike']\n",
        "\n",
        "  df = df.sort_values(by=['player_name', 'game_date', 'game_pk', 'inning', 'outs_when_up', 'pitch_number'])\n",
        "  df = df.reset_index(drop=True)\n",
        "\n",
        "  # CHANGE IN SO\n",
        "  temp_list = []  # Empty list to store change values\n",
        "  for index in range(len(df)):\n",
        "    # First pitch in the dataframe\n",
        "    val = df['description'][index]\n",
        "    if val in s_o:\n",
        "      temp_list.append(1)\n",
        "    else:\n",
        "      temp_list.append(0)\n",
        "    \n",
        "    # Providing notebook user with updating progress after every 100th loop. \n",
        "    if index%100==0:\n",
        "      clear_output()\n",
        "      print(f'Season: {year}\\nSO Change: {index} of {len(df)} completed ({int((index/len(df))*100)}%)')\n",
        "\n",
        "  # Add data to the original passed dataframe\n",
        "  df['so_change'] = temp_list\n",
        "\n",
        "  return df"
      ],
      "metadata": {
        "id": "D7naKccFnXdS"
      },
      "execution_count": 13,
      "outputs": []
    },
    {
      "cell_type": "markdown",
      "source": [
        "# Add changes in RE88"
      ],
      "metadata": {
        "id": "RBdD74FhIPvY"
      }
    },
    {
      "cell_type": "code",
      "source": [
        "# Add RE88 changes to all dfs\n",
        "for year in [2008, 2009, 2010, 2011, 2012, 2013, 2014, 2015, 2016, 2017, 2018, 2019]:\n",
        "  temp_df = pd.read_csv(f'../Data/02_intermediate/df_{year}.csv')\n",
        "  drop_list = [i for i in list(temp_df) if 'Unnamed' in i]\n",
        "  temp_df = temp_df.drop(drop_list, axis=1)\n",
        "  temp_df = temp_df.reset_index(drop=True)\n",
        "  for col in ['on_1b', 'on_2b', 'on_3b']:\n",
        "    temp_df[col] = temp_df[col].fillna(0)\n",
        "  temp_df = so_change(temp_df, year)\n",
        "  temp_df.to_csv(f'../Data/02_intermediate/df_{year}.csv')\n",
        "\n",
        "# Take a look at the result\n",
        "temp_df.head(20)"
      ],
      "metadata": {
        "colab": {
          "base_uri": "https://localhost:8080/",
          "height": 897
        },
        "id": "L5k6QRvkYupo",
        "outputId": "a5a615fe-e9e8-4490-e319-8d7dc17328d7"
      },
      "execution_count": 14,
      "outputs": [
        {
          "output_type": "stream",
          "name": "stdout",
          "text": [
            "Season: 2019\n",
            "SO Change: 732400 of 732473 completed (99%)\n"
          ]
        },
        {
          "output_type": "execute_result",
          "data": {
            "text/html": [
              "\n",
              "  <div id=\"df-a2a18974-af15-4335-9e5f-032db8fd7055\">\n",
              "    <div class=\"colab-df-container\">\n",
              "      <div>\n",
              "<style scoped>\n",
              "    .dataframe tbody tr th:only-of-type {\n",
              "        vertical-align: middle;\n",
              "    }\n",
              "\n",
              "    .dataframe tbody tr th {\n",
              "        vertical-align: top;\n",
              "    }\n",
              "\n",
              "    .dataframe thead th {\n",
              "        text-align: right;\n",
              "    }\n",
              "</style>\n",
              "<table border=\"1\" class=\"dataframe\">\n",
              "  <thead>\n",
              "    <tr style=\"text-align: right;\">\n",
              "      <th></th>\n",
              "      <th>game_year</th>\n",
              "      <th>game_pk</th>\n",
              "      <th>pitch_type</th>\n",
              "      <th>game_date</th>\n",
              "      <th>type</th>\n",
              "      <th>balls</th>\n",
              "      <th>strikes</th>\n",
              "      <th>inning_topbot</th>\n",
              "      <th>pitch_number</th>\n",
              "      <th>pitch_name</th>\n",
              "      <th>home_score</th>\n",
              "      <th>away_score</th>\n",
              "      <th>bat_score</th>\n",
              "      <th>fld_score</th>\n",
              "      <th>events</th>\n",
              "      <th>description</th>\n",
              "      <th>inning</th>\n",
              "      <th>pitcher</th>\n",
              "      <th>player_name</th>\n",
              "      <th>batter</th>\n",
              "      <th>on_1b</th>\n",
              "      <th>on_2b</th>\n",
              "      <th>on_3b</th>\n",
              "      <th>outs_when_up</th>\n",
              "      <th>re_24</th>\n",
              "      <th>re_24_change_raw</th>\n",
              "      <th>re_24_change_ord</th>\n",
              "      <th>so_change</th>\n",
              "    </tr>\n",
              "  </thead>\n",
              "  <tbody>\n",
              "    <tr>\n",
              "      <th>0</th>\n",
              "      <td>2019</td>\n",
              "      <td>566106</td>\n",
              "      <td>FF</td>\n",
              "      <td>2019-05-11</td>\n",
              "      <td>B</td>\n",
              "      <td>0</td>\n",
              "      <td>0</td>\n",
              "      <td>Bot</td>\n",
              "      <td>1</td>\n",
              "      <td>4-Seam Fastball</td>\n",
              "      <td>2</td>\n",
              "      <td>1</td>\n",
              "      <td>2</td>\n",
              "      <td>1</td>\n",
              "      <td>NaN</td>\n",
              "      <td>ball</td>\n",
              "      <td>8</td>\n",
              "      <td>595918</td>\n",
              "      <td>A.J. Cole</td>\n",
              "      <td>543760</td>\n",
              "      <td>0.0</td>\n",
              "      <td>0.0</td>\n",
              "      <td>0.0</td>\n",
              "      <td>0</td>\n",
              "      <td>0.461</td>\n",
              "      <td>0.000</td>\n",
              "      <td>0</td>\n",
              "      <td>0</td>\n",
              "    </tr>\n",
              "    <tr>\n",
              "      <th>1</th>\n",
              "      <td>2019</td>\n",
              "      <td>566106</td>\n",
              "      <td>FF</td>\n",
              "      <td>2019-05-11</td>\n",
              "      <td>S</td>\n",
              "      <td>1</td>\n",
              "      <td>0</td>\n",
              "      <td>Bot</td>\n",
              "      <td>2</td>\n",
              "      <td>4-Seam Fastball</td>\n",
              "      <td>2</td>\n",
              "      <td>1</td>\n",
              "      <td>2</td>\n",
              "      <td>1</td>\n",
              "      <td>NaN</td>\n",
              "      <td>called_strike</td>\n",
              "      <td>8</td>\n",
              "      <td>595918</td>\n",
              "      <td>A.J. Cole</td>\n",
              "      <td>543760</td>\n",
              "      <td>0.0</td>\n",
              "      <td>0.0</td>\n",
              "      <td>0.0</td>\n",
              "      <td>0</td>\n",
              "      <td>0.461</td>\n",
              "      <td>0.000</td>\n",
              "      <td>0</td>\n",
              "      <td>1</td>\n",
              "    </tr>\n",
              "    <tr>\n",
              "      <th>2</th>\n",
              "      <td>2019</td>\n",
              "      <td>566106</td>\n",
              "      <td>SL</td>\n",
              "      <td>2019-05-11</td>\n",
              "      <td>S</td>\n",
              "      <td>1</td>\n",
              "      <td>1</td>\n",
              "      <td>Bot</td>\n",
              "      <td>3</td>\n",
              "      <td>Slider</td>\n",
              "      <td>2</td>\n",
              "      <td>1</td>\n",
              "      <td>2</td>\n",
              "      <td>1</td>\n",
              "      <td>NaN</td>\n",
              "      <td>foul</td>\n",
              "      <td>8</td>\n",
              "      <td>595918</td>\n",
              "      <td>A.J. Cole</td>\n",
              "      <td>543760</td>\n",
              "      <td>0.0</td>\n",
              "      <td>0.0</td>\n",
              "      <td>0.0</td>\n",
              "      <td>0</td>\n",
              "      <td>0.461</td>\n",
              "      <td>0.000</td>\n",
              "      <td>0</td>\n",
              "      <td>1</td>\n",
              "    </tr>\n",
              "    <tr>\n",
              "      <th>3</th>\n",
              "      <td>2019</td>\n",
              "      <td>566106</td>\n",
              "      <td>SL</td>\n",
              "      <td>2019-05-11</td>\n",
              "      <td>S</td>\n",
              "      <td>1</td>\n",
              "      <td>2</td>\n",
              "      <td>Bot</td>\n",
              "      <td>4</td>\n",
              "      <td>Slider</td>\n",
              "      <td>2</td>\n",
              "      <td>1</td>\n",
              "      <td>2</td>\n",
              "      <td>1</td>\n",
              "      <td>NaN</td>\n",
              "      <td>foul</td>\n",
              "      <td>8</td>\n",
              "      <td>595918</td>\n",
              "      <td>A.J. Cole</td>\n",
              "      <td>543760</td>\n",
              "      <td>0.0</td>\n",
              "      <td>0.0</td>\n",
              "      <td>0.0</td>\n",
              "      <td>0</td>\n",
              "      <td>0.461</td>\n",
              "      <td>0.000</td>\n",
              "      <td>0</td>\n",
              "      <td>1</td>\n",
              "    </tr>\n",
              "    <tr>\n",
              "      <th>4</th>\n",
              "      <td>2019</td>\n",
              "      <td>566106</td>\n",
              "      <td>SL</td>\n",
              "      <td>2019-05-11</td>\n",
              "      <td>S</td>\n",
              "      <td>1</td>\n",
              "      <td>2</td>\n",
              "      <td>Bot</td>\n",
              "      <td>5</td>\n",
              "      <td>Slider</td>\n",
              "      <td>2</td>\n",
              "      <td>1</td>\n",
              "      <td>2</td>\n",
              "      <td>1</td>\n",
              "      <td>NaN</td>\n",
              "      <td>foul</td>\n",
              "      <td>8</td>\n",
              "      <td>595918</td>\n",
              "      <td>A.J. Cole</td>\n",
              "      <td>543760</td>\n",
              "      <td>0.0</td>\n",
              "      <td>0.0</td>\n",
              "      <td>0.0</td>\n",
              "      <td>0</td>\n",
              "      <td>0.461</td>\n",
              "      <td>0.000</td>\n",
              "      <td>0</td>\n",
              "      <td>1</td>\n",
              "    </tr>\n",
              "    <tr>\n",
              "      <th>5</th>\n",
              "      <td>2019</td>\n",
              "      <td>566106</td>\n",
              "      <td>SL</td>\n",
              "      <td>2019-05-11</td>\n",
              "      <td>X</td>\n",
              "      <td>1</td>\n",
              "      <td>2</td>\n",
              "      <td>Bot</td>\n",
              "      <td>6</td>\n",
              "      <td>Slider</td>\n",
              "      <td>2</td>\n",
              "      <td>1</td>\n",
              "      <td>2</td>\n",
              "      <td>1</td>\n",
              "      <td>field_out</td>\n",
              "      <td>hit_into_play</td>\n",
              "      <td>8</td>\n",
              "      <td>595918</td>\n",
              "      <td>A.J. Cole</td>\n",
              "      <td>543760</td>\n",
              "      <td>0.0</td>\n",
              "      <td>0.0</td>\n",
              "      <td>0.0</td>\n",
              "      <td>0</td>\n",
              "      <td>0.461</td>\n",
              "      <td>0.000</td>\n",
              "      <td>0</td>\n",
              "      <td>1</td>\n",
              "    </tr>\n",
              "    <tr>\n",
              "      <th>6</th>\n",
              "      <td>2019</td>\n",
              "      <td>566106</td>\n",
              "      <td>SL</td>\n",
              "      <td>2019-05-11</td>\n",
              "      <td>S</td>\n",
              "      <td>0</td>\n",
              "      <td>0</td>\n",
              "      <td>Bot</td>\n",
              "      <td>1</td>\n",
              "      <td>Slider</td>\n",
              "      <td>2</td>\n",
              "      <td>1</td>\n",
              "      <td>2</td>\n",
              "      <td>1</td>\n",
              "      <td>NaN</td>\n",
              "      <td>swinging_strike</td>\n",
              "      <td>8</td>\n",
              "      <td>595918</td>\n",
              "      <td>A.J. Cole</td>\n",
              "      <td>595777</td>\n",
              "      <td>0.0</td>\n",
              "      <td>0.0</td>\n",
              "      <td>0.0</td>\n",
              "      <td>1</td>\n",
              "      <td>0.243</td>\n",
              "      <td>0.218</td>\n",
              "      <td>1</td>\n",
              "      <td>1</td>\n",
              "    </tr>\n",
              "    <tr>\n",
              "      <th>7</th>\n",
              "      <td>2019</td>\n",
              "      <td>566106</td>\n",
              "      <td>CH</td>\n",
              "      <td>2019-05-11</td>\n",
              "      <td>B</td>\n",
              "      <td>0</td>\n",
              "      <td>1</td>\n",
              "      <td>Bot</td>\n",
              "      <td>2</td>\n",
              "      <td>Changeup</td>\n",
              "      <td>2</td>\n",
              "      <td>1</td>\n",
              "      <td>2</td>\n",
              "      <td>1</td>\n",
              "      <td>NaN</td>\n",
              "      <td>ball</td>\n",
              "      <td>8</td>\n",
              "      <td>595918</td>\n",
              "      <td>A.J. Cole</td>\n",
              "      <td>595777</td>\n",
              "      <td>0.0</td>\n",
              "      <td>0.0</td>\n",
              "      <td>0.0</td>\n",
              "      <td>1</td>\n",
              "      <td>0.243</td>\n",
              "      <td>0.000</td>\n",
              "      <td>0</td>\n",
              "      <td>0</td>\n",
              "    </tr>\n",
              "    <tr>\n",
              "      <th>8</th>\n",
              "      <td>2019</td>\n",
              "      <td>566106</td>\n",
              "      <td>CH</td>\n",
              "      <td>2019-05-11</td>\n",
              "      <td>B</td>\n",
              "      <td>1</td>\n",
              "      <td>1</td>\n",
              "      <td>Bot</td>\n",
              "      <td>3</td>\n",
              "      <td>Changeup</td>\n",
              "      <td>2</td>\n",
              "      <td>1</td>\n",
              "      <td>2</td>\n",
              "      <td>1</td>\n",
              "      <td>NaN</td>\n",
              "      <td>ball</td>\n",
              "      <td>8</td>\n",
              "      <td>595918</td>\n",
              "      <td>A.J. Cole</td>\n",
              "      <td>595777</td>\n",
              "      <td>0.0</td>\n",
              "      <td>0.0</td>\n",
              "      <td>0.0</td>\n",
              "      <td>1</td>\n",
              "      <td>0.243</td>\n",
              "      <td>0.000</td>\n",
              "      <td>0</td>\n",
              "      <td>0</td>\n",
              "    </tr>\n",
              "    <tr>\n",
              "      <th>9</th>\n",
              "      <td>2019</td>\n",
              "      <td>566106</td>\n",
              "      <td>SL</td>\n",
              "      <td>2019-05-11</td>\n",
              "      <td>S</td>\n",
              "      <td>2</td>\n",
              "      <td>1</td>\n",
              "      <td>Bot</td>\n",
              "      <td>4</td>\n",
              "      <td>Slider</td>\n",
              "      <td>2</td>\n",
              "      <td>1</td>\n",
              "      <td>2</td>\n",
              "      <td>1</td>\n",
              "      <td>NaN</td>\n",
              "      <td>swinging_strike</td>\n",
              "      <td>8</td>\n",
              "      <td>595918</td>\n",
              "      <td>A.J. Cole</td>\n",
              "      <td>595777</td>\n",
              "      <td>0.0</td>\n",
              "      <td>0.0</td>\n",
              "      <td>0.0</td>\n",
              "      <td>1</td>\n",
              "      <td>0.243</td>\n",
              "      <td>0.000</td>\n",
              "      <td>0</td>\n",
              "      <td>1</td>\n",
              "    </tr>\n",
              "    <tr>\n",
              "      <th>10</th>\n",
              "      <td>2019</td>\n",
              "      <td>566106</td>\n",
              "      <td>SL</td>\n",
              "      <td>2019-05-11</td>\n",
              "      <td>B</td>\n",
              "      <td>2</td>\n",
              "      <td>2</td>\n",
              "      <td>Bot</td>\n",
              "      <td>5</td>\n",
              "      <td>Slider</td>\n",
              "      <td>2</td>\n",
              "      <td>1</td>\n",
              "      <td>2</td>\n",
              "      <td>1</td>\n",
              "      <td>NaN</td>\n",
              "      <td>ball</td>\n",
              "      <td>8</td>\n",
              "      <td>595918</td>\n",
              "      <td>A.J. Cole</td>\n",
              "      <td>595777</td>\n",
              "      <td>0.0</td>\n",
              "      <td>0.0</td>\n",
              "      <td>0.0</td>\n",
              "      <td>1</td>\n",
              "      <td>0.243</td>\n",
              "      <td>0.000</td>\n",
              "      <td>0</td>\n",
              "      <td>0</td>\n",
              "    </tr>\n",
              "    <tr>\n",
              "      <th>11</th>\n",
              "      <td>2019</td>\n",
              "      <td>566106</td>\n",
              "      <td>SL</td>\n",
              "      <td>2019-05-11</td>\n",
              "      <td>X</td>\n",
              "      <td>3</td>\n",
              "      <td>2</td>\n",
              "      <td>Bot</td>\n",
              "      <td>6</td>\n",
              "      <td>Slider</td>\n",
              "      <td>2</td>\n",
              "      <td>1</td>\n",
              "      <td>2</td>\n",
              "      <td>1</td>\n",
              "      <td>field_out</td>\n",
              "      <td>hit_into_play</td>\n",
              "      <td>8</td>\n",
              "      <td>595918</td>\n",
              "      <td>A.J. Cole</td>\n",
              "      <td>595777</td>\n",
              "      <td>0.0</td>\n",
              "      <td>0.0</td>\n",
              "      <td>0.0</td>\n",
              "      <td>1</td>\n",
              "      <td>0.243</td>\n",
              "      <td>0.000</td>\n",
              "      <td>0</td>\n",
              "      <td>1</td>\n",
              "    </tr>\n",
              "    <tr>\n",
              "      <th>12</th>\n",
              "      <td>2019</td>\n",
              "      <td>566106</td>\n",
              "      <td>FF</td>\n",
              "      <td>2019-05-11</td>\n",
              "      <td>B</td>\n",
              "      <td>0</td>\n",
              "      <td>0</td>\n",
              "      <td>Bot</td>\n",
              "      <td>1</td>\n",
              "      <td>4-Seam Fastball</td>\n",
              "      <td>2</td>\n",
              "      <td>1</td>\n",
              "      <td>2</td>\n",
              "      <td>1</td>\n",
              "      <td>NaN</td>\n",
              "      <td>ball</td>\n",
              "      <td>8</td>\n",
              "      <td>595918</td>\n",
              "      <td>A.J. Cole</td>\n",
              "      <td>656305</td>\n",
              "      <td>0.0</td>\n",
              "      <td>0.0</td>\n",
              "      <td>0.0</td>\n",
              "      <td>2</td>\n",
              "      <td>0.095</td>\n",
              "      <td>0.148</td>\n",
              "      <td>1</td>\n",
              "      <td>0</td>\n",
              "    </tr>\n",
              "    <tr>\n",
              "      <th>13</th>\n",
              "      <td>2019</td>\n",
              "      <td>566106</td>\n",
              "      <td>FF</td>\n",
              "      <td>2019-05-11</td>\n",
              "      <td>S</td>\n",
              "      <td>1</td>\n",
              "      <td>0</td>\n",
              "      <td>Bot</td>\n",
              "      <td>2</td>\n",
              "      <td>4-Seam Fastball</td>\n",
              "      <td>2</td>\n",
              "      <td>1</td>\n",
              "      <td>2</td>\n",
              "      <td>1</td>\n",
              "      <td>NaN</td>\n",
              "      <td>called_strike</td>\n",
              "      <td>8</td>\n",
              "      <td>595918</td>\n",
              "      <td>A.J. Cole</td>\n",
              "      <td>656305</td>\n",
              "      <td>0.0</td>\n",
              "      <td>0.0</td>\n",
              "      <td>0.0</td>\n",
              "      <td>2</td>\n",
              "      <td>0.095</td>\n",
              "      <td>0.000</td>\n",
              "      <td>0</td>\n",
              "      <td>1</td>\n",
              "    </tr>\n",
              "    <tr>\n",
              "      <th>14</th>\n",
              "      <td>2019</td>\n",
              "      <td>566106</td>\n",
              "      <td>SL</td>\n",
              "      <td>2019-05-11</td>\n",
              "      <td>S</td>\n",
              "      <td>1</td>\n",
              "      <td>1</td>\n",
              "      <td>Bot</td>\n",
              "      <td>3</td>\n",
              "      <td>Slider</td>\n",
              "      <td>2</td>\n",
              "      <td>1</td>\n",
              "      <td>2</td>\n",
              "      <td>1</td>\n",
              "      <td>NaN</td>\n",
              "      <td>swinging_strike</td>\n",
              "      <td>8</td>\n",
              "      <td>595918</td>\n",
              "      <td>A.J. Cole</td>\n",
              "      <td>656305</td>\n",
              "      <td>0.0</td>\n",
              "      <td>0.0</td>\n",
              "      <td>0.0</td>\n",
              "      <td>2</td>\n",
              "      <td>0.095</td>\n",
              "      <td>0.000</td>\n",
              "      <td>0</td>\n",
              "      <td>1</td>\n",
              "    </tr>\n",
              "    <tr>\n",
              "      <th>15</th>\n",
              "      <td>2019</td>\n",
              "      <td>566106</td>\n",
              "      <td>FF</td>\n",
              "      <td>2019-05-11</td>\n",
              "      <td>B</td>\n",
              "      <td>1</td>\n",
              "      <td>2</td>\n",
              "      <td>Bot</td>\n",
              "      <td>4</td>\n",
              "      <td>4-Seam Fastball</td>\n",
              "      <td>2</td>\n",
              "      <td>1</td>\n",
              "      <td>2</td>\n",
              "      <td>1</td>\n",
              "      <td>NaN</td>\n",
              "      <td>ball</td>\n",
              "      <td>8</td>\n",
              "      <td>595918</td>\n",
              "      <td>A.J. Cole</td>\n",
              "      <td>656305</td>\n",
              "      <td>0.0</td>\n",
              "      <td>0.0</td>\n",
              "      <td>0.0</td>\n",
              "      <td>2</td>\n",
              "      <td>0.095</td>\n",
              "      <td>0.000</td>\n",
              "      <td>0</td>\n",
              "      <td>0</td>\n",
              "    </tr>\n",
              "    <tr>\n",
              "      <th>16</th>\n",
              "      <td>2019</td>\n",
              "      <td>566106</td>\n",
              "      <td>SL</td>\n",
              "      <td>2019-05-11</td>\n",
              "      <td>S</td>\n",
              "      <td>2</td>\n",
              "      <td>2</td>\n",
              "      <td>Bot</td>\n",
              "      <td>5</td>\n",
              "      <td>Slider</td>\n",
              "      <td>2</td>\n",
              "      <td>1</td>\n",
              "      <td>2</td>\n",
              "      <td>1</td>\n",
              "      <td>strikeout</td>\n",
              "      <td>swinging_strike</td>\n",
              "      <td>8</td>\n",
              "      <td>595918</td>\n",
              "      <td>A.J. Cole</td>\n",
              "      <td>656305</td>\n",
              "      <td>0.0</td>\n",
              "      <td>0.0</td>\n",
              "      <td>0.0</td>\n",
              "      <td>2</td>\n",
              "      <td>0.095</td>\n",
              "      <td>0.000</td>\n",
              "      <td>0</td>\n",
              "      <td>1</td>\n",
              "    </tr>\n",
              "    <tr>\n",
              "      <th>17</th>\n",
              "      <td>2019</td>\n",
              "      <td>566106</td>\n",
              "      <td>SL</td>\n",
              "      <td>2019-05-11</td>\n",
              "      <td>X</td>\n",
              "      <td>0</td>\n",
              "      <td>0</td>\n",
              "      <td>Bot</td>\n",
              "      <td>1</td>\n",
              "      <td>Slider</td>\n",
              "      <td>2</td>\n",
              "      <td>2</td>\n",
              "      <td>2</td>\n",
              "      <td>2</td>\n",
              "      <td>sac_bunt</td>\n",
              "      <td>hit_into_play</td>\n",
              "      <td>9</td>\n",
              "      <td>595918</td>\n",
              "      <td>A.J. Cole</td>\n",
              "      <td>572039</td>\n",
              "      <td>434778.0</td>\n",
              "      <td>621566.0</td>\n",
              "      <td>0.0</td>\n",
              "      <td>0</td>\n",
              "      <td>1.373</td>\n",
              "      <td>8.539</td>\n",
              "      <td>1</td>\n",
              "      <td>1</td>\n",
              "    </tr>\n",
              "    <tr>\n",
              "      <th>18</th>\n",
              "      <td>2019</td>\n",
              "      <td>566106</td>\n",
              "      <td>FF</td>\n",
              "      <td>2019-05-11</td>\n",
              "      <td>B</td>\n",
              "      <td>0</td>\n",
              "      <td>0</td>\n",
              "      <td>Bot</td>\n",
              "      <td>1</td>\n",
              "      <td>4-Seam Fastball</td>\n",
              "      <td>2</td>\n",
              "      <td>2</td>\n",
              "      <td>2</td>\n",
              "      <td>2</td>\n",
              "      <td>NaN</td>\n",
              "      <td>ball</td>\n",
              "      <td>9</td>\n",
              "      <td>595918</td>\n",
              "      <td>A.J. Cole</td>\n",
              "      <td>434778</td>\n",
              "      <td>621566.0</td>\n",
              "      <td>0.0</td>\n",
              "      <td>0.0</td>\n",
              "      <td>0</td>\n",
              "      <td>0.831</td>\n",
              "      <td>0.542</td>\n",
              "      <td>1</td>\n",
              "      <td>0</td>\n",
              "    </tr>\n",
              "    <tr>\n",
              "      <th>19</th>\n",
              "      <td>2019</td>\n",
              "      <td>566106</td>\n",
              "      <td>FF</td>\n",
              "      <td>2019-05-11</td>\n",
              "      <td>S</td>\n",
              "      <td>0</td>\n",
              "      <td>0</td>\n",
              "      <td>Bot</td>\n",
              "      <td>1</td>\n",
              "      <td>4-Seam Fastball</td>\n",
              "      <td>2</td>\n",
              "      <td>2</td>\n",
              "      <td>2</td>\n",
              "      <td>2</td>\n",
              "      <td>NaN</td>\n",
              "      <td>called_strike</td>\n",
              "      <td>9</td>\n",
              "      <td>595918</td>\n",
              "      <td>A.J. Cole</td>\n",
              "      <td>621566</td>\n",
              "      <td>0.0</td>\n",
              "      <td>0.0</td>\n",
              "      <td>0.0</td>\n",
              "      <td>0</td>\n",
              "      <td>0.461</td>\n",
              "      <td>0.370</td>\n",
              "      <td>1</td>\n",
              "      <td>1</td>\n",
              "    </tr>\n",
              "  </tbody>\n",
              "</table>\n",
              "</div>\n",
              "      <button class=\"colab-df-convert\" onclick=\"convertToInteractive('df-a2a18974-af15-4335-9e5f-032db8fd7055')\"\n",
              "              title=\"Convert this dataframe to an interactive table.\"\n",
              "              style=\"display:none;\">\n",
              "        \n",
              "  <svg xmlns=\"http://www.w3.org/2000/svg\" height=\"24px\"viewBox=\"0 0 24 24\"\n",
              "       width=\"24px\">\n",
              "    <path d=\"M0 0h24v24H0V0z\" fill=\"none\"/>\n",
              "    <path d=\"M18.56 5.44l.94 2.06.94-2.06 2.06-.94-2.06-.94-.94-2.06-.94 2.06-2.06.94zm-11 1L8.5 8.5l.94-2.06 2.06-.94-2.06-.94L8.5 2.5l-.94 2.06-2.06.94zm10 10l.94 2.06.94-2.06 2.06-.94-2.06-.94-.94-2.06-.94 2.06-2.06.94z\"/><path d=\"M17.41 7.96l-1.37-1.37c-.4-.4-.92-.59-1.43-.59-.52 0-1.04.2-1.43.59L10.3 9.45l-7.72 7.72c-.78.78-.78 2.05 0 2.83L4 21.41c.39.39.9.59 1.41.59.51 0 1.02-.2 1.41-.59l7.78-7.78 2.81-2.81c.8-.78.8-2.07 0-2.86zM5.41 20L4 18.59l7.72-7.72 1.47 1.35L5.41 20z\"/>\n",
              "  </svg>\n",
              "      </button>\n",
              "      \n",
              "  <style>\n",
              "    .colab-df-container {\n",
              "      display:flex;\n",
              "      flex-wrap:wrap;\n",
              "      gap: 12px;\n",
              "    }\n",
              "\n",
              "    .colab-df-convert {\n",
              "      background-color: #E8F0FE;\n",
              "      border: none;\n",
              "      border-radius: 50%;\n",
              "      cursor: pointer;\n",
              "      display: none;\n",
              "      fill: #1967D2;\n",
              "      height: 32px;\n",
              "      padding: 0 0 0 0;\n",
              "      width: 32px;\n",
              "    }\n",
              "\n",
              "    .colab-df-convert:hover {\n",
              "      background-color: #E2EBFA;\n",
              "      box-shadow: 0px 1px 2px rgba(60, 64, 67, 0.3), 0px 1px 3px 1px rgba(60, 64, 67, 0.15);\n",
              "      fill: #174EA6;\n",
              "    }\n",
              "\n",
              "    [theme=dark] .colab-df-convert {\n",
              "      background-color: #3B4455;\n",
              "      fill: #D2E3FC;\n",
              "    }\n",
              "\n",
              "    [theme=dark] .colab-df-convert:hover {\n",
              "      background-color: #434B5C;\n",
              "      box-shadow: 0px 1px 3px 1px rgba(0, 0, 0, 0.15);\n",
              "      filter: drop-shadow(0px 1px 2px rgba(0, 0, 0, 0.3));\n",
              "      fill: #FFFFFF;\n",
              "    }\n",
              "  </style>\n",
              "\n",
              "      <script>\n",
              "        const buttonEl =\n",
              "          document.querySelector('#df-a2a18974-af15-4335-9e5f-032db8fd7055 button.colab-df-convert');\n",
              "        buttonEl.style.display =\n",
              "          google.colab.kernel.accessAllowed ? 'block' : 'none';\n",
              "\n",
              "        async function convertToInteractive(key) {\n",
              "          const element = document.querySelector('#df-a2a18974-af15-4335-9e5f-032db8fd7055');\n",
              "          const dataTable =\n",
              "            await google.colab.kernel.invokeFunction('convertToInteractive',\n",
              "                                                     [key], {});\n",
              "          if (!dataTable) return;\n",
              "\n",
              "          const docLinkHtml = 'Like what you see? Visit the ' +\n",
              "            '<a target=\"_blank\" href=https://colab.research.google.com/notebooks/data_table.ipynb>data table notebook</a>'\n",
              "            + ' to learn more about interactive tables.';\n",
              "          element.innerHTML = '';\n",
              "          dataTable['output_type'] = 'display_data';\n",
              "          await google.colab.output.renderOutput(dataTable, element);\n",
              "          const docLink = document.createElement('div');\n",
              "          docLink.innerHTML = docLinkHtml;\n",
              "          element.appendChild(docLink);\n",
              "        }\n",
              "      </script>\n",
              "    </div>\n",
              "  </div>\n",
              "  "
            ],
            "text/plain": [
              "    game_year  game_pk  ... re_24_change_ord so_change\n",
              "0        2019   566106  ...                0         0\n",
              "1        2019   566106  ...                0         1\n",
              "2        2019   566106  ...                0         1\n",
              "3        2019   566106  ...                0         1\n",
              "4        2019   566106  ...                0         1\n",
              "5        2019   566106  ...                0         1\n",
              "6        2019   566106  ...                1         1\n",
              "7        2019   566106  ...                0         0\n",
              "8        2019   566106  ...                0         0\n",
              "9        2019   566106  ...                0         1\n",
              "10       2019   566106  ...                0         0\n",
              "11       2019   566106  ...                0         1\n",
              "12       2019   566106  ...                1         0\n",
              "13       2019   566106  ...                0         1\n",
              "14       2019   566106  ...                0         1\n",
              "15       2019   566106  ...                0         0\n",
              "16       2019   566106  ...                0         1\n",
              "17       2019   566106  ...                1         1\n",
              "18       2019   566106  ...                1         0\n",
              "19       2019   566106  ...                1         1\n",
              "\n",
              "[20 rows x 28 columns]"
            ]
          },
          "metadata": {},
          "execution_count": 14
        }
      ]
    }
  ]
}