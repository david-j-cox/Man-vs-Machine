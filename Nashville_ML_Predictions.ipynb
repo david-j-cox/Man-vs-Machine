{
  "nbformat": 4,
  "nbformat_minor": 0,
  "metadata": {
    "colab": {
      "name": "Nashville_ML_Predictions.ipynb",
      "provenance": [],
      "collapsed_sections": [],
      "toc_visible": true,
      "include_colab_link": true
    },
    "kernelspec": {
      "name": "python3",
      "display_name": "Python 3"
    }
  },
  "cells": [
    {
      "cell_type": "markdown",
      "metadata": {
        "id": "view-in-github",
        "colab_type": "text"
      },
      "source": [
        "<a href=\"https://colab.research.google.com/github/davidjcox333/Man-vs-Machine/blob/master/Nashville_ML_Predictions.ipynb\" target=\"_parent\"><img src=\"https://colab.research.google.com/assets/colab-badge.svg\" alt=\"Open In Colab\"/></a>"
      ]
    },
    {
      "cell_type": "code",
      "metadata": {
        "id": "go63Z8BLuagC",
        "colab_type": "code",
        "colab": {
          "base_uri": "https://localhost:8080/",
          "height": 167
        },
        "outputId": "d5318741-53d8-40c3-bfec-567e354f304d"
      },
      "source": [
        "# Packages!!\n",
        "import os\n",
        "import sys\n",
        "import pandas as pd\n",
        "import numpy as np\n",
        "import scipy\n",
        "import pandas_profiling\n",
        "import seaborn as sns\n",
        "import matplotlib.pyplot as plt\n",
        "from google.colab import drive\n",
        "from sklearn import metrics\n",
        "from sklearn.metrics import r2_score\n",
        "from sklearn.model_selection import train_test_split\n",
        "from sklearn.metrics import precision_recall_curve\n",
        "from sklearn.metrics import f1_score, auc\n",
        "drive.mount('/content/gdrive')\n",
        "%cd './gdrive/My Drive/Policing Data'\n",
        "%matplotlib inline"
      ],
      "execution_count": 1,
      "outputs": [
        {
          "output_type": "stream",
          "text": [
            "/usr/local/lib/python3.6/dist-packages/statsmodels/tools/_testing.py:19: FutureWarning: pandas.util.testing is deprecated. Use the functions in the public API at pandas.testing instead.\n",
            "  import pandas.util.testing as tm\n"
          ],
          "name": "stderr"
        },
        {
          "output_type": "stream",
          "text": [
            "Go to this URL in a browser: https://accounts.google.com/o/oauth2/auth?client_id=947318989803-6bn6qk8qdgf4n4g3pfee6491hc0brc4i.apps.googleusercontent.com&redirect_uri=urn%3aietf%3awg%3aoauth%3a2.0%3aoob&response_type=code&scope=email%20https%3a%2f%2fwww.googleapis.com%2fauth%2fdocs.test%20https%3a%2f%2fwww.googleapis.com%2fauth%2fdrive%20https%3a%2f%2fwww.googleapis.com%2fauth%2fdrive.photos.readonly%20https%3a%2f%2fwww.googleapis.com%2fauth%2fpeopleapi.readonly\n",
            "\n",
            "Enter your authorization code:\n",
            "··········\n",
            "Mounted at /content/gdrive\n",
            "/content/gdrive/My Drive/Policing Data\n"
          ],
          "name": "stdout"
        }
      ]
    },
    {
      "cell_type": "code",
      "metadata": {
        "id": "-5aLCapS9bvG",
        "colab_type": "code",
        "colab": {
          "base_uri": "https://localhost:8080/",
          "height": 70
        },
        "outputId": "f80c91bf-a069-4d53-90ee-3635c136e8d8"
      },
      "source": [
        "# Read in the data\n",
        "nash_raw_data = pd.read_csv(\"tn_nashville_2020_04_01.csv\")\n",
        "nash_data = nash_raw_data.copy()"
      ],
      "execution_count": 2,
      "outputs": [
        {
          "output_type": "stream",
          "text": [
            "/usr/local/lib/python3.6/dist-packages/IPython/core/interactiveshell.py:2718: DtypeWarning: Columns (6,8,15,16,17,22,23,24,25,29,30,31,32,33,35,36,37,38,40,41) have mixed types.Specify dtype option on import or set low_memory=False.\n",
            "  interactivity=interactivity, compiler=compiler, result=result)\n"
          ],
          "name": "stderr"
        }
      ]
    },
    {
      "cell_type": "markdown",
      "metadata": {
        "id": "4G51eiXLffrK",
        "colab_type": "text"
      },
      "source": [
        "# Data pre-processing"
      ]
    },
    {
      "cell_type": "code",
      "metadata": {
        "id": "keWd_GvzYMjx",
        "colab_type": "code",
        "colab": {
          "base_uri": "https://localhost:8080/",
          "height": 1000
        },
        "outputId": "11f44086-216f-45a0-930e-084664b5735c"
      },
      "source": [
        "# Sample of what the data looks like and the data types\n",
        "print(nash_data.dtypes)\n",
        "nash_data.head()"
      ],
      "execution_count": null,
      "outputs": [
        {
          "output_type": "stream",
          "text": [
            "raw_row_number                     object\n",
            "date                               object\n",
            "time                               object\n",
            "location                           object\n",
            "lat                               float64\n",
            "lng                               float64\n",
            "precinct                           object\n",
            "reporting_area                    float64\n",
            "zone                               object\n",
            "subject_age                       float64\n",
            "subject_race                       object\n",
            "subject_sex                        object\n",
            "officer_id_hash                    object\n",
            "type                               object\n",
            "violation                          object\n",
            "arrest_made                        object\n",
            "citation_issued                    object\n",
            "warning_issued                     object\n",
            "outcome                            object\n",
            "contraband_found                   object\n",
            "contraband_drugs                   object\n",
            "contraband_weapons                 object\n",
            "frisk_performed                    object\n",
            "search_conducted                   object\n",
            "search_person                      object\n",
            "search_vehicle                     object\n",
            "search_basis                       object\n",
            "reason_for_stop                    object\n",
            "vehicle_registration_state         object\n",
            "notes                              object\n",
            "raw_verbal_warning_issued          object\n",
            "raw_written_warning_issued         object\n",
            "raw_traffic_citation_issued        object\n",
            "raw_misd_state_citation_issued     object\n",
            "raw_suspect_ethnicity              object\n",
            "raw_driver_searched                object\n",
            "raw_passenger_searched             object\n",
            "raw_search_consent                 object\n",
            "raw_search_arrest                  object\n",
            "raw_search_warrant                   bool\n",
            "raw_search_inventory               object\n",
            "raw_search_plain_view              object\n",
            "dtype: object\n"
          ],
          "name": "stdout"
        },
        {
          "output_type": "execute_result",
          "data": {
            "text/html": [
              "<div>\n",
              "<style scoped>\n",
              "    .dataframe tbody tr th:only-of-type {\n",
              "        vertical-align: middle;\n",
              "    }\n",
              "\n",
              "    .dataframe tbody tr th {\n",
              "        vertical-align: top;\n",
              "    }\n",
              "\n",
              "    .dataframe thead th {\n",
              "        text-align: right;\n",
              "    }\n",
              "</style>\n",
              "<table border=\"1\" class=\"dataframe\">\n",
              "  <thead>\n",
              "    <tr style=\"text-align: right;\">\n",
              "      <th></th>\n",
              "      <th>raw_row_number</th>\n",
              "      <th>date</th>\n",
              "      <th>time</th>\n",
              "      <th>location</th>\n",
              "      <th>lat</th>\n",
              "      <th>lng</th>\n",
              "      <th>precinct</th>\n",
              "      <th>reporting_area</th>\n",
              "      <th>zone</th>\n",
              "      <th>subject_age</th>\n",
              "      <th>subject_race</th>\n",
              "      <th>subject_sex</th>\n",
              "      <th>officer_id_hash</th>\n",
              "      <th>type</th>\n",
              "      <th>violation</th>\n",
              "      <th>arrest_made</th>\n",
              "      <th>citation_issued</th>\n",
              "      <th>warning_issued</th>\n",
              "      <th>outcome</th>\n",
              "      <th>contraband_found</th>\n",
              "      <th>contraband_drugs</th>\n",
              "      <th>contraband_weapons</th>\n",
              "      <th>frisk_performed</th>\n",
              "      <th>search_conducted</th>\n",
              "      <th>search_person</th>\n",
              "      <th>search_vehicle</th>\n",
              "      <th>search_basis</th>\n",
              "      <th>reason_for_stop</th>\n",
              "      <th>vehicle_registration_state</th>\n",
              "      <th>notes</th>\n",
              "      <th>raw_verbal_warning_issued</th>\n",
              "      <th>raw_written_warning_issued</th>\n",
              "      <th>raw_traffic_citation_issued</th>\n",
              "      <th>raw_misd_state_citation_issued</th>\n",
              "      <th>raw_suspect_ethnicity</th>\n",
              "      <th>raw_driver_searched</th>\n",
              "      <th>raw_passenger_searched</th>\n",
              "      <th>raw_search_consent</th>\n",
              "      <th>raw_search_arrest</th>\n",
              "      <th>raw_search_warrant</th>\n",
              "      <th>raw_search_inventory</th>\n",
              "      <th>raw_search_plain_view</th>\n",
              "    </tr>\n",
              "  </thead>\n",
              "  <tbody>\n",
              "    <tr>\n",
              "      <th>0</th>\n",
              "      <td>232947</td>\n",
              "      <td>2010-10-10</td>\n",
              "      <td>NaN</td>\n",
              "      <td>DOMINICAN DR &amp; ROSA L PARKS BLVD, NASHVILLE, T...</td>\n",
              "      <td>36.187925</td>\n",
              "      <td>-86.798519</td>\n",
              "      <td>6</td>\n",
              "      <td>4403.0</td>\n",
              "      <td>611</td>\n",
              "      <td>27.0</td>\n",
              "      <td>black</td>\n",
              "      <td>male</td>\n",
              "      <td>80ed1b32eb</td>\n",
              "      <td>vehicular</td>\n",
              "      <td>investigative stop</td>\n",
              "      <td>False</td>\n",
              "      <td>False</td>\n",
              "      <td>True</td>\n",
              "      <td>warning</td>\n",
              "      <td>NaN</td>\n",
              "      <td>NaN</td>\n",
              "      <td>NaN</td>\n",
              "      <td>False</td>\n",
              "      <td>False</td>\n",
              "      <td>False</td>\n",
              "      <td>False</td>\n",
              "      <td>NaN</td>\n",
              "      <td>investigative stop</td>\n",
              "      <td>TN</td>\n",
              "      <td>NaN</td>\n",
              "      <td>True</td>\n",
              "      <td>False</td>\n",
              "      <td>False</td>\n",
              "      <td>NaN</td>\n",
              "      <td>N</td>\n",
              "      <td>False</td>\n",
              "      <td>False</td>\n",
              "      <td>False</td>\n",
              "      <td>False</td>\n",
              "      <td>False</td>\n",
              "      <td>False</td>\n",
              "      <td>False</td>\n",
              "    </tr>\n",
              "    <tr>\n",
              "      <th>1</th>\n",
              "      <td>237161</td>\n",
              "      <td>2010-10-10</td>\n",
              "      <td>10:00:00</td>\n",
              "      <td>1122 LEBANON PIKE, NASHVILLE, TN, 37210</td>\n",
              "      <td>36.155521</td>\n",
              "      <td>-86.735902</td>\n",
              "      <td>5</td>\n",
              "      <td>9035.0</td>\n",
              "      <td>513</td>\n",
              "      <td>18.0</td>\n",
              "      <td>white</td>\n",
              "      <td>male</td>\n",
              "      <td>a983204b21</td>\n",
              "      <td>vehicular</td>\n",
              "      <td>moving traffic violation</td>\n",
              "      <td>False</td>\n",
              "      <td>True</td>\n",
              "      <td>False</td>\n",
              "      <td>citation</td>\n",
              "      <td>NaN</td>\n",
              "      <td>NaN</td>\n",
              "      <td>NaN</td>\n",
              "      <td>False</td>\n",
              "      <td>False</td>\n",
              "      <td>False</td>\n",
              "      <td>False</td>\n",
              "      <td>NaN</td>\n",
              "      <td>moving traffic violation</td>\n",
              "      <td>TN</td>\n",
              "      <td>NaN</td>\n",
              "      <td>False</td>\n",
              "      <td>False</td>\n",
              "      <td>True</td>\n",
              "      <td>NaN</td>\n",
              "      <td>N</td>\n",
              "      <td>False</td>\n",
              "      <td>False</td>\n",
              "      <td>False</td>\n",
              "      <td>False</td>\n",
              "      <td>False</td>\n",
              "      <td>False</td>\n",
              "      <td>False</td>\n",
              "    </tr>\n",
              "    <tr>\n",
              "      <th>2</th>\n",
              "      <td>232902</td>\n",
              "      <td>2010-10-10</td>\n",
              "      <td>10:00:00</td>\n",
              "      <td>898 DAVIDSON DR, , TN, 37205</td>\n",
              "      <td>36.117420</td>\n",
              "      <td>-86.895593</td>\n",
              "      <td>1</td>\n",
              "      <td>5005.0</td>\n",
              "      <td>121</td>\n",
              "      <td>52.0</td>\n",
              "      <td>white</td>\n",
              "      <td>male</td>\n",
              "      <td>f5d8fbd78b</td>\n",
              "      <td>vehicular</td>\n",
              "      <td>vehicle equipment violation</td>\n",
              "      <td>False</td>\n",
              "      <td>False</td>\n",
              "      <td>True</td>\n",
              "      <td>warning</td>\n",
              "      <td>NaN</td>\n",
              "      <td>NaN</td>\n",
              "      <td>NaN</td>\n",
              "      <td>False</td>\n",
              "      <td>False</td>\n",
              "      <td>False</td>\n",
              "      <td>False</td>\n",
              "      <td>NaN</td>\n",
              "      <td>vehicle equipment violation</td>\n",
              "      <td>TN</td>\n",
              "      <td>NaN</td>\n",
              "      <td>True</td>\n",
              "      <td>False</td>\n",
              "      <td>False</td>\n",
              "      <td>NaN</td>\n",
              "      <td>N</td>\n",
              "      <td>False</td>\n",
              "      <td>False</td>\n",
              "      <td>False</td>\n",
              "      <td>False</td>\n",
              "      <td>False</td>\n",
              "      <td>False</td>\n",
              "      <td>False</td>\n",
              "    </tr>\n",
              "    <tr>\n",
              "      <th>3</th>\n",
              "      <td>233219</td>\n",
              "      <td>2010-10-10</td>\n",
              "      <td>22:00:00</td>\n",
              "      <td>MURFREESBORO PIKE &amp; NASHBORO BLVD, ANTIOCH, TN...</td>\n",
              "      <td>36.086799</td>\n",
              "      <td>-86.648581</td>\n",
              "      <td>3</td>\n",
              "      <td>8891.0</td>\n",
              "      <td>325</td>\n",
              "      <td>25.0</td>\n",
              "      <td>white</td>\n",
              "      <td>male</td>\n",
              "      <td>4f1d028e45</td>\n",
              "      <td>vehicular</td>\n",
              "      <td>registration</td>\n",
              "      <td>False</td>\n",
              "      <td>False</td>\n",
              "      <td>True</td>\n",
              "      <td>warning</td>\n",
              "      <td>NaN</td>\n",
              "      <td>NaN</td>\n",
              "      <td>NaN</td>\n",
              "      <td>False</td>\n",
              "      <td>False</td>\n",
              "      <td>False</td>\n",
              "      <td>False</td>\n",
              "      <td>NaN</td>\n",
              "      <td>registration</td>\n",
              "      <td>TN</td>\n",
              "      <td>NaN</td>\n",
              "      <td>True</td>\n",
              "      <td>False</td>\n",
              "      <td>False</td>\n",
              "      <td>NaN</td>\n",
              "      <td>N</td>\n",
              "      <td>False</td>\n",
              "      <td>False</td>\n",
              "      <td>False</td>\n",
              "      <td>False</td>\n",
              "      <td>False</td>\n",
              "      <td>False</td>\n",
              "      <td>False</td>\n",
              "    </tr>\n",
              "    <tr>\n",
              "      <th>4</th>\n",
              "      <td>232780</td>\n",
              "      <td>2010-10-10</td>\n",
              "      <td>01:00:00</td>\n",
              "      <td>BUCHANAN ST, NORTH, TN, 37208</td>\n",
              "      <td>36.180038</td>\n",
              "      <td>-86.809109</td>\n",
              "      <td>NaN</td>\n",
              "      <td>NaN</td>\n",
              "      <td>NaN</td>\n",
              "      <td>21.0</td>\n",
              "      <td>black</td>\n",
              "      <td>male</td>\n",
              "      <td>0f0e6b7d67</td>\n",
              "      <td>vehicular</td>\n",
              "      <td>vehicle equipment violation</td>\n",
              "      <td>False</td>\n",
              "      <td>False</td>\n",
              "      <td>True</td>\n",
              "      <td>warning</td>\n",
              "      <td>False</td>\n",
              "      <td>False</td>\n",
              "      <td>False</td>\n",
              "      <td>False</td>\n",
              "      <td>True</td>\n",
              "      <td>True</td>\n",
              "      <td>True</td>\n",
              "      <td>probable cause</td>\n",
              "      <td>vehicle equipment violation</td>\n",
              "      <td>TN</td>\n",
              "      <td>NaN</td>\n",
              "      <td>True</td>\n",
              "      <td>False</td>\n",
              "      <td>False</td>\n",
              "      <td>NaN</td>\n",
              "      <td>N</td>\n",
              "      <td>True</td>\n",
              "      <td>True</td>\n",
              "      <td>False</td>\n",
              "      <td>False</td>\n",
              "      <td>False</td>\n",
              "      <td>False</td>\n",
              "      <td>False</td>\n",
              "    </tr>\n",
              "  </tbody>\n",
              "</table>\n",
              "</div>"
            ],
            "text/plain": [
              "  raw_row_number        date  ... raw_search_inventory raw_search_plain_view\n",
              "0         232947  2010-10-10  ...                False                 False\n",
              "1         237161  2010-10-10  ...                False                 False\n",
              "2         232902  2010-10-10  ...                False                 False\n",
              "3         233219  2010-10-10  ...                False                 False\n",
              "4         232780  2010-10-10  ...                False                 False\n",
              "\n",
              "[5 rows x 42 columns]"
            ]
          },
          "metadata": {
            "tags": []
          },
          "execution_count": 3
        }
      ]
    },
    {
      "cell_type": "code",
      "metadata": {
        "id": "j_3egPN_irUM",
        "colab_type": "code",
        "colab": {}
      },
      "source": [
        "# Isolate the columns we're interested in. \n",
        "df = nash_data[['date', 'time','location','lat','lng','precinct',\\\n",
        "                'reporting_area','zone','subject_age','subject_race',\\\n",
        "                'subject_sex','officer_id_hash','type','violation',\n",
        "                'arrest_made','citation_issued','warning_issued',\\\n",
        "                'contraband_found','contraband_drugs',\\\n",
        "                'contraband_weapons','frisk_performed','search_conducted',\\\n",
        "                'search_person','search_vehicle','reason_for_stop',\\\n",
        "                'vehicle_registration_state']]"
      ],
      "execution_count": null,
      "outputs": []
    },
    {
      "cell_type": "code",
      "metadata": {
        "id": "kXEs0qrSiscb",
        "colab_type": "code",
        "colab": {
          "base_uri": "https://localhost:8080/",
          "height": 422
        },
        "outputId": "b84769bf-e58d-4065-baa3-e503f2a581cb"
      },
      "source": [
        "df.head()"
      ],
      "execution_count": null,
      "outputs": [
        {
          "output_type": "execute_result",
          "data": {
            "text/html": [
              "<div>\n",
              "<style scoped>\n",
              "    .dataframe tbody tr th:only-of-type {\n",
              "        vertical-align: middle;\n",
              "    }\n",
              "\n",
              "    .dataframe tbody tr th {\n",
              "        vertical-align: top;\n",
              "    }\n",
              "\n",
              "    .dataframe thead th {\n",
              "        text-align: right;\n",
              "    }\n",
              "</style>\n",
              "<table border=\"1\" class=\"dataframe\">\n",
              "  <thead>\n",
              "    <tr style=\"text-align: right;\">\n",
              "      <th></th>\n",
              "      <th>date</th>\n",
              "      <th>time</th>\n",
              "      <th>location</th>\n",
              "      <th>lat</th>\n",
              "      <th>lng</th>\n",
              "      <th>precinct</th>\n",
              "      <th>reporting_area</th>\n",
              "      <th>zone</th>\n",
              "      <th>subject_age</th>\n",
              "      <th>subject_race</th>\n",
              "      <th>subject_sex</th>\n",
              "      <th>officer_id_hash</th>\n",
              "      <th>type</th>\n",
              "      <th>violation</th>\n",
              "      <th>arrest_made</th>\n",
              "      <th>citation_issued</th>\n",
              "      <th>warning_issued</th>\n",
              "      <th>contraband_found</th>\n",
              "      <th>contraband_drugs</th>\n",
              "      <th>contraband_weapons</th>\n",
              "      <th>frisk_performed</th>\n",
              "      <th>search_conducted</th>\n",
              "      <th>search_person</th>\n",
              "      <th>search_vehicle</th>\n",
              "      <th>reason_for_stop</th>\n",
              "      <th>vehicle_registration_state</th>\n",
              "    </tr>\n",
              "  </thead>\n",
              "  <tbody>\n",
              "    <tr>\n",
              "      <th>0</th>\n",
              "      <td>2010-10-10</td>\n",
              "      <td>NaN</td>\n",
              "      <td>DOMINICAN DR &amp; ROSA L PARKS BLVD, NASHVILLE, T...</td>\n",
              "      <td>36.187925</td>\n",
              "      <td>-86.798519</td>\n",
              "      <td>6</td>\n",
              "      <td>4403.0</td>\n",
              "      <td>611</td>\n",
              "      <td>27.0</td>\n",
              "      <td>black</td>\n",
              "      <td>male</td>\n",
              "      <td>80ed1b32eb</td>\n",
              "      <td>vehicular</td>\n",
              "      <td>investigative stop</td>\n",
              "      <td>False</td>\n",
              "      <td>False</td>\n",
              "      <td>True</td>\n",
              "      <td>NaN</td>\n",
              "      <td>NaN</td>\n",
              "      <td>NaN</td>\n",
              "      <td>False</td>\n",
              "      <td>False</td>\n",
              "      <td>False</td>\n",
              "      <td>False</td>\n",
              "      <td>investigative stop</td>\n",
              "      <td>TN</td>\n",
              "    </tr>\n",
              "    <tr>\n",
              "      <th>1</th>\n",
              "      <td>2010-10-10</td>\n",
              "      <td>10:00:00</td>\n",
              "      <td>1122 LEBANON PIKE, NASHVILLE, TN, 37210</td>\n",
              "      <td>36.155521</td>\n",
              "      <td>-86.735902</td>\n",
              "      <td>5</td>\n",
              "      <td>9035.0</td>\n",
              "      <td>513</td>\n",
              "      <td>18.0</td>\n",
              "      <td>white</td>\n",
              "      <td>male</td>\n",
              "      <td>a983204b21</td>\n",
              "      <td>vehicular</td>\n",
              "      <td>moving traffic violation</td>\n",
              "      <td>False</td>\n",
              "      <td>True</td>\n",
              "      <td>False</td>\n",
              "      <td>NaN</td>\n",
              "      <td>NaN</td>\n",
              "      <td>NaN</td>\n",
              "      <td>False</td>\n",
              "      <td>False</td>\n",
              "      <td>False</td>\n",
              "      <td>False</td>\n",
              "      <td>moving traffic violation</td>\n",
              "      <td>TN</td>\n",
              "    </tr>\n",
              "    <tr>\n",
              "      <th>2</th>\n",
              "      <td>2010-10-10</td>\n",
              "      <td>10:00:00</td>\n",
              "      <td>898 DAVIDSON DR, , TN, 37205</td>\n",
              "      <td>36.117420</td>\n",
              "      <td>-86.895593</td>\n",
              "      <td>1</td>\n",
              "      <td>5005.0</td>\n",
              "      <td>121</td>\n",
              "      <td>52.0</td>\n",
              "      <td>white</td>\n",
              "      <td>male</td>\n",
              "      <td>f5d8fbd78b</td>\n",
              "      <td>vehicular</td>\n",
              "      <td>vehicle equipment violation</td>\n",
              "      <td>False</td>\n",
              "      <td>False</td>\n",
              "      <td>True</td>\n",
              "      <td>NaN</td>\n",
              "      <td>NaN</td>\n",
              "      <td>NaN</td>\n",
              "      <td>False</td>\n",
              "      <td>False</td>\n",
              "      <td>False</td>\n",
              "      <td>False</td>\n",
              "      <td>vehicle equipment violation</td>\n",
              "      <td>TN</td>\n",
              "    </tr>\n",
              "    <tr>\n",
              "      <th>3</th>\n",
              "      <td>2010-10-10</td>\n",
              "      <td>22:00:00</td>\n",
              "      <td>MURFREESBORO PIKE &amp; NASHBORO BLVD, ANTIOCH, TN...</td>\n",
              "      <td>36.086799</td>\n",
              "      <td>-86.648581</td>\n",
              "      <td>3</td>\n",
              "      <td>8891.0</td>\n",
              "      <td>325</td>\n",
              "      <td>25.0</td>\n",
              "      <td>white</td>\n",
              "      <td>male</td>\n",
              "      <td>4f1d028e45</td>\n",
              "      <td>vehicular</td>\n",
              "      <td>registration</td>\n",
              "      <td>False</td>\n",
              "      <td>False</td>\n",
              "      <td>True</td>\n",
              "      <td>NaN</td>\n",
              "      <td>NaN</td>\n",
              "      <td>NaN</td>\n",
              "      <td>False</td>\n",
              "      <td>False</td>\n",
              "      <td>False</td>\n",
              "      <td>False</td>\n",
              "      <td>registration</td>\n",
              "      <td>TN</td>\n",
              "    </tr>\n",
              "    <tr>\n",
              "      <th>4</th>\n",
              "      <td>2010-10-10</td>\n",
              "      <td>01:00:00</td>\n",
              "      <td>BUCHANAN ST, NORTH, TN, 37208</td>\n",
              "      <td>36.180038</td>\n",
              "      <td>-86.809109</td>\n",
              "      <td>NaN</td>\n",
              "      <td>NaN</td>\n",
              "      <td>NaN</td>\n",
              "      <td>21.0</td>\n",
              "      <td>black</td>\n",
              "      <td>male</td>\n",
              "      <td>0f0e6b7d67</td>\n",
              "      <td>vehicular</td>\n",
              "      <td>vehicle equipment violation</td>\n",
              "      <td>False</td>\n",
              "      <td>False</td>\n",
              "      <td>True</td>\n",
              "      <td>False</td>\n",
              "      <td>False</td>\n",
              "      <td>False</td>\n",
              "      <td>False</td>\n",
              "      <td>True</td>\n",
              "      <td>True</td>\n",
              "      <td>True</td>\n",
              "      <td>vehicle equipment violation</td>\n",
              "      <td>TN</td>\n",
              "    </tr>\n",
              "  </tbody>\n",
              "</table>\n",
              "</div>"
            ],
            "text/plain": [
              "         date      time  ...              reason_for_stop  vehicle_registration_state\n",
              "0  2010-10-10       NaN  ...           investigative stop                          TN\n",
              "1  2010-10-10  10:00:00  ...     moving traffic violation                          TN\n",
              "2  2010-10-10  10:00:00  ...  vehicle equipment violation                          TN\n",
              "3  2010-10-10  22:00:00  ...                 registration                          TN\n",
              "4  2010-10-10  01:00:00  ...  vehicle equipment violation                          TN\n",
              "\n",
              "[5 rows x 26 columns]"
            ]
          },
          "metadata": {
            "tags": []
          },
          "execution_count": 5
        }
      ]
    },
    {
      "cell_type": "code",
      "metadata": {
        "id": "T2vQmJ56jLRO",
        "colab_type": "code",
        "colab": {
          "base_uri": "https://localhost:8080/",
          "height": 448
        },
        "outputId": "fc966f90-27a6-4343-cf10-fdb2061f86b2"
      },
      "source": [
        "# Count the number of nan per feature. \n",
        "data_cols = list(df)\n",
        "col_nan = []\n",
        "for i in data_cols:\n",
        "    val = df[i].isna().sum()\n",
        "    col_nan.append(val)\n",
        "\n",
        "# Plot the number of nan per feature\n",
        "height = col_nan\n",
        "bars = list(df)\n",
        "y_pos = np.arange(len(bars))\n",
        "\n",
        "f, ax = plt.subplots(figsize=(10, 5))\n",
        "plt.bar(y_pos, height, color='grey')\n",
        "plt.xticks(y_pos, bars, rotation=90) # Rotation of the bars names\n",
        "plt.ylabel(\"Number of Observations with NA Out of %s\" %len(df))\n",
        "plt.show() # Show graphic"
      ],
      "execution_count": null,
      "outputs": [
        {
          "output_type": "display_data",
          "data": {
            "image/png": "[encoded data removed]",
            "text/plain": [
              "<Figure size 720x360 with 1 Axes>"
            ]
          },
          "metadata": {
            "tags": [],
            "needs_background": "light"
          }
        }
      ]
    },
    {
      "cell_type": "code",
      "metadata": {
        "id": "VmCh-SDAXlB7",
        "colab_type": "code",
        "colab": {
          "base_uri": "https://localhost:8080/",
          "height": 437
        },
        "outputId": "fc033c43-b71a-41e2-9f51-db87d615f1fe"
      },
      "source": [
        "# Manage NaN values by different column data type\n",
        "import warnings\n",
        "warnings.simplefilter('ignore')\n",
        "\n",
        "df['contraband_found'] = df['contraband_found'].fillna(0) # Keep as 0\n",
        "df['contraband_drugs'] = df['contraband_drugs'].fillna(0) # Keep as 0\n",
        "df['contraband_weapons'] = df['contraband_weapons'].fillna(0) # Keep as 0\n",
        "df['zone'] = df['zone'].fillna(999) # Keep as unique category\n",
        "df['precinct'] = df['precinct'].fillna(999) # Keep as unique category\n",
        "df['reporting_area'] = df['reporting_area'].fillna(999) # Keep as unique category\n",
        "df = df.dropna() # Drop remaining rows with NaN\n",
        "df = df.reset_index()\n",
        "\n",
        "# Show that all are zero now\n",
        "data_cols = list(df)\n",
        "col_nan = []\n",
        "for i in data_cols:\n",
        "    val = df[i].isna().sum()\n",
        "    col_nan.append(val)\n",
        "\n",
        "# Plot the number of nan per feature\n",
        "height = col_nan\n",
        "bars = list(df)\n",
        "y_pos = np.arange(len(bars))\n",
        "\n",
        "f, ax = plt.subplots(figsize=(10, 5))\n",
        "plt.bar(y_pos, height, color='grey')\n",
        "plt.xticks(y_pos, bars, rotation=90) # Rotation of the bars names\n",
        "plt.ylabel(\"Number of Observations with NA Out of %s\" %len(df))\n",
        "plt.show() # Show graphic"
      ],
      "execution_count": null,
      "outputs": [
        {
          "output_type": "display_data",
          "data": {
            "image/png": "[encoded data removed]",
            "text/plain": [
              "<Figure size 720x360 with 1 Axes>"
            ]
          },
          "metadata": {
            "tags": [],
            "needs_background": "light"
          }
        }
      ]
    },
    {
      "cell_type": "code",
      "metadata": {
        "id": "PB1HMDbPjkTJ",
        "colab_type": "code",
        "colab": {}
      },
      "source": [
        "# Recode categorical variables as numerical\n",
        "cat_cols = ['location', 'precinct', 'zone', 'subject_race', 'subject_sex', \\\n",
        "            'officer_id_hash', 'type', 'violation', 'reason_for_stop', \\\n",
        "            'vehicle_registration_state']\n",
        "\n",
        "for i in cat_cols:\n",
        "  df[i] = df[i].astype('category')\n",
        "  df[i] = df[i].cat.codes"
      ],
      "execution_count": null,
      "outputs": []
    },
    {
      "cell_type": "code",
      "metadata": {
        "id": "N-R6AHBDk1z0",
        "colab_type": "code",
        "colab": {}
      },
      "source": [
        "# Convert date column to separate numerical month and year columns\n",
        "df['year'] = pd.DatetimeIndex(df['date']).year\n",
        "df['month'] = pd.DatetimeIndex(df['date']).month"
      ],
      "execution_count": null,
      "outputs": []
    },
    {
      "cell_type": "code",
      "metadata": {
        "id": "ox4f7KkEXS4O",
        "colab_type": "code",
        "colab": {}
      },
      "source": [
        "# Convert time column to numerical value\n",
        "import datetime\n",
        "df['time'] = df['time'].astype(str)\n",
        "\n",
        "seconds = []\n",
        "\n",
        "def get_sec(time_str):\n",
        "  h, m, s = time_str.split(':')\n",
        "  return (int(h)*3600) + (int(m)*60) + int(s)\n",
        "\n",
        "for i in list(range(len(df))):\n",
        "  val = get_sec(df['time'][i])\n",
        "  seconds.append(val)\n",
        "\n",
        "df['seconds'] = seconds\n",
        "df['hour'] = df['seconds']/3600"
      ],
      "execution_count": null,
      "outputs": []
    },
    {
      "cell_type": "code",
      "metadata": {
        "id": "k8DI_X1Pl4zT",
        "colab_type": "code",
        "colab": {}
      },
      "source": [
        "# Drop date and time columns\n",
        "df= df.drop(['index', 'date', 'time', 'seconds'], axis=1)"
      ],
      "execution_count": null,
      "outputs": []
    },
    {
      "cell_type": "code",
      "metadata": {
        "id": "xnQ0lJPfdkKM",
        "colab_type": "code",
        "colab": {}
      },
      "source": [
        "# Turn all true/false columns into 1s and 0s\n",
        "binary_cols = ['arrest_made', 'citation_issued', 'warning_issued', \\\n",
        "               'contraband_found', 'contraband_drugs', 'contraband_weapons', \\\n",
        "               'frisk_performed', 'search_conducted', 'search_person', \\\n",
        "               'search_vehicle']\n",
        "\n",
        "for i in binary_cols:\n",
        "  df[i] = df[i].replace(True, 1)\n",
        "  df[i] = df[i].replace(False, 0)"
      ],
      "execution_count": null,
      "outputs": []
    },
    {
      "cell_type": "code",
      "metadata": {
        "id": "BW5__i2yoXsp",
        "colab_type": "code",
        "colab": {
          "base_uri": "https://localhost:8080/",
          "height": 472
        },
        "outputId": "0676138d-8049-4346-d7b6-dbfa75a8a5b9"
      },
      "source": [
        "# Check data types - should all be ints\n",
        "print(df.dtypes)"
      ],
      "execution_count": null,
      "outputs": [
        {
          "output_type": "stream",
          "text": [
            "location                        int32\n",
            "lat                           float64\n",
            "lng                           float64\n",
            "precinct                         int8\n",
            "reporting_area                float64\n",
            "zone                            int16\n",
            "subject_age                   float64\n",
            "subject_race                     int8\n",
            "subject_sex                      int8\n",
            "officer_id_hash                 int16\n",
            "type                             int8\n",
            "violation                        int8\n",
            "arrest_made                     int64\n",
            "citation_issued                 int64\n",
            "warning_issued                  int64\n",
            "contraband_found                int64\n",
            "contraband_drugs                int64\n",
            "contraband_weapons              int64\n",
            "frisk_performed                 int64\n",
            "search_conducted                int64\n",
            "search_person                   int64\n",
            "search_vehicle                  int64\n",
            "reason_for_stop                  int8\n",
            "vehicle_registration_state       int8\n",
            "year                            int64\n",
            "month                           int64\n",
            "hour                          float64\n",
            "dtype: object\n"
          ],
          "name": "stdout"
        }
      ]
    },
    {
      "cell_type": "code",
      "metadata": {
        "id": "os9woYwrw1qx",
        "colab_type": "code",
        "colab": {}
      },
      "source": [
        "# Save df for future analyses\n",
        "df.to_csv('nash_data_for_ml.csv')"
      ],
      "execution_count": null,
      "outputs": []
    },
    {
      "cell_type": "markdown",
      "metadata": {
        "id": "vk4D9UUUf79W",
        "colab_type": "text"
      },
      "source": [
        "# Create feature and outcome dfs; scale features"
      ]
    },
    {
      "cell_type": "code",
      "metadata": {
        "id": "beUkTLXrxAsb",
        "colab_type": "code",
        "colab": {}
      },
      "source": [
        "# If starting fresh here, load data\n",
        "data = pd.read_csv('nash_data_for_ml.csv')\n",
        "df = data.copy()\n",
        "df = df.drop(['Unnamed: 0'], axis=1)"
      ],
      "execution_count": 3,
      "outputs": []
    },
    {
      "cell_type": "code",
      "metadata": {
        "id": "SjCQS3--gJ0e",
        "colab_type": "code",
        "colab": {}
      },
      "source": [
        "# Create dataframes\n",
        "targets = ['arrest_made','citation_issued','warning_issued','contraband_found',\\\n",
        "            'contraband_drugs','contraband_weapons','frisk_performed',\\\n",
        "            'search_conducted','search_person','search_vehicle']\n",
        "features = df.drop(targets, axis=1)\n",
        "outcomes = df.loc[:, targets].values\n",
        "outcomes = pd.DataFrame(outcomes)\n",
        "outcomes.columns = targets"
      ],
      "execution_count": 4,
      "outputs": []
    },
    {
      "cell_type": "code",
      "metadata": {
        "id": "h1U7DSTCjfCs",
        "colab_type": "code",
        "colab": {}
      },
      "source": [
        "# Feature scaling\n",
        "from sklearn.preprocessing import MinMaxScaler\n",
        "feats_rescaled = MinMaxScaler().fit_transform(features)\n",
        "\n",
        "# Label columns of rescaled features\n",
        "feats_rescaled = pd.DataFrame(feats_rescaled)\n",
        "fr_cols = list(features)\n",
        "feats_rescaled.columns = fr_cols"
      ],
      "execution_count": 5,
      "outputs": []
    },
    {
      "cell_type": "markdown",
      "metadata": {
        "id": "BIO8EQssfzmq",
        "colab_type": "text"
      },
      "source": [
        "# Machine Learning Classification Predictions"
      ]
    },
    {
      "cell_type": "code",
      "metadata": {
        "id": "d2FJBftFf4Un",
        "colab_type": "code",
        "colab": {}
      },
      "source": [
        "# Packages we'll be using\n",
        "from sklearn import metrics\n",
        "from sklearn.metrics import r2_score\n",
        "from sklearn.model_selection import train_test_split\n",
        "from sklearn.metrics import precision_recall_curve\n",
        "from sklearn.metrics import f1_score, auc\n",
        "from sklearn.metrics import confusion_matrix\n",
        "from sklearn.decomposition import PCA"
      ],
      "execution_count": 12,
      "outputs": []
    },
    {
      "cell_type": "code",
      "metadata": {
        "id": "rdaT3rfYkUby",
        "colab_type": "code",
        "colab": {}
      },
      "source": [
        "# Define functions\n",
        "def bin_metrics(x, y):\n",
        "    '''Prints four common metrics for evaluating classification predictions.'''\n",
        "    print('Accuracy:', round(metrics.accuracy_score(x, y), 4))\n",
        "    print('Precision:', round(metrics.precision_score(x, y, average='weighted'), 4))\n",
        "    print('Recall:', round(metrics.recall_score(x, y, average='weighted'), 4))\n",
        "    print('F1:', round(metrics.f1_score(x, y, average='weighted'), 4))\n",
        "\n",
        "def plot_cm(x, y, title):\n",
        "    '''Plots a confusion matrix.'''\n",
        "    plt.subplots(figsize=(6, 5))\n",
        "    cm = confusion_matrix(x, y)\n",
        "    df_cm = pd.DataFrame(cm, columns=np.unique(x), index = np.unique(x))\n",
        "    sns.heatmap(df_cm, cmap=\"Blues\", annot=True,annot_kws={\"size\": 20}, fmt='g')# font size\n",
        "    plt.ylim([0, 2])\n",
        "    plt.title(title, fontsize=20)\n",
        "    plt.xlabel('Predicted', fontsize=30)\n",
        "    plt.ylabel('Observed', fontsize=30)\n",
        "    print(\"\\n\")"
      ],
      "execution_count": 7,
      "outputs": []
    },
    {
      "cell_type": "code",
      "metadata": {
        "id": "l3-rGWYZkXPo",
        "colab_type": "code",
        "colab": {}
      },
      "source": [
        "# Logistic regression\n",
        "from sklearn.linear_model import LogisticRegression\n",
        "\n",
        "def log_reg(outcome_variable):\n",
        "  X_train, X_test, y_train, y_test = train_test_split(feats_rescaled, outcome_variable, test_size=0.20, random_state = 8675309)\n",
        "  classifier = LogisticRegression(solver='liblinear')\n",
        "  classifier.fit(X_train, y_train)\n",
        "  feat_weights = classifier.coef_\n",
        "  y_pred = classifier.predict(X_test)\n",
        "  return y_test, y_pred, feat_weights"
      ],
      "execution_count": 8,
      "outputs": []
    },
    {
      "cell_type": "code",
      "metadata": {
        "id": "EmWrBW4PBJFo",
        "colab_type": "code",
        "colab": {
          "base_uri": "https://localhost:8080/",
          "height": 915
        },
        "outputId": "11d9533a-e616-4b79-a1f8-37bd7520bb98"
      },
      "source": [
        "# Predicting citations\n",
        "print(\"Citations Issued:\")\n",
        "cites_test, cites_pred, cites_weights = log_reg(outcomes['citation_issued'])\n",
        "bin_metrics(cites_test, cites_pred)\n",
        "plot_cm(cites_test, cites_pred, 'Predicting Citations')\n",
        "cites_weights = cites_weights[0]\n",
        "feature_importances = pd.DataFrame(cites_weights, index = fr_cols, \\\n",
        "                                    columns=['importance']).sort_values('importance',ascending=True)\n",
        "feature_importances.plot.barh(rot=0, color='black', figsize=(7, 7))"
      ],
      "execution_count": null,
      "outputs": [
        {
          "output_type": "stream",
          "text": [
            "Citations Issued:\n",
            "Accuracy: 0.7856\n",
            "Precision: 0.7377\n",
            "Recall: 0.7856\n",
            "F1: 0.7003\n",
            "\n",
            "\n"
          ],
          "name": "stdout"
        },
        {
          "output_type": "execute_result",
          "data": {
            "text/plain": [
              "<matplotlib.axes._subplots.AxesSubplot at 0x7f87f05d1240>"
            ]
          },
          "metadata": {
            "tags": []
          },
          "execution_count": 35
        },
        {
          "output_type": "display_data",
          "data": {
            "image/png": "[encoded data removed]",
            "text/plain": [
              "<Figure size 432x360 with 2 Axes>"
            ]
          },
          "metadata": {
            "tags": [],
            "needs_background": "light"
          }
        },
        {
          "output_type": "display_data",
          "data": {
            "image/png": "[encoded data removed]",
            "text/plain": [
              "<Figure size 504x504 with 1 Axes>"
            ]
          },
          "metadata": {
            "tags": [],
            "needs_background": "light"
          }
        }
      ]
    },
    {
      "cell_type": "code",
      "metadata": {
        "id": "8mc-08gKBK-Q",
        "colab_type": "code",
        "colab": {
          "base_uri": "https://localhost:8080/",
          "height": 980
        },
        "outputId": "16043ac6-97b9-4ff3-f668-e10181da09e4"
      },
      "source": [
        "# Predicting Frisks\n",
        "print(\"\\n\\nFrisks:\")\n",
        "frisk_test, frisk_pred, frisk_weights = log_reg(outcomes['frisk_performed'])\n",
        "bin_metrics(frisk_test, frisk_pred)\n",
        "plot_cm(frisk_test, frisk_pred, 'Predicting Frisks')\n",
        "frisk_weights = frisk_weights[0]\n",
        "feature_importances = pd.DataFrame(frisk_weights, index = fr_cols, \\\n",
        "                                    columns=['importance']).sort_values('importance',ascending=True)\n",
        "feature_importances.plot.barh(rot=0, color='black', figsize=(7, 7))"
      ],
      "execution_count": 16,
      "outputs": [
        {
          "output_type": "stream",
          "text": [
            "\n",
            "\n",
            "Frisks:\n",
            "Accuracy: 0.9798\n",
            "Precision: 0.9599\n"
          ],
          "name": "stdout"
        },
        {
          "output_type": "stream",
          "text": [
            "/usr/local/lib/python3.6/dist-packages/sklearn/metrics/_classification.py:1272: UndefinedMetricWarning: Precision is ill-defined and being set to 0.0 in labels with no predicted samples. Use `zero_division` parameter to control this behavior.\n",
            "  _warn_prf(average, modifier, msg_start, len(result))\n"
          ],
          "name": "stderr"
        },
        {
          "output_type": "stream",
          "text": [
            "Recall: 0.9798\n",
            "F1: 0.9697\n",
            "\n",
            "\n"
          ],
          "name": "stdout"
        },
        {
          "output_type": "execute_result",
          "data": {
            "text/plain": [
              "<matplotlib.axes._subplots.AxesSubplot at 0x7fd6056b8fd0>"
            ]
          },
          "metadata": {
            "tags": []
          },
          "execution_count": 16
        },
        {
          "output_type": "display_data",
          "data": {
            "image/png": "[encoded data removed]",
            "text/plain": [
              "<Figure size 432x360 with 2 Axes>"
            ]
          },
          "metadata": {
            "tags": [],
            "needs_background": "light"
          }
        },
        {
          "output_type": "display_data",
          "data": {
            "image/png": "[encoded data removed]",
            "text/plain": [
              "<Figure size 504x504 with 1 Axes>"
            ]
          },
          "metadata": {
            "tags": [],
            "needs_background": "light"
          }
        }
      ]
    },
    {
      "cell_type": "code",
      "metadata": {
        "id": "x8rWNzLCBLSG",
        "colab_type": "code",
        "colab": {
          "base_uri": "https://localhost:8080/",
          "height": 996
        },
        "outputId": "6f936920-7160-4ec7-fe0a-8382091b72b5"
      },
      "source": [
        "# Predicting Searches\n",
        "print(\"\\n\\nSearches:\")\n",
        "search_test, search_pred, search_weights = log_reg(outcomes['search_conducted'])\n",
        "print(search_weights)\n",
        "bin_metrics(search_test, search_pred)\n",
        "plot_cm(search_test, search_pred, 'Predicting Searches')\n",
        "search_weights = search_weights[0]\n",
        "feature_importances = pd.DataFrame(search_weights, index = fr_cols, \\\n",
        "                                    columns=['importance']).sort_values('importance',ascending=True)\n",
        "feature_importances.plot.barh(rot=0, color='black', figsize=(7, 7))"
      ],
      "execution_count": 17,
      "outputs": [
        {
          "output_type": "stream",
          "text": [
            "\n",
            "\n",
            "Searches:\n",
            "[[-0.13894158 12.40304668 -3.22740203  0.46157663 -0.82586756 -0.45283877\n",
            "  -3.40941592 -0.81524467  0.93474205 -0.05860826  0.         -0.04240772\n",
            "  -0.04240772  0.59670333 -0.18167209 -0.08725416 -0.29345118]]\n",
            "Accuracy: 0.9583\n",
            "Precision: 0.9195\n",
            "Recall: 0.9583\n",
            "F1: 0.938\n",
            "\n",
            "\n"
          ],
          "name": "stdout"
        },
        {
          "output_type": "execute_result",
          "data": {
            "text/plain": [
              "<matplotlib.axes._subplots.AxesSubplot at 0x7fd605569048>"
            ]
          },
          "metadata": {
            "tags": []
          },
          "execution_count": 17
        },
        {
          "output_type": "display_data",
          "data": {
            "image/png": "[encoded data removed]",
            "text/plain": [
              "<Figure size 432x360 with 2 Axes>"
            ]
          },
          "metadata": {
            "tags": [],
            "needs_background": "light"
          }
        },
        {
          "output_type": "display_data",
          "data": {
            "image/png": "[encoded data removed]",
            "text/plain": [
              "<Figure size 504x504 with 1 Axes>"
            ]
          },
          "metadata": {
            "tags": [],
            "needs_background": "light"
          }
        }
      ]
    },
    {
      "cell_type": "code",
      "metadata": {
        "id": "apOTrhWuBLpB",
        "colab_type": "code",
        "colab": {
          "base_uri": "https://localhost:8080/",
          "height": 1000
        },
        "outputId": "189df42f-a23d-4ff9-9e23-4b8a523d0006"
      },
      "source": [
        "# Predicting Contraband Found\n",
        "print(\"\\n\\nContraband Found:\")\n",
        "contra_test, contra_pred, contra_weights = log_reg(outcomes['contraband_found'])\n",
        "print(contra_weights)\n",
        "bin_metrics(contra_test, contra_pred)\n",
        "plot_cm(contra_test, contra_pred, 'Predicting Contraband Found')\n",
        "contra_weights = contra_weights[0]\n",
        "feature_importances = pd.DataFrame(contra_weights, index = fr_cols, \\\n",
        "                                    columns=['importance']).sort_values('importance',ascending=True)\n",
        "feature_importances.plot.barh(rot=0, color='black', figsize=(7, 7))"
      ],
      "execution_count": 18,
      "outputs": [
        {
          "output_type": "stream",
          "text": [
            "\n",
            "\n",
            "Contraband Found:\n",
            "[[-1.94956463e-01  7.00537015e+00 -1.59854799e+00  3.91379223e-01\n",
            "  -8.23983554e-01 -4.45249870e-01 -4.27917695e+00 -7.78240584e-01\n",
            "   9.70048874e-01 -3.15371300e-03  0.00000000e+00 -7.77720802e-02\n",
            "  -7.77720802e-02  6.16257163e-01  4.34120072e-01 -2.94061122e-02\n",
            "  -7.43397942e-02]]\n",
            "Accuracy: 0.9914\n"
          ],
          "name": "stdout"
        },
        {
          "output_type": "stream",
          "text": [
            "/usr/local/lib/python3.6/dist-packages/sklearn/metrics/_classification.py:1272: UndefinedMetricWarning: Precision is ill-defined and being set to 0.0 in labels with no predicted samples. Use `zero_division` parameter to control this behavior.\n",
            "  _warn_prf(average, modifier, msg_start, len(result))\n"
          ],
          "name": "stderr"
        },
        {
          "output_type": "stream",
          "text": [
            "Precision: 0.9828\n",
            "Recall: 0.9914\n",
            "F1: 0.9871\n",
            "\n",
            "\n"
          ],
          "name": "stdout"
        },
        {
          "output_type": "execute_result",
          "data": {
            "text/plain": [
              "<matplotlib.axes._subplots.AxesSubplot at 0x7fd60579edd8>"
            ]
          },
          "metadata": {
            "tags": []
          },
          "execution_count": 18
        },
        {
          "output_type": "display_data",
          "data": {
            "image/png": "[encoded data removed]",
            "text/plain": [
              "<Figure size 432x360 with 2 Axes>"
            ]
          },
          "metadata": {
            "tags": [],
            "needs_background": "light"
          }
        },
        {
          "output_type": "display_data",
          "data": {
            "image/png": "[encoded data removed]",
            "text/plain": [
              "<Figure size 504x504 with 1 Axes>"
            ]
          },
          "metadata": {
            "tags": [],
            "needs_background": "light"
          }
        }
      ]
    },
    {
      "cell_type": "code",
      "metadata": {
        "id": "eab0XsBfmRKQ",
        "colab_type": "code",
        "colab": {}
      },
      "source": [
        "# Random Forest\n",
        "from sklearn.ensemble import RandomForestClassifier\n",
        "\n",
        "def rand_for(outcome_variable):\n",
        "  acc_scores = []\n",
        "  prec_scores = []\n",
        "  recall_scores = []\n",
        "  f1_scores = []\n",
        "  nEst_range = [10, 50, 100, 1000]\n",
        "  depth_range = [2, 5, 10, 100]\n",
        "  for i in nEst_range:\n",
        "      for k in depth_range:\n",
        "          X_train, X_test, y_train, y_test = train_test_split(feats_rescaled, outcome_variable, test_size=0.20, random_state = 649)\n",
        "          classifier = RandomForestClassifier(n_estimators=i, max_depth=k)\n",
        "          classifier.fit(X_train, y_train)\n",
        "          pred_train= classifier.predict(X_train)\n",
        "          pred_test= classifier.predict(X_test)\n",
        "          acc_val = metrics.accuracy_score(y_test, pred_test)\n",
        "          acc_scores.append(acc_val)\n",
        "          prec_val = metrics.precision_score(y_test, pred_test, average='weighted')\n",
        "          prec_scores.append(prec_val)\n",
        "          recall_val = metrics.recall_score(y_test, pred_test, average='weighted')\n",
        "          recall_scores.append(recall_val)\n",
        "          f1_val = f1_score(y_test, pred_test)\n",
        "          f1_scores.append(f1_val)\n",
        "  plt.plot(acc_scores, marker='o', color='black')\n",
        "  plt.plot(f1_scores, marker='o', color='blue')\n",
        "  print(\"Max Accuracy:\", round(max(acc_scores), 2))\n",
        "  print('Max Precision:', round(max(prec_scores), 4))\n",
        "  print('Max Recall:', round(max(recall_scores), 4))\n",
        "  print('Max F1:', round(max(f1_scores), 2))"
      ],
      "execution_count": 19,
      "outputs": []
    },
    {
      "cell_type": "code",
      "metadata": {
        "id": "xXS4CRJWBXJ8",
        "colab_type": "code",
        "colab": {}
      },
      "source": [
        "# Predicting citations\n",
        "print(\"Citations Issued:\\n\")\n",
        "rand_for(outcomes['citation_issued'])"
      ],
      "execution_count": null,
      "outputs": []
    },
    {
      "cell_type": "code",
      "metadata": {
        "id": "AYfx5vSKBZUC",
        "colab_type": "code",
        "colab": {}
      },
      "source": [
        "# Predicting Frisks\n",
        "print(\"Frisks:\\n\")\n",
        "rand_for(outcomes['frisk_performed'])"
      ],
      "execution_count": null,
      "outputs": []
    },
    {
      "cell_type": "code",
      "metadata": {
        "id": "pYmpFQkUBZpK",
        "colab_type": "code",
        "colab": {}
      },
      "source": [
        "# Predicting Searches\n",
        "print(\"Searches:\\n\")\n",
        "rand_for(outcomes['search_conducted'])"
      ],
      "execution_count": null,
      "outputs": []
    },
    {
      "cell_type": "code",
      "metadata": {
        "id": "VJS-5ygKBZGe",
        "colab_type": "code",
        "colab": {}
      },
      "source": [
        "# Predicting Contraband Found\n",
        "print(\"Contraband Found:\\n\")\n",
        "rand_for(outcomes['contraband_found'])"
      ],
      "execution_count": null,
      "outputs": []
    },
    {
      "cell_type": "code",
      "metadata": {
        "id": "zeSsvxsvvFIO",
        "colab_type": "code",
        "colab": {}
      },
      "source": [
        "# Adaboost\n",
        "from sklearn.ensemble import AdaBoostClassifier\n",
        "\n",
        "def adaboost(outcome_varaible):\n",
        "  X_train, X_test, y_train, y_test = train_test_split(feats_rescaled, mathOutc, test_size=0.20, random_state = 0)\n",
        "  acc_scores = []\n",
        "  prec_scores = []\n",
        "  recall_scores = []\n",
        "  f1_scores = []\n",
        "  nEst_range = [10, 50, 100, 1000]\n",
        "  learning_rate_range = [0.01, 1, 10]\n",
        "  for i in nEst_range:\n",
        "      for k in learning_rate_range:\n",
        "          classifier = AdaBoostClassifier(n_estimators=i, learning_rate=k)\n",
        "          classifier.fit(X_train, y_train)\n",
        "          pred_train= classifier.predict(X_train)\n",
        "          pred_test= classifier.predict(X_test)\n",
        "          acc_val = metrics.accuracy_score(y_test, pred_test)\n",
        "          acc_scores.append(acc_val)\n",
        "          f1_val = f1_score(y_test, pred_test)\n",
        "          f1_scores.append(f1_val)\n",
        "  plt.plot(acc_scores, marker='o', color='black')\n",
        "  plt.plot(f1_scores, marker='o', color='blue')\n",
        "  print(\"Max Accuracy:\", round(max(acc_scores), 2))\n",
        "  print('Max Precision:', round(max(prec_scores), 4))\n",
        "  print('Max Recall:', round(max(recall_scores), 4))\n",
        "  print('Max F1:', round(max(f1_scores), 2))\n",
        "\n",
        "# Predicting citations\n",
        "print(\"Citations Issued:\\n\")\n",
        "adaboost(outcomes['citation_issued'])\n",
        "\n",
        "# Predicting Frisks\n",
        "print(\"Frisks:\\n\")\n",
        "adaboost(outcomes['frisk_performed'])\n",
        "\n",
        "# Predicting Searches\n",
        "print(\"Searches:\\n\")\n",
        "adaboost(outcomes['search_conducted'])\n",
        "\n",
        "# Predicting Contraband Found\n",
        "print(\"Contraband Found:\\n\")\n",
        "adaboost(outcomes['contraband_found'])"
      ],
      "execution_count": null,
      "outputs": []
    },
    {
      "cell_type": "code",
      "metadata": {
        "id": "6QhAebKgvPkg",
        "colab_type": "code",
        "colab": {}
      },
      "source": [
        "# Multilayer Perceptron\n",
        "from sklearn.neural_network import MLPClassifier\n",
        "\n",
        "X_train, X_test, y_train, y_test = train_test_split(feats_rescaled, mathOutc, test_size=0.20, random_state = 0)\n",
        "scaler = StandardScaler()\n",
        "train_scaled = scaler.fit_transform(X_train)\n",
        "test_scaled = scaler.fit_transform(X_test)\n",
        "acc_scores = []\n",
        "f1_scores = []\n",
        "nEst_range = [10, 50, 100, 1000]\n",
        "learning_rate_range = [0.01, 1, 10]\n",
        "for i in nEst_range:\n",
        "    for k in learning_rate_range:\n",
        "        classifier = MLPClassifier(max_iter = 500)\n",
        "        classifier.fit(train_scaled, y_train)\n",
        "        pred_train= classifier.predict(X_train)\n",
        "        pred_test= classifier.predict(test_scaled)\n",
        "        acc_val = metrics.accuracy_score(y_test, pred_test)\n",
        "        acc_scores.append(acc_val)\n",
        "        f1_val = f1_score(y_test, pred_test)\n",
        "        f1_scores.append(f1_val)\n",
        "plt.plot(acc_scores, marker='o', color='black')\n",
        "plt.plot(f1_scores, marker='o', color='blue')\n",
        "print(\"Max Accuracy:\", round(max(acc_scores), 2))\n",
        "print('Max F1:', round(max(f1_scores), 2))"
      ],
      "execution_count": null,
      "outputs": []
    }
  ]
}