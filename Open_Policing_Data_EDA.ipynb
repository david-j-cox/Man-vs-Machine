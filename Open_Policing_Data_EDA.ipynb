{
  "nbformat": 4,
  "nbformat_minor": 0,
  "metadata": {
    "colab": {
      "name": "Open_Policing_Data_EDA.ipynb",
      "provenance": [],
      "collapsed_sections": [
        "635hAyJUDKlF",
        "AzIt0fwqC699"
      ],
      "toc_visible": true,
      "include_colab_link": true
    },
    "kernelspec": {
      "name": "python3",
      "display_name": "Python 3"
    }
  },
  "cells": [
    {
      "cell_type": "markdown",
      "metadata": {
        "id": "view-in-github",
        "colab_type": "text"
      },
      "source": [
        "<a href=\"https://colab.research.google.com/github/davidjcox333/Man-vs-Machine/blob/Police-Behavior/Open_Policing_Data_EDA.ipynb\" target=\"_parent\"><img src=\"https://colab.research.google.com/assets/colab-badge.svg\" alt=\"Open In Colab\"/></a>"
      ]
    },
    {
      "cell_type": "code",
      "metadata": {
        "id": "go63Z8BLuagC",
        "colab_type": "code",
        "colab": {
          "base_uri": "https://localhost:8080/",
          "height": 176
        },
        "outputId": "2b020571-71d7-4e9a-f818-925211e9f6d5"
      },
      "source": [
        "# Packages!!\n",
        "import os\n",
        "import sys\n",
        "import pandas as pd\n",
        "import numpy as np\n",
        "import scipy\n",
        "import pandas_profiling\n",
        "import seaborn as sns\n",
        "import matplotlib.pyplot as plt\n",
        "from google.colab import drive\n",
        "drive.mount('/content/gdrive')\n",
        "%cd './gdrive/My Drive/Policing Data'\n",
        "%matplotlib inline"
      ],
      "execution_count": 1,
      "outputs": [
        {
          "output_type": "stream",
          "text": [
            "/usr/local/lib/python3.6/dist-packages/statsmodels/tools/_testing.py:19: FutureWarning: pandas.util.testing is deprecated. Use the functions in the public API at pandas.testing instead.\n",
            "  import pandas.util.testing as tm\n"
          ],
          "name": "stderr"
        },
        {
          "output_type": "stream",
          "text": [
            "Go to this URL in a browser: https://accounts.google.com/o/oauth2/auth?client_id=947318989803-6bn6qk8qdgf4n4g3pfee6491hc0brc4i.apps.googleusercontent.com&redirect_uri=urn%3aietf%3awg%3aoauth%3a2.0%3aoob&response_type=code&scope=email%20https%3a%2f%2fwww.googleapis.com%2fauth%2fdocs.test%20https%3a%2f%2fwww.googleapis.com%2fauth%2fdrive%20https%3a%2f%2fwww.googleapis.com%2fauth%2fdrive.photos.readonly%20https%3a%2f%2fwww.googleapis.com%2fauth%2fpeopleapi.readonly\n",
            "\n",
            "Enter your authorization code:\n",
            "··········\n",
            "Mounted at /content/gdrive\n",
            "/content/gdrive/My Drive/Policing Data\n"
          ],
          "name": "stdout"
        }
      ]
    },
    {
      "cell_type": "code",
      "metadata": {
        "id": "-5aLCapS9bvG",
        "colab_type": "code",
        "colab": {
          "base_uri": "https://localhost:8080/",
          "height": 52
        },
        "outputId": "f7a9d69d-b414-4f16-cf23-33eaebacfc65"
      },
      "source": [
        "# Read in the data\n",
        "nash_raw_data = pd.read_csv(\"tn_nashville_2020_04_01.csv\")\n",
        "nash_data = nash_raw_data.copy()"
      ],
      "execution_count": 2,
      "outputs": [
        {
          "output_type": "stream",
          "text": [
            "/usr/local/lib/python3.6/dist-packages/IPython/core/interactiveshell.py:2718: DtypeWarning: Columns (6,8,15,16,17,22,23,24,25,29,30,31,32,33,35,36,37,38,40,41) have mixed types.Specify dtype option on import or set low_memory=False.\n",
            "  interactivity=interactivity, compiler=compiler, result=result)\n"
          ],
          "name": "stderr"
        }
      ]
    },
    {
      "cell_type": "code",
      "metadata": {
        "id": "keWd_GvzYMjx",
        "colab_type": "code",
        "colab": {
          "base_uri": "https://localhost:8080/",
          "height": 1000
        },
        "outputId": "82afddcf-0944-45aa-cc96-61fbb00da33d"
      },
      "source": [
        "# Sample of what the data looks like and the data types\n",
        "print(nash_data.dtypes)\n",
        "nash_data.head()"
      ],
      "execution_count": 3,
      "outputs": [
        {
          "output_type": "stream",
          "text": [
            "raw_row_number                     object\n",
            "date                               object\n",
            "time                               object\n",
            "location                           object\n",
            "lat                               float64\n",
            "lng                               float64\n",
            "precinct                           object\n",
            "reporting_area                    float64\n",
            "zone                               object\n",
            "subject_age                       float64\n",
            "subject_race                       object\n",
            "subject_sex                        object\n",
            "officer_id_hash                    object\n",
            "type                               object\n",
            "violation                          object\n",
            "arrest_made                        object\n",
            "citation_issued                    object\n",
            "warning_issued                     object\n",
            "outcome                            object\n",
            "contraband_found                   object\n",
            "contraband_drugs                   object\n",
            "contraband_weapons                 object\n",
            "frisk_performed                    object\n",
            "search_conducted                   object\n",
            "search_person                      object\n",
            "search_vehicle                     object\n",
            "search_basis                       object\n",
            "reason_for_stop                    object\n",
            "vehicle_registration_state         object\n",
            "notes                              object\n",
            "raw_verbal_warning_issued          object\n",
            "raw_written_warning_issued         object\n",
            "raw_traffic_citation_issued        object\n",
            "raw_misd_state_citation_issued     object\n",
            "raw_suspect_ethnicity              object\n",
            "raw_driver_searched                object\n",
            "raw_passenger_searched             object\n",
            "raw_search_consent                 object\n",
            "raw_search_arrest                  object\n",
            "raw_search_warrant                   bool\n",
            "raw_search_inventory               object\n",
            "raw_search_plain_view              object\n",
            "dtype: object\n"
          ],
          "name": "stdout"
        },
        {
          "output_type": "execute_result",
          "data": {
            "text/html": [
              "<div>\n",
              "<style scoped>\n",
              "    .dataframe tbody tr th:only-of-type {\n",
              "        vertical-align: middle;\n",
              "    }\n",
              "\n",
              "    .dataframe tbody tr th {\n",
              "        vertical-align: top;\n",
              "    }\n",
              "\n",
              "    .dataframe thead th {\n",
              "        text-align: right;\n",
              "    }\n",
              "</style>\n",
              "<table border=\"1\" class=\"dataframe\">\n",
              "  <thead>\n",
              "    <tr style=\"text-align: right;\">\n",
              "      <th></th>\n",
              "      <th>raw_row_number</th>\n",
              "      <th>date</th>\n",
              "      <th>time</th>\n",
              "      <th>location</th>\n",
              "      <th>lat</th>\n",
              "      <th>lng</th>\n",
              "      <th>precinct</th>\n",
              "      <th>reporting_area</th>\n",
              "      <th>zone</th>\n",
              "      <th>subject_age</th>\n",
              "      <th>subject_race</th>\n",
              "      <th>subject_sex</th>\n",
              "      <th>officer_id_hash</th>\n",
              "      <th>type</th>\n",
              "      <th>violation</th>\n",
              "      <th>arrest_made</th>\n",
              "      <th>citation_issued</th>\n",
              "      <th>warning_issued</th>\n",
              "      <th>outcome</th>\n",
              "      <th>contraband_found</th>\n",
              "      <th>contraband_drugs</th>\n",
              "      <th>contraband_weapons</th>\n",
              "      <th>frisk_performed</th>\n",
              "      <th>search_conducted</th>\n",
              "      <th>search_person</th>\n",
              "      <th>search_vehicle</th>\n",
              "      <th>search_basis</th>\n",
              "      <th>reason_for_stop</th>\n",
              "      <th>vehicle_registration_state</th>\n",
              "      <th>notes</th>\n",
              "      <th>raw_verbal_warning_issued</th>\n",
              "      <th>raw_written_warning_issued</th>\n",
              "      <th>raw_traffic_citation_issued</th>\n",
              "      <th>raw_misd_state_citation_issued</th>\n",
              "      <th>raw_suspect_ethnicity</th>\n",
              "      <th>raw_driver_searched</th>\n",
              "      <th>raw_passenger_searched</th>\n",
              "      <th>raw_search_consent</th>\n",
              "      <th>raw_search_arrest</th>\n",
              "      <th>raw_search_warrant</th>\n",
              "      <th>raw_search_inventory</th>\n",
              "      <th>raw_search_plain_view</th>\n",
              "    </tr>\n",
              "  </thead>\n",
              "  <tbody>\n",
              "    <tr>\n",
              "      <th>0</th>\n",
              "      <td>232947</td>\n",
              "      <td>2010-10-10</td>\n",
              "      <td>NaN</td>\n",
              "      <td>DOMINICAN DR &amp; ROSA L PARKS BLVD, NASHVILLE, T...</td>\n",
              "      <td>36.187925</td>\n",
              "      <td>-86.798519</td>\n",
              "      <td>6</td>\n",
              "      <td>4403.0</td>\n",
              "      <td>611</td>\n",
              "      <td>27.0</td>\n",
              "      <td>black</td>\n",
              "      <td>male</td>\n",
              "      <td>80ed1b32eb</td>\n",
              "      <td>vehicular</td>\n",
              "      <td>investigative stop</td>\n",
              "      <td>False</td>\n",
              "      <td>False</td>\n",
              "      <td>True</td>\n",
              "      <td>warning</td>\n",
              "      <td>NaN</td>\n",
              "      <td>NaN</td>\n",
              "      <td>NaN</td>\n",
              "      <td>False</td>\n",
              "      <td>False</td>\n",
              "      <td>False</td>\n",
              "      <td>False</td>\n",
              "      <td>NaN</td>\n",
              "      <td>investigative stop</td>\n",
              "      <td>TN</td>\n",
              "      <td>NaN</td>\n",
              "      <td>True</td>\n",
              "      <td>False</td>\n",
              "      <td>False</td>\n",
              "      <td>NaN</td>\n",
              "      <td>N</td>\n",
              "      <td>False</td>\n",
              "      <td>False</td>\n",
              "      <td>False</td>\n",
              "      <td>False</td>\n",
              "      <td>False</td>\n",
              "      <td>False</td>\n",
              "      <td>False</td>\n",
              "    </tr>\n",
              "    <tr>\n",
              "      <th>1</th>\n",
              "      <td>237161</td>\n",
              "      <td>2010-10-10</td>\n",
              "      <td>10:00:00</td>\n",
              "      <td>1122 LEBANON PIKE, NASHVILLE, TN, 37210</td>\n",
              "      <td>36.155521</td>\n",
              "      <td>-86.735902</td>\n",
              "      <td>5</td>\n",
              "      <td>9035.0</td>\n",
              "      <td>513</td>\n",
              "      <td>18.0</td>\n",
              "      <td>white</td>\n",
              "      <td>male</td>\n",
              "      <td>a983204b21</td>\n",
              "      <td>vehicular</td>\n",
              "      <td>moving traffic violation</td>\n",
              "      <td>False</td>\n",
              "      <td>True</td>\n",
              "      <td>False</td>\n",
              "      <td>citation</td>\n",
              "      <td>NaN</td>\n",
              "      <td>NaN</td>\n",
              "      <td>NaN</td>\n",
              "      <td>False</td>\n",
              "      <td>False</td>\n",
              "      <td>False</td>\n",
              "      <td>False</td>\n",
              "      <td>NaN</td>\n",
              "      <td>moving traffic violation</td>\n",
              "      <td>TN</td>\n",
              "      <td>NaN</td>\n",
              "      <td>False</td>\n",
              "      <td>False</td>\n",
              "      <td>True</td>\n",
              "      <td>NaN</td>\n",
              "      <td>N</td>\n",
              "      <td>False</td>\n",
              "      <td>False</td>\n",
              "      <td>False</td>\n",
              "      <td>False</td>\n",
              "      <td>False</td>\n",
              "      <td>False</td>\n",
              "      <td>False</td>\n",
              "    </tr>\n",
              "    <tr>\n",
              "      <th>2</th>\n",
              "      <td>232902</td>\n",
              "      <td>2010-10-10</td>\n",
              "      <td>10:00:00</td>\n",
              "      <td>898 DAVIDSON DR, , TN, 37205</td>\n",
              "      <td>36.117420</td>\n",
              "      <td>-86.895593</td>\n",
              "      <td>1</td>\n",
              "      <td>5005.0</td>\n",
              "      <td>121</td>\n",
              "      <td>52.0</td>\n",
              "      <td>white</td>\n",
              "      <td>male</td>\n",
              "      <td>f5d8fbd78b</td>\n",
              "      <td>vehicular</td>\n",
              "      <td>vehicle equipment violation</td>\n",
              "      <td>False</td>\n",
              "      <td>False</td>\n",
              "      <td>True</td>\n",
              "      <td>warning</td>\n",
              "      <td>NaN</td>\n",
              "      <td>NaN</td>\n",
              "      <td>NaN</td>\n",
              "      <td>False</td>\n",
              "      <td>False</td>\n",
              "      <td>False</td>\n",
              "      <td>False</td>\n",
              "      <td>NaN</td>\n",
              "      <td>vehicle equipment violation</td>\n",
              "      <td>TN</td>\n",
              "      <td>NaN</td>\n",
              "      <td>True</td>\n",
              "      <td>False</td>\n",
              "      <td>False</td>\n",
              "      <td>NaN</td>\n",
              "      <td>N</td>\n",
              "      <td>False</td>\n",
              "      <td>False</td>\n",
              "      <td>False</td>\n",
              "      <td>False</td>\n",
              "      <td>False</td>\n",
              "      <td>False</td>\n",
              "      <td>False</td>\n",
              "    </tr>\n",
              "    <tr>\n",
              "      <th>3</th>\n",
              "      <td>233219</td>\n",
              "      <td>2010-10-10</td>\n",
              "      <td>22:00:00</td>\n",
              "      <td>MURFREESBORO PIKE &amp; NASHBORO BLVD, ANTIOCH, TN...</td>\n",
              "      <td>36.086799</td>\n",
              "      <td>-86.648581</td>\n",
              "      <td>3</td>\n",
              "      <td>8891.0</td>\n",
              "      <td>325</td>\n",
              "      <td>25.0</td>\n",
              "      <td>white</td>\n",
              "      <td>male</td>\n",
              "      <td>4f1d028e45</td>\n",
              "      <td>vehicular</td>\n",
              "      <td>registration</td>\n",
              "      <td>False</td>\n",
              "      <td>False</td>\n",
              "      <td>True</td>\n",
              "      <td>warning</td>\n",
              "      <td>NaN</td>\n",
              "      <td>NaN</td>\n",
              "      <td>NaN</td>\n",
              "      <td>False</td>\n",
              "      <td>False</td>\n",
              "      <td>False</td>\n",
              "      <td>False</td>\n",
              "      <td>NaN</td>\n",
              "      <td>registration</td>\n",
              "      <td>TN</td>\n",
              "      <td>NaN</td>\n",
              "      <td>True</td>\n",
              "      <td>False</td>\n",
              "      <td>False</td>\n",
              "      <td>NaN</td>\n",
              "      <td>N</td>\n",
              "      <td>False</td>\n",
              "      <td>False</td>\n",
              "      <td>False</td>\n",
              "      <td>False</td>\n",
              "      <td>False</td>\n",
              "      <td>False</td>\n",
              "      <td>False</td>\n",
              "    </tr>\n",
              "    <tr>\n",
              "      <th>4</th>\n",
              "      <td>232780</td>\n",
              "      <td>2010-10-10</td>\n",
              "      <td>01:00:00</td>\n",
              "      <td>BUCHANAN ST, NORTH, TN, 37208</td>\n",
              "      <td>36.180038</td>\n",
              "      <td>-86.809109</td>\n",
              "      <td>NaN</td>\n",
              "      <td>NaN</td>\n",
              "      <td>NaN</td>\n",
              "      <td>21.0</td>\n",
              "      <td>black</td>\n",
              "      <td>male</td>\n",
              "      <td>0f0e6b7d67</td>\n",
              "      <td>vehicular</td>\n",
              "      <td>vehicle equipment violation</td>\n",
              "      <td>False</td>\n",
              "      <td>False</td>\n",
              "      <td>True</td>\n",
              "      <td>warning</td>\n",
              "      <td>False</td>\n",
              "      <td>False</td>\n",
              "      <td>False</td>\n",
              "      <td>False</td>\n",
              "      <td>True</td>\n",
              "      <td>True</td>\n",
              "      <td>True</td>\n",
              "      <td>probable cause</td>\n",
              "      <td>vehicle equipment violation</td>\n",
              "      <td>TN</td>\n",
              "      <td>NaN</td>\n",
              "      <td>True</td>\n",
              "      <td>False</td>\n",
              "      <td>False</td>\n",
              "      <td>NaN</td>\n",
              "      <td>N</td>\n",
              "      <td>True</td>\n",
              "      <td>True</td>\n",
              "      <td>False</td>\n",
              "      <td>False</td>\n",
              "      <td>False</td>\n",
              "      <td>False</td>\n",
              "      <td>False</td>\n",
              "    </tr>\n",
              "  </tbody>\n",
              "</table>\n",
              "</div>"
            ],
            "text/plain": [
              "  raw_row_number        date  ... raw_search_inventory raw_search_plain_view\n",
              "0         232947  2010-10-10  ...                False                 False\n",
              "1         237161  2010-10-10  ...                False                 False\n",
              "2         232902  2010-10-10  ...                False                 False\n",
              "3         233219  2010-10-10  ...                False                 False\n",
              "4         232780  2010-10-10  ...                False                 False\n",
              "\n",
              "[5 rows x 42 columns]"
            ]
          },
          "metadata": {
            "tags": []
          },
          "execution_count": 3
        }
      ]
    },
    {
      "cell_type": "markdown",
      "metadata": {
        "id": "635hAyJUDKlF",
        "colab_type": "text"
      },
      "source": [
        "# Basic comparisons of stops, frisks, searches, contraband found, and arrests by race. "
      ]
    },
    {
      "cell_type": "code",
      "metadata": {
        "id": "WohugyuHM34w",
        "colab_type": "code",
        "colab": {
          "base_uri": "https://localhost:8080/",
          "height": 558
        },
        "outputId": "cd30a104-8bcc-4424-ce5b-b82185bb5456"
      },
      "source": [
        "#### Comparison of stops by race and demographics\n",
        "# Create demographic list\n",
        "demog_2018 = [0.6316, 0.2788, 0.1040, 0.0362, 0.00, 0.0253]\n",
        "\n",
        "# Stops by race df\n",
        "stops_by_race = nash_data.subject_race.value_counts()\n",
        "stops_by_race = stops_by_race / len(nash_data)\n",
        "\n",
        "# Characteristics of the plot\n",
        "plt.figure(figsize=(12, 8))\n",
        "barWidth = 0.3 # barwidth\n",
        "r1 = np.arange(len(demog_2018)) # x position of bars\n",
        "r2 = [x + barWidth for x in r1] # x position of bars\n",
        "plt.bar(r1, demog_2018, width=barWidth, color='black', edgecolor='black', label='Population') # Create black bars\n",
        "plt.bar(r2, stops_by_race, width=barWidth, color='gray', edgecolor='black', label='Police Stops') # Create gray bars\n",
        "\n",
        "# General layout\n",
        "plt.xticks([r + barWidth for r in range(len(demog_2018))], \\\n",
        "           ['White', 'Black', 'Hispanic', 'Asian/\\nPacific Islander', 'Unknown', 'Other'], fontsize=16)\n",
        "plt.yticks(fontsize=16)\n",
        "plt.ylim(0,1)\n",
        "plt.ylabel('Proportion of  %s Stops' %'{:,}'.format(len(nash_data)), fontsize=26)\n",
        "plt.xlabel('Race', fontsize=26)\n",
        "plt.legend(prop={'size':16})\n",
        "\n",
        "plt.show # show graphic"
      ],
      "execution_count": 5,
      "outputs": [
        {
          "output_type": "execute_result",
          "data": {
            "text/plain": [
              "<function matplotlib.pyplot.show>"
            ]
          },
          "metadata": {
            "tags": []
          },
          "execution_count": 5
        },
        {
          "output_type": "display_data",
          "data": {
            "image/png": "[encoded data removed]",
            "text/plain": [
              "<Figure size 864x576 with 1 Axes>"
            ]
          },
          "metadata": {
            "tags": [],
            "needs_background": "light"
          }
        }
      ]
    },
    {
      "cell_type": "code",
      "metadata": {
        "id": "RN-qNVtLgTD9",
        "colab_type": "code",
        "colab": {
          "base_uri": "https://localhost:8080/",
          "height": 558
        },
        "outputId": "ef7a372b-1a56-40c5-bb35-063bce91fea4"
      },
      "source": [
        "#### Comparison of citations by race once pulled over\n",
        "# Stops by race df\n",
        "stops_by_race = nash_data.subject_race.value_counts()\n",
        "stops_by_race = stops_by_race / len(nash_data)\n",
        "\n",
        "# Citations by race\n",
        "citation_data = nash_data.loc[nash_data['citation_issued']==True]\n",
        "citation_by_race = citation_data.subject_race.value_counts()\n",
        "citation_by_race = citation_by_race / len(citation_data)\n",
        "\n",
        "# Characteristics of the plot\n",
        "plt.figure(figsize=(12, 8))\n",
        "barWidth = 0.3 # barwidth\n",
        "r1 = np.arange(len(demog_2018)) # x position of bars\n",
        "r2 = [x + barWidth for x in r1] # x position of bars\n",
        "plt.bar(r1, stops_by_race, width=barWidth, color='black', edgecolor='black', label='Stops') # Create black bars\n",
        "plt.bar(r2, citation_by_race, width=barWidth, color='gray', edgecolor='black', label='Citations') # Create gray bars\n",
        "\n",
        "# General layout\n",
        "plt.xticks([r + barWidth for r in range(len(stops_by_race))], \\\n",
        "           ['White', 'Black', 'Hispanic', 'Asian/\\nPacific Islander', 'Unknown', 'Other'], fontsize=16)\n",
        "plt.yticks(fontsize=16)\n",
        "plt.ylim(0,1)\n",
        "plt.ylabel('Proportion of  %s Citations' %'{:,}'.format(len(citation_data)), fontsize=26)\n",
        "plt.xlabel('Race', fontsize=26)\n",
        "plt.legend(prop={'size':16})\n",
        "\n",
        "plt.show # show graphic"
      ],
      "execution_count": 6,
      "outputs": [
        {
          "output_type": "execute_result",
          "data": {
            "text/plain": [
              "<function matplotlib.pyplot.show>"
            ]
          },
          "metadata": {
            "tags": []
          },
          "execution_count": 6
        },
        {
          "output_type": "display_data",
          "data": {
            "image/png": "[encoded data removed]",
            "text/plain": [
              "<Figure size 864x576 with 1 Axes>"
            ]
          },
          "metadata": {
            "tags": [],
            "needs_background": "light"
          }
        }
      ]
    },
    {
      "cell_type": "code",
      "metadata": {
        "id": "ZDdDlV8nTZnb",
        "colab_type": "code",
        "colab": {
          "base_uri": "https://localhost:8080/",
          "height": 558
        },
        "outputId": "338da049-5654-4d98-8cf3-e74314429d59"
      },
      "source": [
        "#### Comparison of        es by race once pulled over\n",
        "# Stops by race df\n",
        "stops_by_race = nash_data.subject_race.value_counts()\n",
        "stops_by_race = stops_by_race / len(nash_data)\n",
        "\n",
        "# Searches by race\n",
        "search_data = nash_data.loc[nash_data['search_conducted']==True]\n",
        "search_by_race = search_data.subject_race.value_counts()\n",
        "search_by_race = search_by_race / len(search_data)\n",
        "\n",
        "# Characteristics of the plot\n",
        "plt.figure(figsize=(12, 8))\n",
        "barWidth = 0.3 # barwidth\n",
        "r1 = np.arange(len(demog_2018)) # x position of bars\n",
        "r2 = [x + barWidth for x in r1] # x position of bars\n",
        "plt.bar(r1, stops_by_race, width=barWidth, color='black', edgecolor='black', label='Stops') # Create black bars\n",
        "plt.bar(r2, search_by_race, width=barWidth, color='gray', edgecolor='black', label='Searches') # Create gray bars\n",
        "\n",
        "# General layout\n",
        "plt.xticks([r + barWidth for r in range(len(search_by_race))], \\\n",
        "           ['White', 'Black', 'Hispanic', 'Asian/\\nPacific Islander', 'Unknown', 'Other'], fontsize=16)\n",
        "plt.yticks(fontsize=16)\n",
        "plt.ylim(0,1)\n",
        "plt.ylabel('Proportion of  %s Searches' %'{:,}'.format(len(search_data)), fontsize=26)\n",
        "plt.xlabel('Race', fontsize=26)\n",
        "plt.legend(prop={'size':16})\n",
        "\n",
        "plt.show # show graphic"
      ],
      "execution_count": 7,
      "outputs": [
        {
          "output_type": "execute_result",
          "data": {
            "text/plain": [
              "<function matplotlib.pyplot.show>"
            ]
          },
          "metadata": {
            "tags": []
          },
          "execution_count": 7
        },
        {
          "output_type": "display_data",
          "data": {
            "image/png": "[encoded data removed]",
            "text/plain": [
              "<Figure size 864x576 with 1 Axes>"
            ]
          },
          "metadata": {
            "tags": [],
            "needs_background": "light"
          }
        }
      ]
    },
    {
      "cell_type": "code",
      "metadata": {
        "id": "btDhTfpaoma2",
        "colab_type": "code",
        "colab": {
          "base_uri": "https://localhost:8080/",
          "height": 558
        },
        "outputId": "77e52b91-80e1-41c9-bcd6-e0f4dfd73a9f"
      },
      "source": [
        "#### Comparison of frisks by race once pulled over\n",
        "# Stops by race df\n",
        "stops_by_race = nash_data.subject_race.value_counts()\n",
        "stops_by_race = stops_by_race / len(nash_data)\n",
        "\n",
        "# Frisks by race\n",
        "frisk_data = nash_data.loc[nash_data['frisk_performed']==True]\n",
        "frisk_by_race = frisk_data.subject_race.value_counts()\n",
        "frisk_by_race = frisk_by_race / len(frisk_data)\n",
        "\n",
        "# Characteristics of the plot\n",
        "plt.figure(figsize=(12, 8))\n",
        "barWidth = 0.3 # barwidth\n",
        "r1 = np.arange(len(demog_2018)) # x position of bars\n",
        "r2 = [x + barWidth for x in r1] # x position of bars\n",
        "plt.bar(r1, stops_by_race, width=barWidth, color='black', edgecolor='black', label='Stops') # Create black bars\n",
        "plt.bar(r2, frisk_by_race, width=barWidth, color='gray', edgecolor='black', label='Frisks') # Create gray bars\n",
        "\n",
        "# General layout\n",
        "plt.xticks([r + barWidth for r in range(len(frisk_by_race))], \\\n",
        "           ['White', 'Black', 'Hispanic', 'Asian/\\nPacific Islander', 'Unknown', 'Other'], fontsize=16)\n",
        "plt.yticks(fontsize=16)\n",
        "plt.ylim(0,1)\n",
        "plt.ylabel('Proportion of  %s Frisks' %'{:,}'.format(len(frisk_data)), fontsize=26)\n",
        "plt.xlabel('Race', fontsize=26)\n",
        "plt.legend(prop={'size':16})\n",
        "\n",
        "plt.show # show graphic"
      ],
      "execution_count": 8,
      "outputs": [
        {
          "output_type": "execute_result",
          "data": {
            "text/plain": [
              "<function matplotlib.pyplot.show>"
            ]
          },
          "metadata": {
            "tags": []
          },
          "execution_count": 8
        },
        {
          "output_type": "display_data",
          "data": {
            "image/png": "[encoded data removed]",
            "text/plain": [
              "<Figure size 864x576 with 1 Axes>"
            ]
          },
          "metadata": {
            "tags": [],
            "needs_background": "light"
          }
        }
      ]
    },
    {
      "cell_type": "code",
      "metadata": {
        "id": "7gBoRLYigUCU",
        "colab_type": "code",
        "colab": {
          "base_uri": "https://localhost:8080/",
          "height": 558
        },
        "outputId": "d4832a88-939e-4f4d-e838-dd048e539a31"
      },
      "source": [
        "#### Comparison of contraband_found by race once pulled over\n",
        "# Stops by race df\n",
        "stops_by_race = nash_data.subject_race.value_counts()\n",
        "stops_by_race = stops_by_race / len(nash_data)\n",
        "\n",
        "# Contraband FOund by race\n",
        "arrest_data = nash_data.loc[nash_data['contraband_found']==True]\n",
        "arrest_by_race = arrest_data.subject_race.value_counts()\n",
        "arrest_by_race = arrest_by_race / len(arrest_data)\n",
        "\n",
        "# Characteristics of the plot\n",
        "plt.figure(figsize=(12, 8))\n",
        "barWidth = 0.3 # barwidth\n",
        "r1 = np.arange(len(demog_2018)) # x position of bars\n",
        "r2 = [x + barWidth for x in r1] # x position of bars\n",
        "plt.bar(r1, stops_by_race, width=barWidth, color='black', edgecolor='black', label='Stops') # Create black bars\n",
        "plt.bar(r2, arrest_by_race, width=barWidth, color='gray', edgecolor='black', label='Arrests') # Create gray bars\n",
        "\n",
        "# General layout\n",
        "plt.xticks([r + barWidth for r in range(len(arrest_by_race))], \\\n",
        "           ['White', 'Black', 'Hispanic', 'Asian/\\nPacific Islander', 'Unknown', 'Other'], fontsize=16)\n",
        "plt.yticks(fontsize=16)\n",
        "plt.ylim(0,1)\n",
        "plt.ylabel('Proportion of  %s Arrests' %'{:,}'.format(len(arrest_data)), fontsize=26)\n",
        "plt.xlabel('Race', fontsize=26)\n",
        "plt.legend(prop={'size':16})\n",
        "\n",
        "plt.show # show graphic"
      ],
      "execution_count": 9,
      "outputs": [
        {
          "output_type": "execute_result",
          "data": {
            "text/plain": [
              "<function matplotlib.pyplot.show>"
            ]
          },
          "metadata": {
            "tags": []
          },
          "execution_count": 9
        },
        {
          "output_type": "display_data",
          "data": {
            "image/png": "[encoded data removed]",
            "text/plain": [
              "<Figure size 864x576 with 1 Axes>"
            ]
          },
          "metadata": {
            "tags": [],
            "needs_background": "light"
          }
        }
      ]
    },
    {
      "cell_type": "code",
      "metadata": {
        "id": "wW0WXYstgTv5",
        "colab_type": "code",
        "colab": {
          "base_uri": "https://localhost:8080/",
          "height": 564
        },
        "outputId": "592f8eeb-0410-4dba-d90d-ee7de0effa70"
      },
      "source": [
        "#### Comparison of contraband found by race once pulled over\n",
        "# Stops by race df\n",
        "stops_by_race = nash_data.subject_race.value_counts()\n",
        "stops_by_race = stops_by_race / len(nash_data)\n",
        "\n",
        "# Contraband found by race\n",
        "contra_data = nash_data.loc[nash_data['contraband_found']==True]\n",
        "contra_by_race = contra_data.subject_race.value_counts()\n",
        "contra_by_race = contra_by_race / len(contra_data)\n",
        "\n",
        "# Characteristics of the plot\n",
        "plt.figure(figsize=(12, 8))\n",
        "barWidth = 0.3 # barwidth\n",
        "r1 = np.arange(len(demog_2018)) # x position of bars\n",
        "r2 = [x + barWidth for x in r1] # x position of bars\n",
        "plt.bar(r1, stops_by_race, width=barWidth, color='black', edgecolor='black', label='Stops') # Create black bars\n",
        "plt.bar(r2, contra_by_race, width=barWidth, color='gray', edgecolor='black', label='Contraband Found') # Create gray bars\n",
        "\n",
        "# General layout\n",
        "plt.xticks([r + barWidth for r in range(len(contra_by_race))], \\\n",
        "           ['White', 'Black', 'Hispanic', 'Asian/\\nPacific Islander', 'Unknown', 'Other'], fontsize=16)\n",
        "plt.yticks(fontsize=16)\n",
        "plt.ylim(0,1)\n",
        "plt.ylabel('Proportion of  %s Contra Found' %'{:,}'.format(len(contra_data)), fontsize=26)\n",
        "plt.xlabel('Race', fontsize=26)\n",
        "plt.legend(prop={'size':16})\n",
        "\n",
        "plt.show # show graphic"
      ],
      "execution_count": 10,
      "outputs": [
        {
          "output_type": "execute_result",
          "data": {
            "text/plain": [
              "<function matplotlib.pyplot.show>"
            ]
          },
          "metadata": {
            "tags": []
          },
          "execution_count": 10
        },
        {
          "output_type": "display_data",
          "data": {
            "image/png": "[encoded data removed]",
            "text/plain": [
              "<Figure size 864x576 with 1 Axes>"
            ]
          },
          "metadata": {
            "tags": [],
            "needs_background": "light"
          }
        }
      ]
    },
    {
      "cell_type": "markdown",
      "metadata": {
        "id": "flcOs9eYAJuZ",
        "colab_type": "text"
      },
      "source": [
        "# Re-run the the same analyses but also separated by day and night. "
      ]
    },
    {
      "cell_type": "code",
      "metadata": {
        "id": "SRlbAWxycmVR",
        "colab_type": "code",
        "colab": {}
      },
      "source": [
        "# Average sunrise time is 6:35 AM and sunset is 7:05 PM in Nashville\n",
        "# Cut the data into two dataframes for day and night. \n",
        "import datetime\n",
        "nash_data['time'] = pd.to_datetime(nash_data['time'])\n",
        "nash_data = nash_data[nash_data['subject_race'].notna()]\n",
        "nash_day = nash_data[(nash_data[\"time\"].apply(lambda x : x.hour)>6) & (nash_data[\"time\"].apply(lambda x : x.hour)<19)]\n",
        "nash_day_indices = nash_day.index.values\n",
        "nash_night = nash_data.drop(nash_day_indices)\n",
        "nash_night = nash_night[nash_night['time'].notna()]"
      ],
      "execution_count": 12,
      "outputs": []
    },
    {
      "cell_type": "code",
      "metadata": {
        "id": "kUahVEpfuSu7",
        "colab_type": "code",
        "colab": {}
      },
      "source": [
        "#### Comparison of stops by race and demographics\n",
        "# Create demographic list\n",
        "demog_2018 = [0.6316, 0.2788, 0.1040, 0.0362, 0.00, 0.0253]\n",
        "\n",
        "# Stops by race df\n",
        "stops_by_race = nash_data.subject_race.value_counts()\n",
        "stops_by_race = stops_by_race / len(nash_data)\n",
        "\n",
        "# Stops by race during the day\n",
        "stops_race_day = nash_day.subject_race.value_counts()\n",
        "stops_race_day = stops_race_day / len(nash_day)\n",
        "\n",
        "# Stops by race during the night\n",
        "stops_race_night = nash_night.subject_race.value_counts()\n",
        "stops_race_night = stops_race_night / len(nash_night)\n",
        "\n",
        "# Characteristics of the plot\n",
        "plt.figure(figsize=(12, 8))\n",
        "barWidth = 0.15 # barwidth\n",
        "r1 = np.arange(len(demog_2018)) # x position of bars\n",
        "r2 = [x + barWidth for x in r1] # x position of bars\n",
        "r3 = [x + barWidth for x in r2] # x position of bars\n",
        "r4 = [x + barWidth for x in r3] # x position of bars\n",
        "\n",
        "plt.bar(r1, demog_2018, width=barWidth, color='#000000', edgecolor='black', label='Population') # Create black bars\n",
        "plt.bar(r2, stops_by_race, width=barWidth, color='#7E7E7E', edgecolor='black', label='Stops Overall') # Create dark grey bars\n",
        "plt.bar(r3, stops_race_day, width=barWidth, color='#BBBBBB', edgecolor='black', label='Stops Day') # Create light grey bars\n",
        "plt.bar(r4, stops_race_night, width=barWidth, color='#FFFFFF', edgecolor='black', label='Stops Night') # Create white bars\n",
        "\n",
        "\n",
        "# General layout\n",
        "plt.xticks([r + barWidth for r in range(len(demog_2018))], \\\n",
        "           ['White', 'Black', 'Hispanic', 'Asian/\\nPacific Islander', 'Unknown', 'Other'], fontsize=16)\n",
        "plt.yticks(fontsize=16)\n",
        "plt.ylim(0,1)\n",
        "plt.ylabel('Proportion of  %s Stops' %'{:,}'.format(len(nash_data)), fontsize=26)\n",
        "plt.xlabel('Race', fontsize=26)\n",
        "plt.legend(prop={'size':16})\n",
        "\n",
        "plt.show # show graphic"
      ],
      "execution_count": null,
      "outputs": []
    },
    {
      "cell_type": "code",
      "metadata": {
        "id": "c3NTajqOxB6o",
        "colab_type": "code",
        "colab": {}
      },
      "source": [
        "# Re-run the same analyses for the different data_frames\n",
        "#### Comparison of stops by race and demographics\n",
        "# Stops by race df\n",
        "stops_by_race = nash_data.subject_race.value_counts()\n",
        "stops_by_race = stops_by_race / len(nash_data)\n",
        "\n",
        "# Citations by race\n",
        "citation_data = nash_data.loc[nash_data['citation_issued']==True]\n",
        "citation_by_race = citation_data.subject_race.value_counts()\n",
        "citation_by_race = citation_by_race / len(citation_data)\n",
        "\n",
        "# Stops by race during the day\n",
        "citation_data_day = nash_day.loc[nash_day['citation_issued']==True]\n",
        "citations_race_day = citation_data_day.subject_race.value_counts()\n",
        "citations_race_day = citations_race_day / len(citation_data_day)\n",
        "\n",
        "# Stops by race during the night\n",
        "citation_data_night = nash_night.loc[nash_night['citation_issued']==True]\n",
        "citations_race_night = citation_data_night.subject_race.value_counts()\n",
        "citations_race_night = citations_race_night / len(citation_data_night)\n",
        "\n",
        "# Characteristics of the plot\n",
        "plt.figure(figsize=(12, 8))\n",
        "barWidth = 0.15 # barwidth\n",
        "r1 = np.arange(len(demog_2018)) # x position of bars\n",
        "r2 = [x + barWidth for x in r1] # x position of bars\n",
        "r3 = [x + barWidth for x in r2] # x position of bars\n",
        "r4 = [x + barWidth for x in r3] # x position of bars\n",
        "\n",
        "plt.bar(r1, stops_by_race, width=barWidth, color='#000000', edgecolor='black', label='Stops') # Create black bars\n",
        "plt.bar(r2, citation_by_race, width=barWidth, color='#7E7E7E', edgecolor='black', label='Citations Overall') # Create dark grey bars\n",
        "plt.bar(r3, citations_race_day, width=barWidth, color='#BBBBBB', edgecolor='black', label='Citations Day') # Create light grey bars\n",
        "plt.bar(r4, citations_race_night, width=barWidth, color='#FFFFFF', edgecolor='black', label='Citations Night') # Create white bars\n",
        "\n",
        "\n",
        "# General layout\n",
        "plt.xticks([r + barWidth for r in range(len(demog_2018))], \\\n",
        "           ['White', 'Black', 'Hispanic', 'Asian/\\nPacific Islander', 'Unknown', 'Other'], fontsize=16)\n",
        "plt.yticks(fontsize=16)\n",
        "plt.ylim(0,1)\n",
        "plt.ylabel('Proportion of  %s Citations' %'{:,}'.format(len(citation_data)), fontsize=26)\n",
        "plt.xlabel('Race', fontsize=26)\n",
        "plt.legend(prop={'size':16})\n",
        "\n",
        "plt.show # show graphic"
      ],
      "execution_count": null,
      "outputs": []
    },
    {
      "cell_type": "code",
      "metadata": {
        "id": "wQToI1FFzimU",
        "colab_type": "code",
        "colab": {}
      },
      "source": [
        "# Re-run the same analyses for the different data_frames\n",
        "#### Comparison of stops by race and demographics\n",
        "# Stops by race df\n",
        "stops_by_race = nash_data.subject_race.value_counts()\n",
        "stops_by_race = stops_by_race / len(nash_data)\n",
        "\n",
        "# Citations by race\n",
        "arrest_data = nash_data.loc[nash_data['arrest_made']==True]\n",
        "arrest_by_race = arrest_data.subject_race.value_counts()\n",
        "arrest_by_race = arrest_by_race / len(arrest_data)\n",
        "\n",
        "# Stops by race during the day\n",
        "arrest_data_day = nash_day.loc[nash_day['arrest_made']==True]\n",
        "arrest_race_day = arrest_data_day.subject_race.value_counts()\n",
        "arrest_race_day = arrest_race_day / len(arrest_data_day)\n",
        "\n",
        "# Stops by race during the night\n",
        "arrest_data_night = nash_night.loc[nash_night['arrest_made']==True]\n",
        "arrest_race_night = arrest_data_night.subject_race.value_counts()\n",
        "arrest_race_night = arrest_race_night / len(arrest_data_night)\n",
        "\n",
        "# Characteristics of the plot\n",
        "plt.figure(figsize=(12, 8))\n",
        "barWidth = 0.15 # barwidth\n",
        "r1 = np.arange(len(demog_2018)) # x position of bars\n",
        "r2 = [x + barWidth for x in r1] # x position of bars\n",
        "r3 = [x + barWidth for x in r2] # x position of bars\n",
        "r4 = [x + barWidth for x in r3] # x position of bars\n",
        "\n",
        "plt.bar(r1, stops_by_race, width=barWidth, color='#000000', edgecolor='black', label='Stops') # Create black bars\n",
        "plt.bar(r2, arrest_by_race, width=barWidth, color='#7E7E7E', edgecolor='black', label='Arrests Overall') # Create dark grey bars\n",
        "plt.bar(r3, arrest_race_day, width=barWidth, color='#BBBBBB', edgecolor='black', label='Arrests Day') # Create light grey bars\n",
        "plt.bar(r4, arrest_race_night, width=barWidth, color='#FFFFFF', edgecolor='black', label='Arrests Night') # Create white bars\n",
        "\n",
        "\n",
        "# General layout\n",
        "plt.xticks([r + barWidth for r in range(len(demog_2018))], \\\n",
        "           ['White', 'Black', 'Hispanic', 'Asian/\\nPacific Islander', 'Unknown', 'Other'], fontsize=16)\n",
        "plt.yticks(fontsize=16)\n",
        "plt.ylim(0,1)\n",
        "plt.ylabel('Proportion of  %s Arrests' %'{:,}'.format(len(arrest_data)), fontsize=26)\n",
        "plt.xlabel('Race', fontsize=26)\n",
        "plt.legend(prop={'size':16})\n",
        "\n",
        "plt.show # show graphic"
      ],
      "execution_count": null,
      "outputs": []
    },
    {
      "cell_type": "code",
      "metadata": {
        "id": "TQP-kh1F1202",
        "colab_type": "code",
        "colab": {}
      },
      "source": [
        "# Re-run the same analyses for the different data_frames\n",
        "#### Comparison of searches by race and demographics\n",
        "# Stops by race df\n",
        "stops_by_race = nash_data.subject_race.value_counts()\n",
        "stops_by_race = stops_by_race / len(nash_data)\n",
        "\n",
        "# Searches by race\n",
        "search_data = nash_data.loc[nash_data['search_conducted']==True]\n",
        "search_by_race = search_data.subject_race.value_counts()\n",
        "search_by_race = search_by_race / len(search_data)\n",
        "\n",
        "# Searches by race during the day\n",
        "search_data_day = nash_day.loc[nash_day['search_conducted']==True]\n",
        "search_race_day = search_data_day.subject_race.value_counts()\n",
        "search_race_day = search_race_day / len(search_data_day)\n",
        "\n",
        "# Searches by race during the night\n",
        "search_data_night = nash_night.loc[nash_night['search_conducted']==True]\n",
        "search_race_night = search_data_night.subject_race.value_counts()\n",
        "search_race_night = search_race_night / len(search_data_night)\n",
        "\n",
        "# Characteristics of the plot\n",
        "plt.figure(figsize=(12, 8))\n",
        "barWidth = 0.15 # barwidth\n",
        "r1 = np.arange(len(demog_2018)) # x position of bars\n",
        "r2 = [x + barWidth for x in r1] # x position of bars\n",
        "r3 = [x + barWidth for x in r2] # x position of bars\n",
        "r4 = [x + barWidth for x in r3] # x position of bars\n",
        "\n",
        "plt.bar(r1, stops_by_race, width=barWidth, color='#000000', edgecolor='black', label='Stops') # Create black bars\n",
        "plt.bar(r2, search_by_race, width=barWidth, color='#7E7E7E', edgecolor='black', label='Searches Overall') # Create dark grey bars\n",
        "plt.bar(r3, search_race_day, width=barWidth, color='#BBBBBB', edgecolor='black', label='Searches Day') # Create light grey bars\n",
        "plt.bar(r4, search_race_night, width=barWidth, color='#FFFFFF', edgecolor='black', label='Searches Night') # Create white bars\n",
        "\n",
        "# General layout\n",
        "plt.xticks([r + barWidth for r in range(len(demog_2018))], \\\n",
        "           ['White', 'Black', 'Hispanic', 'Asian/\\nPacific Islander', 'Unknown', 'Other'], fontsize=16)\n",
        "plt.yticks(fontsize=16)\n",
        "plt.ylim(0,1)\n",
        "plt.ylabel('Proportion of  %s Searches' %'{:,}'.format(len(search_data)), fontsize=26)\n",
        "plt.xlabel('Race', fontsize=26)\n",
        "plt.legend(prop={'size':16})\n",
        "\n",
        "plt.show # show graphic"
      ],
      "execution_count": null,
      "outputs": []
    },
    {
      "cell_type": "code",
      "metadata": {
        "id": "N3Ug88O31-fk",
        "colab_type": "code",
        "colab": {}
      },
      "source": [
        "# Re-run the same analyses for the different data_frames\n",
        "#### Comparison of Contraband Found by race and demographics\n",
        "# Stops by race df\n",
        "stops_by_race = nash_data.subject_race.value_counts()\n",
        "stops_by_race = stops_by_race / len(nash_data)\n",
        "\n",
        "# Contraband Found by race\n",
        "contra_data = nash_data.loc[nash_data['contraband_found']==True]\n",
        "contra_by_race = contra_data.subject_race.value_counts()\n",
        "contra_by_race = contra_by_race / len(contra_data)\n",
        "\n",
        "# Contraband Found by race during the day\n",
        "contra_data_day = nash_day.loc[nash_day['contraband_found']==True]\n",
        "contra_race_day = contra_data_day.subject_race.value_counts()\n",
        "contra_race_day = contra_race_day / len(contra_data_day)\n",
        "\n",
        "# Contraband Found by race during the night\n",
        "contra_data_night = nash_night.loc[nash_night['contraband_found']==True]\n",
        "contra_race_night = contra_data_night.subject_race.value_counts()\n",
        "contra_race_night = contra_race_night / len(contra_data_night)\n",
        "\n",
        "# Characteristics of the plot\n",
        "plt.figure(figsize=(12, 8))\n",
        "barWidth = 0.15 # barwidth\n",
        "r1 = np.arange(len(demog_2018)) # x position of bars\n",
        "r2 = [x + barWidth for x in r1] # x position of bars\n",
        "r3 = [x + barWidth for x in r2] # x position of bars\n",
        "r4 = [x + barWidth for x in r3] # x position of bars\n",
        "\n",
        "plt.bar(r1, stops_by_race, width=barWidth, color='#000000', edgecolor='black', label='Stops') # Create black bars\n",
        "plt.bar(r2, contra_by_race, width=barWidth, color='#7E7E7E', edgecolor='black', label='Contraband Found Overall') # Create dark grey bars\n",
        "plt.bar(r3, contra_race_day, width=barWidth, color='#BBBBBB', edgecolor='black', label='Contraband Found Day') # Create light grey bars\n",
        "plt.bar(r4, contra_race_night, width=barWidth, color='#FFFFFF', edgecolor='black', label='Contraband Found Night') # Create white bars\n",
        "\n",
        "# General layout\n",
        "plt.xticks([r + barWidth for r in range(len(demog_2018))], \\\n",
        "           ['White', 'Black', 'Hispanic', 'Asian/\\nPacific Islander', 'Unknown', 'Other'], fontsize=16)\n",
        "plt.yticks(fontsize=16)\n",
        "plt.ylim(0,1)\n",
        "plt.ylabel('Proportion of  %s Contra Found' %'{:,}'.format(len(contra_data)), fontsize=26)\n",
        "plt.xlabel('Race', fontsize=26)\n",
        "plt.legend(prop={'size':16})\n",
        "\n",
        "plt.show # show graphic"
      ],
      "execution_count": null,
      "outputs": []
    },
    {
      "cell_type": "code",
      "metadata": {
        "id": "HkbxYR8P3oGt",
        "colab_type": "code",
        "colab": {}
      },
      "source": [
        "# Re-run the same analyses for the different data_frames\n",
        "#### Comparison of Frisk by race and demographics\n",
        "# Stops by race df\n",
        "stops_by_race = nash_data.subject_race.value_counts()\n",
        "stops_by_race = stops_by_race / len(nash_data)\n",
        "\n",
        "# Frisk by race\n",
        "frisk_data = nash_data.loc[nash_data['frisk_performed']==True]\n",
        "frisk_by_race = frisk_data.subject_race.value_counts()\n",
        "frisk_by_race = frisk_by_race / len(frisk_data)\n",
        "\n",
        "# Frisk by race during the day\n",
        "frisk_data_day = nash_day.loc[nash_day['frisk_performed']==True]\n",
        "frisk_race_day = frisk_data_day.subject_race.value_counts()\n",
        "frisk_race_day = frisk_race_day / len(frisk_data_day)\n",
        "\n",
        "# Frisk by race during the night\n",
        "frisk_data_night = nash_night.loc[nash_night['frisk_performed']==True]\n",
        "frisk_race_night = frisk_data_night.subject_race.value_counts()\n",
        "frisk_race_night = frisk_race_night / len(frisk_data_night)\n",
        "\n",
        "# Characteristics of the plot\n",
        "plt.figure(figsize=(12, 8))\n",
        "barWidth = 0.15 # barwidth\n",
        "r1 = np.arange(len(demog_2018)) # x position of bars\n",
        "r2 = [x + barWidth for x in r1] # x position of bars\n",
        "r3 = [x + barWidth for x in r2] # x position of bars\n",
        "r4 = [x + barWidth for x in r3] # x position of bars\n",
        "\n",
        "plt.bar(r1, stops_by_race, width=barWidth, color='#000000', edgecolor='black', label='Stops') # Create black bars\n",
        "plt.bar(r2, frisk_by_race, width=barWidth, color='#7E7E7E', edgecolor='black', label='Frisk Overall') # Create dark grey bars\n",
        "plt.bar(r3, frisk_race_day, width=barWidth, color='#BBBBBB', edgecolor='black', label='Frisk Day') # Create light grey bars\n",
        "plt.bar(r4, frisk_race_night, width=barWidth, color='#FFFFFF', edgecolor='black', label='Frisk Night') # Create white bars\n",
        "\n",
        "# General layout\n",
        "plt.xticks([r + barWidth for r in range(len(demog_2018))], \\\n",
        "           ['White', 'Black', 'Hispanic', 'Asian/\\nPacific Islander', 'Unknown', 'Other'], fontsize=16)\n",
        "plt.yticks(fontsize=16)\n",
        "plt.ylim(0,1)\n",
        "plt.ylabel('Proportion of  %s Frisks' %'{:,}'.format(len(frisk_data)), fontsize=26)\n",
        "plt.xlabel('Race', fontsize=26)\n",
        "plt.legend(prop={'size':16})\n",
        "\n",
        "plt.show # show graphic"
      ],
      "execution_count": null,
      "outputs": []
    },
    {
      "cell_type": "markdown",
      "metadata": {
        "id": "AzIt0fwqC699",
        "colab_type": "text"
      },
      "source": [
        "# Combine all the proportion dataframes into single dataframe for further comparisons"
      ]
    },
    {
      "cell_type": "code",
      "metadata": {
        "id": "ZI8Smgfg4dnd",
        "colab_type": "code",
        "colab": {}
      },
      "source": [
        "data_tuples = list(zip(demog_2018, stops_by_race, stops_race_day, stops_race_night, \\\n",
        "                       search_by_race, search_race_day, search_race_night, \\\n",
        "                       frisk_by_race, frisk_race_day, frisk_race_night, \\\n",
        "                       citation_by_race, citations_race_day, citations_race_night, \\\n",
        "                       arrest_by_race, arrest_race_day, arrest_race_night, \\\n",
        "                       contra_by_race, contra_race_day, contra_race_night))\n",
        "proportion_data = pd.DataFrame(data_tuples, columns=['Demographics', 'Stops_OVR', \\\n",
        "                                                     'Stops_Day', 'Stops_Night', \\\n",
        "                                                     'Search_OVR', 'Search_Day', 'Search_Night', \\\n",
        "                                                     'Frisk_OVR', 'Frisk_Day', 'Frisk_Night', \\\n",
        "                                                     'Cite_OVR', 'Cite_Day', 'Cite_Night', \\\n",
        "                                                     'Arrest_OVR', 'Arrest_Day', 'Arrest_Night', \\\n",
        "                                                     'Contra_OVR', 'Contra_Day', 'Contra_Night'])\n",
        "proportion_data['Race'] = ['White', 'Black', 'Hispanic', 'Asian Pacific Islander', 'Unknown', 'Other']\n",
        "proportion_data.set_index(\"Race\", inplace=True)\n",
        "proportion_data.head()"
      ],
      "execution_count": null,
      "outputs": []
    },
    {
      "cell_type": "code",
      "metadata": {
        "id": "RS-eL2ET40KH",
        "colab_type": "code",
        "colab": {}
      },
      "source": [
        "proportion_data.to_csv(\"All_Proportions.csv\")"
      ],
      "execution_count": null,
      "outputs": []
    },
    {
      "cell_type": "markdown",
      "metadata": {
        "id": "5opTYLZhzymd",
        "colab_type": "text"
      },
      "source": [
        "# Isolate individual officers and fit single-alternative matching equation. "
      ]
    },
    {
      "cell_type": "code",
      "metadata": {
        "id": "aeQGXZSud9av",
        "colab_type": "code",
        "colab": {}
      },
      "source": [
        "# Quick look at a description of the officers column\n",
        "\n",
        "# Distribution of what stops look like\n",
        "print(nash_data.officer_id_hash.value_counts().describe(), \"\\n\\n\")\n",
        "\n",
        "# Return the 20 officers with the most stops\n",
        "print(nash_data.officer_id_hash.value_counts()[:20])"
      ],
      "execution_count": null,
      "outputs": []
    },
    {
      "cell_type": "code",
      "metadata": {
        "id": "4xa-AVY6yzQK",
        "colab_type": "code",
        "colab": {}
      },
      "source": [
        "# Isolate single officer\n",
        "offcr_A = nash_data[nash_data['officer_id_hash']=='498350de5b']\n",
        "offcr_A = offcr_A[offcr_A['time'].notna()]\n",
        "offcr_A = offcr_A.reset_index()"
      ],
      "execution_count": null,
      "outputs": []
    },
    {
      "cell_type": "code",
      "metadata": {
        "id": "fY2xi99cgz-J",
        "colab_type": "code",
        "colab": {}
      },
      "source": [
        "# Create year and month cols for grouping\n",
        "offcr_A['year'] = pd.DatetimeIndex(offcr_A['date']).year\n",
        "offcr_A['month'] = pd.DatetimeIndex(offcr_A['date']).month"
      ],
      "execution_count": null,
      "outputs": []
    },
    {
      "cell_type": "code",
      "metadata": {
        "id": "v9gYxkGVmQes",
        "colab_type": "code",
        "colab": {}
      },
      "source": [
        "# Calculate rate of stops per day and rate of citations per day\n",
        "offcr_cites = offcr_A.groupby(['year', 'month'])['citation_issued'].sum()\n",
        "offcr_stops = offcr_A.groupby(['year', 'month'])['citation_issued'].count()\n",
        "cites_per_day = offcr_cites / 30.42\n",
        "stops_per_day = offcr_stops / 30.42"
      ],
      "execution_count": null,
      "outputs": []
    },
    {
      "cell_type": "code",
      "metadata": {
        "id": "xbdo9XqisL8B",
        "colab_type": "code",
        "colab": {}
      },
      "source": [
        "# PLot behavior (stops) as a function of putative reinforcers (citations)\n",
        "plt.figure(figsize=(12, 9))\n",
        "plt.scatter(x=cites_per_day, y=stops_per_day, marker='o', alpha=0.5, \\\n",
        "            color='black', s=100)\n",
        "plt.xlabel('Citations per Day', fontsize=30)\n",
        "plt.ylabel('Stops per Day', fontsize=30)\n",
        "plt.ylim(-1, )\n",
        "plt.xlim(-0.75,)\n",
        "plt.xticks(fontsize=16)\n",
        "plt.yticks(fontsize=16)"
      ],
      "execution_count": null,
      "outputs": []
    },
    {
      "cell_type": "code",
      "metadata": {
        "id": "jrSAdb5Yx9mZ",
        "colab_type": "code",
        "colab": {}
      },
      "source": [
        "# Define single alternative matching equation\n",
        "import numpy as np\n",
        "def single_match(k, r1, re):\n",
        "  return (k*r1)/(r1+re)"
      ],
      "execution_count": null,
      "outputs": []
    },
    {
      "cell_type": "code",
      "metadata": {
        "id": "fYGyFdtDsLv-",
        "colab_type": "code",
        "colab": {}
      },
      "source": [
        "from scipy.optimize import curve_fit\n",
        "from sklearn.metrics import r2_score\n",
        "behavior = stops_per_day.values\n",
        "reinforcer = cites_per_day\n",
        "param_seeds = [16, 5]\n",
        "c, cov = curve_fit(single_match, behavior, reinforcer, param_seeds) # Fit model\n",
        "print(\"k, re:\", c) # Show params\n",
        "preds_from_obs = single_match(c[0], cites_per_day, c[1])\n",
        "r_2 = r2_score(cites_per_day, preds_from_obs)\n",
        "print(\"R^2:\", round(r_2, 2))"
      ],
      "execution_count": null,
      "outputs": []
    },
    {
      "cell_type": "code",
      "metadata": {
        "id": "d1VDsSsy9-rV",
        "colab_type": "code",
        "colab": {}
      },
      "source": [
        "# Create data for plotting the curve predicted by the single-alternative matching\n",
        "cites_pred = []\n",
        "start = 0\n",
        "while start < cites_per_day.max():\n",
        "  start = round(start, 2)\n",
        "  cites_pred.append(start)\n",
        "  start += 0.2\n",
        "\n",
        "stop_pred = []\n",
        "for i in list(range(len(cites_pred))):\n",
        "  pred = round(single_match(c[0], cites_pred[i], c[1]), 2)\n",
        "  stop_pred.append(pred)"
      ],
      "execution_count": null,
      "outputs": []
    },
    {
      "cell_type": "code",
      "metadata": {
        "id": "uMoAqiPfzJRt",
        "colab_type": "code",
        "colab": {}
      },
      "source": [
        "# PLot behavior (stops) as a function of putative reinforcers (citations)\n",
        "plt.figure(figsize=(12, 9))\n",
        "plt.scatter(x=cites_per_day, y=stops_per_day, marker='o', alpha=0.5, \\\n",
        "            color='black', s=100)\n",
        "plt.plot(cites_pred, stop_pred, marker='', linestyle='-', color='black')\n",
        "plt.xlabel('Citations per Day', fontsize=30)\n",
        "plt.ylabel('Stops per Day', fontsize=30)\n",
        "plt.text(8, 1.5, '$R^2$=%s' %'{}'.format(round(r_2, 2)), fontsize=26)\n",
        "plt.ylim(-1, )\n",
        "plt.xlim(-0.75,)\n",
        "plt.xticks(fontsize=16)\n",
        "plt.yticks(fontsize=16)"
      ],
      "execution_count": null,
      "outputs": []
    },
    {
      "cell_type": "code",
      "metadata": {
        "id": "Ehktw4Te_nwI",
        "colab_type": "code",
        "colab": {}
      },
      "source": [
        "# Run the same analysis, but also group by race\n",
        "# Calculate rate of stops per day and rate of citations per day\n",
        "offcr_cites = offcr_A.groupby(['year', 'month', 'subject_race'])['citation_issued'].sum().unstack()\n",
        "offcr_stops = offcr_A.groupby(['year', 'month', 'subject_race'])['citation_issued'].count().unstack()\n",
        "cites_per_day = offcr_cites / 30.42\n",
        "stops_per_day = offcr_stops / 30.42\n",
        "cites_per_day = cites_per_day.fillna(0)\n",
        "stops_per_day = stops_per_day.fillna(0)"
      ],
      "execution_count": null,
      "outputs": []
    },
    {
      "cell_type": "code",
      "metadata": {
        "id": "jbEBvmiXGAIq",
        "colab_type": "code",
        "colab": {}
      },
      "source": [
        "# fit model per race\n",
        "from scipy.optimize import curve_fit\n",
        "from sklearn.metrics import r2_score\n",
        "\n",
        "# Empty lists to store data\n",
        "k = []\n",
        "re = []\n",
        "r2 = []\n",
        "\n",
        "# Loop through each race and fit the model\n",
        "cols = list(cites_per_day)\n",
        "for i in cols:\n",
        "  behavior = stops_per_day[i].values\n",
        "  reinforcer = cites_per_day[i].values\n",
        "  param_seeds = [16, 5]\n",
        "  c, cov = curve_fit(single_match, behavior, reinforcer, param_seeds) # Fit model\n",
        "  k.append(c[0]) # add estimated k to list\n",
        "  re.append(c[1]) # add estimated re to list\n",
        "  preds_from_obs = single_match(c[0], cites_per_day, c[1]) # predictions for observed cites per month\n",
        "  r_2 = r2_score(cites_per_day, preds_from_obs) # calculate r^2 values\n",
        "  r2.append(r_2) # add estimated r^2 to list\n",
        "\n",
        "# Combine results into a single dataframe\n",
        "fits_by_race = pd.DataFrame({\"est_k\":k, \"est_re\":re, \"r^2\":r2, \"race\":list(cites_per_day)})\n",
        "fits_by_race"
      ],
      "execution_count": null,
      "outputs": []
    },
    {
      "cell_type": "code",
      "metadata": {
        "id": "iXQjwLi2G7oB",
        "colab_type": "code",
        "colab": {}
      },
      "source": [
        "# Create data for plotting the curve predicted by the single-alternative matching\n",
        "cites_pred = []\n",
        "start = 0\n",
        "while start < 20:\n",
        "  start = round(start, 2)\n",
        "  cites_pred.append(start)\n",
        "  start += 0.2\n",
        "\n",
        "# Predictions for Asian/Pacific Islander\n",
        "api_pred = []\n",
        "for i in list(range(len(cites_pred))):\n",
        "  pred = round(single_match(fits_by_race['est_k'][0], cites_pred[i], fits_by_race['est_re'][0]), 2)\n",
        "  api_pred.append(pred)\n",
        "\n",
        "# Predictions for Black\n",
        "black_pred = []\n",
        "for i in list(range(len(cites_pred))):\n",
        "  pred = round(single_match(fits_by_race['est_k'][1], cites_pred[i], fits_by_race['est_re'][1]), 2)\n",
        "  black_pred.append(pred)\n",
        "\n",
        "# Predictions for Hispanic\n",
        "hispanic_pred = []\n",
        "for i in list(range(len(cites_pred))):\n",
        "  pred = round(single_match(fits_by_race['est_k'][2], cites_pred[i], fits_by_race['est_re'][2]), 2)\n",
        "  hispanic_pred.append(pred)\n",
        "\n",
        "# Predictions for White\n",
        "white_pred = []\n",
        "for i in list(range(len(cites_pred))):\n",
        "  pred = round(single_match(fits_by_race['est_k'][5], cites_pred[i], fits_by_race['est_re'][5]), 2)\n",
        "  white_pred.append(pred)"
      ],
      "execution_count": null,
      "outputs": []
    },
    {
      "cell_type": "code",
      "metadata": {
        "id": "5p_VrdYTH29c",
        "colab_type": "code",
        "colab": {}
      },
      "source": [
        "# PLot behavior (stops) as a function of putative reinforcers (citations)\n",
        "plt.figure(figsize=(20, 15))\n",
        "# Raw Data\n",
        "plt.scatter(x=cites_per_day['asian/pacific islander'], y=stops_per_day['asian/pacific islander'], marker='o', alpha=0.2, \\\n",
        "            color='black', s=100, label='Asian/Pacific Islander')\n",
        "plt.scatter(x=cites_per_day['black'], y=stops_per_day['black'], marker='o', alpha=0.2, \\\n",
        "            color='blue', s=100, label='Black')\n",
        "plt.scatter(x=cites_per_day['hispanic'], y=stops_per_day['hispanic'], marker='o', alpha=0.2, \\\n",
        "            color='red', s=100, label='Hispanic')\n",
        "plt.scatter(x=cites_per_day['white'], y=stops_per_day['white'], marker='o', alpha=0.2, \\\n",
        "            color='green', s=100, label='White')\n",
        "# Prediction Curves\n",
        "plt.plot(cites_pred, api_pred, marker='', linestyle='-', color='black')\n",
        "plt.plot(cites_pred, black_pred, marker='', linestyle='-', color='blue')\n",
        "plt.plot(cites_pred, hispanic_pred, marker='', linestyle='-', color='red')\n",
        "plt.plot(cites_pred, white_pred, marker='', linestyle='-', color='green')\n",
        "plt.plot(cites_pred, cites_pred, marker='', linestyle='--', color='gray')\n",
        "\n",
        "# Details\n",
        "plt.xlabel('Citations per Day', fontsize=30)\n",
        "plt.ylabel('Stops per Day', fontsize=30)\n",
        "plt.ylim(-1, 12)\n",
        "plt.xlim(-0.75,10)\n",
        "plt.legend(fontsize=20)\n",
        "plt.xticks(fontsize=16)\n",
        "plt.yticks(fontsize=16)"
      ],
      "execution_count": null,
      "outputs": []
    },
    {
      "cell_type": "code",
      "metadata": {
        "id": "dE9f97UCOkb7",
        "colab_type": "code",
        "colab": {}
      },
      "source": [
        ""
      ],
      "execution_count": null,
      "outputs": []
    }
  ]
}