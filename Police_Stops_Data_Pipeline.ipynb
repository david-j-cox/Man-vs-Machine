{
  "nbformat": 4,
  "nbformat_minor": 0,
  "metadata": {
    "accelerator": "GPU",
    "colab": {
      "name": "Police Stops Data Pipeline.ipynb",
      "provenance": [],
      "collapsed_sections": [],
      "machine_shape": "hm",
      "include_colab_link": true
    },
    "kernelspec": {
      "display_name": "Python 3",
      "name": "python3"
    }
  },
  "cells": [
    {
      "cell_type": "markdown",
      "metadata": {
        "id": "view-in-github",
        "colab_type": "text"
      },
      "source": [
        "<a href=\"https://colab.research.google.com/github/david-j-cox/Man-vs-Machine/blob/master/Police_Stops_Data_Pipeline.ipynb\" target=\"_parent\"><img src=\"https://colab.research.google.com/assets/colab-badge.svg\" alt=\"Open In Colab\"/></a>"
      ]
    },
    {
      "cell_type": "markdown",
      "metadata": {
        "id": "Z7u82U1GZ5ps"
      },
      "source": [
        "# Background information\n",
        "*   This notebooks contains the data analytic pipeline for the manuscript titled \"Understanding Policing: A Quantitative Analysis\" and submitted to *Perspectives on Behavior Science*.\n",
        "*   Data for this notebook can be obtained from the Stanford Police Project: https://openpolicing.stanford.edu/data/. "
      ]
    },
    {
      "cell_type": "code",
      "metadata": {
        "id": "go63Z8BLuagC"
      },
      "source": [
        "# Packages!!\n",
        "import os\n",
        "import sys\n",
        "import pandas as pd\n",
        "import numpy as np\n",
        "import scipy\n",
        "import pandas_profiling\n",
        "import seaborn as sns\n",
        "import matplotlib.pyplot as plt\n",
        "%matplotlib inline"
      ],
      "execution_count": null,
      "outputs": []
    },
    {
      "cell_type": "code",
      "metadata": {
        "colab": {
          "base_uri": "https://localhost:8080/"
        },
        "id": "MD91rOFYa-Gv",
        "outputId": "98161e2a-d50c-4657-f365-87570c0f5f9d"
      },
      "source": [
        "# Upload data \n",
        "from google.colab import files\n",
        "uploaded = files.upload()\n",
        "nash_raw_data = pd.read_csv(\"tn_nashville_2020_04_01.csv\")\n",
        "nash_data = nash_raw_data.copy()"
      ],
      "execution_count": null,
      "outputs": [
        {
          "output_type": "stream",
          "text": [
            "Drive already mounted at /content/gdrive; to attempt to forcibly remount, call drive.mount(\"/content/gdrive\", force_remount=True).\n",
            "/content/gdrive/MyDrive/Policing Data/Nashville/Data\n"
          ],
          "name": "stdout"
        },
        {
          "output_type": "stream",
          "text": [
            "/usr/local/lib/python3.6/dist-packages/IPython/core/interactiveshell.py:2718: DtypeWarning: Columns (6,8,15,16,17,22,23,24,25,29,30,31,32,33,35,36,37,38,40,41) have mixed types.Specify dtype option on import or set low_memory=False.\n",
            "  interactivity=interactivity, compiler=compiler, result=result)\n"
          ],
          "name": "stderr"
        }
      ]
    },
    {
      "cell_type": "code",
      "metadata": {
        "colab": {
          "base_uri": "https://localhost:8080/",
          "height": 451
        },
        "id": "keWd_GvzYMjx",
        "outputId": "f6dc632b-31fa-4d4f-bff7-b3de58d94203"
      },
      "source": [
        "# Sample of what the data looks like and the data types\n",
        "nash_data.head()"
      ],
      "execution_count": null,
      "outputs": [
        {
          "output_type": "execute_result",
          "data": {
            "text/html": [
              "<div>\n",
              "<style scoped>\n",
              "    .dataframe tbody tr th:only-of-type {\n",
              "        vertical-align: middle;\n",
              "    }\n",
              "\n",
              "    .dataframe tbody tr th {\n",
              "        vertical-align: top;\n",
              "    }\n",
              "\n",
              "    .dataframe thead th {\n",
              "        text-align: right;\n",
              "    }\n",
              "</style>\n",
              "<table border=\"1\" class=\"dataframe\">\n",
              "  <thead>\n",
              "    <tr style=\"text-align: right;\">\n",
              "      <th></th>\n",
              "      <th>raw_row_number</th>\n",
              "      <th>date</th>\n",
              "      <th>time</th>\n",
              "      <th>location</th>\n",
              "      <th>lat</th>\n",
              "      <th>lng</th>\n",
              "      <th>precinct</th>\n",
              "      <th>reporting_area</th>\n",
              "      <th>zone</th>\n",
              "      <th>subject_age</th>\n",
              "      <th>subject_race</th>\n",
              "      <th>subject_sex</th>\n",
              "      <th>officer_id_hash</th>\n",
              "      <th>type</th>\n",
              "      <th>violation</th>\n",
              "      <th>arrest_made</th>\n",
              "      <th>citation_issued</th>\n",
              "      <th>warning_issued</th>\n",
              "      <th>outcome</th>\n",
              "      <th>contraband_found</th>\n",
              "      <th>contraband_drugs</th>\n",
              "      <th>contraband_weapons</th>\n",
              "      <th>frisk_performed</th>\n",
              "      <th>search_conducted</th>\n",
              "      <th>search_person</th>\n",
              "      <th>search_vehicle</th>\n",
              "      <th>search_basis</th>\n",
              "      <th>reason_for_stop</th>\n",
              "      <th>vehicle_registration_state</th>\n",
              "      <th>notes</th>\n",
              "      <th>raw_verbal_warning_issued</th>\n",
              "      <th>raw_written_warning_issued</th>\n",
              "      <th>raw_traffic_citation_issued</th>\n",
              "      <th>raw_misd_state_citation_issued</th>\n",
              "      <th>raw_suspect_ethnicity</th>\n",
              "      <th>raw_driver_searched</th>\n",
              "      <th>raw_passenger_searched</th>\n",
              "      <th>raw_search_consent</th>\n",
              "      <th>raw_search_arrest</th>\n",
              "      <th>raw_search_warrant</th>\n",
              "      <th>raw_search_inventory</th>\n",
              "      <th>raw_search_plain_view</th>\n",
              "    </tr>\n",
              "  </thead>\n",
              "  <tbody>\n",
              "    <tr>\n",
              "      <th>0</th>\n",
              "      <td>232947</td>\n",
              "      <td>2010-10-10</td>\n",
              "      <td>NaN</td>\n",
              "      <td>DOMINICAN DR &amp; ROSA L PARKS BLVD, NASHVILLE, T...</td>\n",
              "      <td>36.187925</td>\n",
              "      <td>-86.798519</td>\n",
              "      <td>6</td>\n",
              "      <td>4403.0</td>\n",
              "      <td>611</td>\n",
              "      <td>27.0</td>\n",
              "      <td>black</td>\n",
              "      <td>male</td>\n",
              "      <td>80ed1b32eb</td>\n",
              "      <td>vehicular</td>\n",
              "      <td>investigative stop</td>\n",
              "      <td>False</td>\n",
              "      <td>False</td>\n",
              "      <td>True</td>\n",
              "      <td>warning</td>\n",
              "      <td>NaN</td>\n",
              "      <td>NaN</td>\n",
              "      <td>NaN</td>\n",
              "      <td>False</td>\n",
              "      <td>False</td>\n",
              "      <td>False</td>\n",
              "      <td>False</td>\n",
              "      <td>NaN</td>\n",
              "      <td>investigative stop</td>\n",
              "      <td>TN</td>\n",
              "      <td>NaN</td>\n",
              "      <td>True</td>\n",
              "      <td>False</td>\n",
              "      <td>False</td>\n",
              "      <td>NaN</td>\n",
              "      <td>N</td>\n",
              "      <td>False</td>\n",
              "      <td>False</td>\n",
              "      <td>False</td>\n",
              "      <td>False</td>\n",
              "      <td>False</td>\n",
              "      <td>False</td>\n",
              "      <td>False</td>\n",
              "    </tr>\n",
              "    <tr>\n",
              "      <th>1</th>\n",
              "      <td>237161</td>\n",
              "      <td>2010-10-10</td>\n",
              "      <td>10:00:00</td>\n",
              "      <td>1122 LEBANON PIKE, NASHVILLE, TN, 37210</td>\n",
              "      <td>36.155521</td>\n",
              "      <td>-86.735902</td>\n",
              "      <td>5</td>\n",
              "      <td>9035.0</td>\n",
              "      <td>513</td>\n",
              "      <td>18.0</td>\n",
              "      <td>white</td>\n",
              "      <td>male</td>\n",
              "      <td>a983204b21</td>\n",
              "      <td>vehicular</td>\n",
              "      <td>moving traffic violation</td>\n",
              "      <td>False</td>\n",
              "      <td>True</td>\n",
              "      <td>False</td>\n",
              "      <td>citation</td>\n",
              "      <td>NaN</td>\n",
              "      <td>NaN</td>\n",
              "      <td>NaN</td>\n",
              "      <td>False</td>\n",
              "      <td>False</td>\n",
              "      <td>False</td>\n",
              "      <td>False</td>\n",
              "      <td>NaN</td>\n",
              "      <td>moving traffic violation</td>\n",
              "      <td>TN</td>\n",
              "      <td>NaN</td>\n",
              "      <td>False</td>\n",
              "      <td>False</td>\n",
              "      <td>True</td>\n",
              "      <td>NaN</td>\n",
              "      <td>N</td>\n",
              "      <td>False</td>\n",
              "      <td>False</td>\n",
              "      <td>False</td>\n",
              "      <td>False</td>\n",
              "      <td>False</td>\n",
              "      <td>False</td>\n",
              "      <td>False</td>\n",
              "    </tr>\n",
              "    <tr>\n",
              "      <th>2</th>\n",
              "      <td>232902</td>\n",
              "      <td>2010-10-10</td>\n",
              "      <td>10:00:00</td>\n",
              "      <td>898 DAVIDSON DR, , TN, 37205</td>\n",
              "      <td>36.117420</td>\n",
              "      <td>-86.895593</td>\n",
              "      <td>1</td>\n",
              "      <td>5005.0</td>\n",
              "      <td>121</td>\n",
              "      <td>52.0</td>\n",
              "      <td>white</td>\n",
              "      <td>male</td>\n",
              "      <td>f5d8fbd78b</td>\n",
              "      <td>vehicular</td>\n",
              "      <td>vehicle equipment violation</td>\n",
              "      <td>False</td>\n",
              "      <td>False</td>\n",
              "      <td>True</td>\n",
              "      <td>warning</td>\n",
              "      <td>NaN</td>\n",
              "      <td>NaN</td>\n",
              "      <td>NaN</td>\n",
              "      <td>False</td>\n",
              "      <td>False</td>\n",
              "      <td>False</td>\n",
              "      <td>False</td>\n",
              "      <td>NaN</td>\n",
              "      <td>vehicle equipment violation</td>\n",
              "      <td>TN</td>\n",
              "      <td>NaN</td>\n",
              "      <td>True</td>\n",
              "      <td>False</td>\n",
              "      <td>False</td>\n",
              "      <td>NaN</td>\n",
              "      <td>N</td>\n",
              "      <td>False</td>\n",
              "      <td>False</td>\n",
              "      <td>False</td>\n",
              "      <td>False</td>\n",
              "      <td>False</td>\n",
              "      <td>False</td>\n",
              "      <td>False</td>\n",
              "    </tr>\n",
              "    <tr>\n",
              "      <th>3</th>\n",
              "      <td>233219</td>\n",
              "      <td>2010-10-10</td>\n",
              "      <td>22:00:00</td>\n",
              "      <td>MURFREESBORO PIKE &amp; NASHBORO BLVD, ANTIOCH, TN...</td>\n",
              "      <td>36.086799</td>\n",
              "      <td>-86.648581</td>\n",
              "      <td>3</td>\n",
              "      <td>8891.0</td>\n",
              "      <td>325</td>\n",
              "      <td>25.0</td>\n",
              "      <td>white</td>\n",
              "      <td>male</td>\n",
              "      <td>4f1d028e45</td>\n",
              "      <td>vehicular</td>\n",
              "      <td>registration</td>\n",
              "      <td>False</td>\n",
              "      <td>False</td>\n",
              "      <td>True</td>\n",
              "      <td>warning</td>\n",
              "      <td>NaN</td>\n",
              "      <td>NaN</td>\n",
              "      <td>NaN</td>\n",
              "      <td>False</td>\n",
              "      <td>False</td>\n",
              "      <td>False</td>\n",
              "      <td>False</td>\n",
              "      <td>NaN</td>\n",
              "      <td>registration</td>\n",
              "      <td>TN</td>\n",
              "      <td>NaN</td>\n",
              "      <td>True</td>\n",
              "      <td>False</td>\n",
              "      <td>False</td>\n",
              "      <td>NaN</td>\n",
              "      <td>N</td>\n",
              "      <td>False</td>\n",
              "      <td>False</td>\n",
              "      <td>False</td>\n",
              "      <td>False</td>\n",
              "      <td>False</td>\n",
              "      <td>False</td>\n",
              "      <td>False</td>\n",
              "    </tr>\n",
              "    <tr>\n",
              "      <th>4</th>\n",
              "      <td>232780</td>\n",
              "      <td>2010-10-10</td>\n",
              "      <td>01:00:00</td>\n",
              "      <td>BUCHANAN ST, NORTH, TN, 37208</td>\n",
              "      <td>36.180038</td>\n",
              "      <td>-86.809109</td>\n",
              "      <td>NaN</td>\n",
              "      <td>NaN</td>\n",
              "      <td>NaN</td>\n",
              "      <td>21.0</td>\n",
              "      <td>black</td>\n",
              "      <td>male</td>\n",
              "      <td>0f0e6b7d67</td>\n",
              "      <td>vehicular</td>\n",
              "      <td>vehicle equipment violation</td>\n",
              "      <td>False</td>\n",
              "      <td>False</td>\n",
              "      <td>True</td>\n",
              "      <td>warning</td>\n",
              "      <td>False</td>\n",
              "      <td>False</td>\n",
              "      <td>False</td>\n",
              "      <td>False</td>\n",
              "      <td>True</td>\n",
              "      <td>True</td>\n",
              "      <td>True</td>\n",
              "      <td>probable cause</td>\n",
              "      <td>vehicle equipment violation</td>\n",
              "      <td>TN</td>\n",
              "      <td>NaN</td>\n",
              "      <td>True</td>\n",
              "      <td>False</td>\n",
              "      <td>False</td>\n",
              "      <td>NaN</td>\n",
              "      <td>N</td>\n",
              "      <td>True</td>\n",
              "      <td>True</td>\n",
              "      <td>False</td>\n",
              "      <td>False</td>\n",
              "      <td>False</td>\n",
              "      <td>False</td>\n",
              "      <td>False</td>\n",
              "    </tr>\n",
              "  </tbody>\n",
              "</table>\n",
              "</div>"
            ],
            "text/plain": [
              "  raw_row_number        date  ... raw_search_inventory raw_search_plain_view\n",
              "0         232947  2010-10-10  ...                False                 False\n",
              "1         237161  2010-10-10  ...                False                 False\n",
              "2         232902  2010-10-10  ...                False                 False\n",
              "3         233219  2010-10-10  ...                False                 False\n",
              "4         232780  2010-10-10  ...                False                 False\n",
              "\n",
              "[5 rows x 42 columns]"
            ]
          },
          "metadata": {
            "tags": []
          },
          "execution_count": 3
        }
      ]
    },
    {
      "cell_type": "code",
      "metadata": {
        "id": "qPnrgEhfhvS_"
      },
      "source": [
        "# Create year and month cols for grouping\n",
        "nash_data['year'] = pd.DatetimeIndex(nash_data['date']).year\n",
        "nash_data['month'] = pd.DatetimeIndex(nash_data['date']).month"
      ],
      "execution_count": null,
      "outputs": []
    },
    {
      "cell_type": "markdown",
      "metadata": {
        "id": "nqNgPrNyj-Ol"
      },
      "source": [
        "# Distributions of stops and putative reinforcers per month for all officers"
      ]
    },
    {
      "cell_type": "code",
      "metadata": {
        "id": "CwTVMR24j92h"
      },
      "source": [
        "# Create individual data frames for the different independent and dependent variables\n",
        "offcr_stops = nash_data.groupby(['year', 'month', 'officer_id_hash']).size()\n",
        "offcr_cites = nash_data.groupby(['year', 'month', 'officer_id_hash', 'citation_issued']).size()\n",
        "offcr_search = nash_data.groupby(['year', 'month', 'officer_id_hash', 'search_conducted']).size()\n",
        "offcr_frisk = nash_data.groupby(['year', 'month', 'officer_id_hash', 'frisk_performed']).size()\n",
        "offcr_contra = nash_data.groupby(['year', 'month', 'officer_id_hash', 'contraband_found']).size()\n",
        "offcr_arrest = nash_data.groupby(['year', 'month', 'officer_id_hash', 'arrest_made']).size()"
      ],
      "execution_count": null,
      "outputs": []
    },
    {
      "cell_type": "code",
      "metadata": {
        "colab": {
          "base_uri": "https://localhost:8080/"
        },
        "id": "3nUMJDKPisD9",
        "outputId": "dc441316-2d9d-4347-856f-ecabf71a02ed"
      },
      "source": [
        "# Print descriptions of each subset dataframe \n",
        "from scipy.stats import skew\n",
        "grouped_data = [offcr_stops, offcr_cites, offcr_search, offcr_frisk, offcr_contra, offcr_arrest]\n",
        "data_type = ['Stops', 'Citations', 'Searches', 'Frisks', 'Contraband Found', 'Arrests']\n",
        "\n",
        "for i in range(len(grouped_data)):\n",
        "  print(data_type[i], \"| Skew =\", round(skew(grouped_data[i]), 4), \"\\n\", grouped_data[i].describe(), \"\\n\")"
      ],
      "execution_count": null,
      "outputs": [
        {
          "output_type": "stream",
          "text": [
            "Stops | Skew = 3.2648 \n",
            " count    85841.000000\n",
            "mean        36.024044\n",
            "std         45.549907\n",
            "min          1.000000\n",
            "25%          6.000000\n",
            "50%         22.000000\n",
            "75%         50.000000\n",
            "max        675.000000\n",
            "dtype: float64 \n",
            "\n",
            "Citations | Skew = 3.2679 \n",
            " count    141332.000000\n",
            "mean         21.877706\n",
            "std          31.623313\n",
            "min           1.000000\n",
            "25%           3.000000\n",
            "50%           9.000000\n",
            "75%          30.000000\n",
            "max         461.000000\n",
            "dtype: float64 \n",
            "\n",
            "Searches | Skew = 3.8236 \n",
            " count    119394.000000\n",
            "mean         25.899978\n",
            "std          40.414383\n",
            "min           1.000000\n",
            "25%           2.000000\n",
            "50%           9.000000\n",
            "75%          36.000000\n",
            "max         675.000000\n",
            "dtype: float64 \n",
            "\n",
            "Frisks | Skew = 3.5768 \n",
            " count    106677.000000\n",
            "mean         28.987673\n",
            "std          42.403277\n",
            "min           1.000000\n",
            "25%           3.000000\n",
            "50%          12.000000\n",
            "75%          41.000000\n",
            "max         675.000000\n",
            "dtype: float64 \n",
            "\n",
            "Contraband Found | Skew = 14.379 \n",
            " count    46182.000000\n",
            "mean         2.765255\n",
            "std          5.041673\n",
            "min          1.000000\n",
            "25%          1.000000\n",
            "50%          1.000000\n",
            "75%          3.000000\n",
            "max        155.000000\n",
            "dtype: float64 \n",
            "\n",
            "Arrests | Skew = 3.5943 \n",
            " count    110922.000000\n",
            "mean         27.878257\n",
            "std          42.047000\n",
            "min           1.000000\n",
            "25%           2.000000\n",
            "50%          11.000000\n",
            "75%          39.000000\n",
            "max         675.000000\n",
            "dtype: float64 \n",
            "\n"
          ],
          "name": "stdout"
        }
      ]
    },
    {
      "cell_type": "code",
      "metadata": {
        "colab": {
          "base_uri": "https://localhost:8080/",
          "height": 1000
        },
        "id": "FxzJ7dtPm6y5",
        "outputId": "4d5d2457-31d3-492c-a301-a9b6f2b7f907"
      },
      "source": [
        "# Plot letter-value plots / boxen plots of the different distributions. \n",
        "# NB: These are Figure 1 in the manuscript\n",
        "def boxen(df, x_label):\n",
        "  f, ax = plt.subplots(figsize=(2, 5))\n",
        "  sns.boxenplot(y=df, color='white')\n",
        "  plt.xlabel(x_label, fontsize=20, labelpad=(16))\n",
        "  plt.ylabel('Count per Month', fontsize=20, labelpad=(16))\n",
        "  plt.ylim(.1, 1000)\n",
        "  plt.yscale(\"log\")\n",
        "  plt.yticks(ticks=[.1, 1, 10, 100], labels=['0.1', '1', '10', '100'], fontsize=12)\n",
        "  # plt.yticks(fontsize=12)\n",
        "  right_side = ax.spines[\"right\"]\n",
        "  right_side.set_visible(False)\n",
        "  top = ax.spines[\"top\"]\n",
        "  top.set_visible(False)\n",
        "  plt.show()\n",
        "\n",
        "boxen(offcr_stops, 'Stops')\n",
        "boxen(offcr_cites, 'Citations')\n",
        "boxen(offcr_search, 'Searches')\n",
        "boxen(offcr_frisk, 'Frisks')\n",
        "boxen(offcr_contra, 'Contraband')\n",
        "boxen(offcr_arrest, 'Arrests')"
      ],
      "execution_count": null,
      "outputs": [
        {
          "output_type": "display_data",
          "data": {
            "image/png": "[encoded data removed]",
            "text/plain": [
              "<Figure size 144x360 with 1 Axes>"
            ]
          },
          "metadata": {
            "tags": []
          }
        },
        {
          "output_type": "display_data",
          "data": {
            "image/png": "[encoded data removed]",
            "text/plain": [
              "<Figure size 144x360 with 1 Axes>"
            ]
          },
          "metadata": {
            "tags": []
          }
        },
        {
          "output_type": "display_data",
          "data": {
            "image/png": "[encoded data removed]",
            "text/plain": [
              "<Figure size 144x360 with 1 Axes>"
            ]
          },
          "metadata": {
            "tags": []
          }
        },
        {
          "output_type": "display_data",
          "data": {
            "image/png": "[encoded data removed]",
            "text/plain": [
              "<Figure size 144x360 with 1 Axes>"
            ]
          },
          "metadata": {
            "tags": []
          }
        },
        {
          "output_type": "display_data",
          "data": {
            "image/png": "[encoded data removed]",
            "text/plain": [
              "<Figure size 144x360 with 1 Axes>"
            ]
          },
          "metadata": {
            "tags": []
          }
        },
        {
          "output_type": "display_data",
          "data": {
            "image/png": "[encoded data removed]",
            "text/plain": [
              "<Figure size 144x360 with 1 Axes>"
            ]
          },
          "metadata": {
            "tags": []
          }
        }
      ]
    },
    {
      "cell_type": "markdown",
      "metadata": {
        "id": "H9U255z0PmwH"
      },
      "source": [
        "# Define single-alternative matching equation"
      ]
    },
    {
      "cell_type": "code",
      "metadata": {
        "id": "jrSAdb5Yx9mZ"
      },
      "source": [
        "# Define single alternative matching equation and import packages we'll need to\n",
        "# play with it.  \n",
        "from scipy.optimize import curve_fit\n",
        "from sklearn.metrics import r2_score\n",
        "\n",
        "def single_match(x, k, re):\n",
        "  return (k*x)/(x+re)"
      ],
      "execution_count": null,
      "outputs": []
    },
    {
      "cell_type": "markdown",
      "metadata": {
        "id": "5opTYLZhzymd"
      },
      "source": [
        "# Fit single-alternative matching to each officer's data"
      ]
    },
    {
      "cell_type": "code",
      "metadata": {
        "id": "Xd4G9juEwMdS"
      },
      "source": [
        "# Function for fitting single-alternative equation\n",
        "def single_matching(df, unique_identifier, df_reinforcer, reinforcer_label, \n",
        "                    fit_df_name, subset_cat=None, month=False):\n",
        "  \"\"\"\n",
        "    Function Inputs:\n",
        "    ----------\n",
        "    df: Dataframe from which to subset the individual officer data. \n",
        "    unique_identifier: Dataframe column containing the individual person id. \n",
        "    df_reinforcer: The column that contains the reinforcer being tested. \n",
        "    reinforcer_label: The label to assign to the reinforcer being tested. \n",
        "    fit_df_name: Name of the fit dataframe that is saved by running this function. \n",
        "    subset_cat: Column to subsetting df for fitting across different categories.\n",
        "    month: True if binning by month and year. False if binning only by year. \n",
        "\n",
        "    DESCRIPTION: This function fits the single-altenative matching equation \n",
        "        (Herrnstein, 1970) to behavior data binned per month for every \n",
        "        officer in this dataframe. It is designed so you can run through a loop \n",
        "        and test a variety of potential reinforcers in your data set, determine \n",
        "        which one best describes each officer's data, and save the results. \n",
        "\n",
        "    Returns:\n",
        "    -------\n",
        "    None. Pandas dataframe automatically saved after every officer. The \n",
        "    auto-saved dataframe contains:\n",
        "      (1) Unique officer id number\n",
        "      (2) Reinforcer label\n",
        "      (3) The subset category of the data for each fit (if specified)\n",
        "      (4) The estimated k parameter for the single-alternative matching equation. \n",
        "      (5) The estimated Re parameter for the single-alternative matching equation. \n",
        "      (6) The variance accounted for by the single-alternative matching equation. \n",
        "  \"\"\"\n",
        "  import warnings\n",
        "  warnings.filterwarnings('ignore')\n",
        "  # Create list of all the unique officers in the dataset\n",
        "  uniq_persons = df[unique_identifier].unique()\n",
        "  \n",
        "  # Lists for storing data\n",
        "  person_num = []\n",
        "  fit_type = []\n",
        "  reinforcer_type = []\n",
        "  k_val = []\n",
        "  re_val = []\n",
        "  r2_val = []\n",
        "  error_list = []\n",
        "\n",
        "  for i in uniq_persons:\n",
        "    # Subset single officer data\n",
        "    person_hash = i\n",
        "    person_A = df[df[unique_identifier]==i]\n",
        "    person_A = person_A[person_A['time'].notna()]\n",
        "    person_A = person_A.reset_index()\n",
        "\n",
        "    # Obtain rate of behavior per month and rate of citations per month\n",
        "    person_reinforcer = person_A.groupby(['year', 'month'])[df_reinforcer].sum()\n",
        "    person_behavior = person_A.groupby(['year', 'month']).size()\n",
        "\n",
        "    if len(person_behavior) > 5:\n",
        "      try:\n",
        "        reinforcer_per_day = person_reinforcer / 30.42  # Convert to rate per day\n",
        "        behavior_per_day = person_behavior / 30.42  # Convert to rate per day\n",
        "\n",
        "        # Fit the single-alt matching equation to the officer data\n",
        "        behavior = behavior_per_day.values\n",
        "        reinforcer = reinforcer_per_day.values\n",
        "        c, cov = curve_fit(single_match, reinforcer, behavior) # Fit model\n",
        "        preds_from_obs = single_match(reinforcer, *c)  # Make predictions based on model params\n",
        "        r_2 = r2_score(behavior, preds_from_obs) # Calculate vac to see how well the model fits\n",
        "\n",
        "        # Append data to cols\n",
        "        person_num.append(person_hash)\n",
        "        reinforcer_type.append(reinforcer_label)\n",
        "        fit_type.append('overall')\n",
        "        k_val.append(c[0])\n",
        "        re_val.append(c[1])\n",
        "        r2_val.append(round(r_2, 4))\n",
        "\n",
        "        # Save data\n",
        "        All_Fits = pd.DataFrame({\"person_num\":person_num, \"reinforcer\":reinforcer_type, \"fit_type\":fit_type, \"est_k\":k_val, \"est_re\":re_val, \"vac\":r2_val})\n",
        "        All_Fits.to_csv('%s.csv' %fit_df_name)\n",
        "\n",
        "        # Run the same analysis, but grouped by race\n",
        "        # Calculate rate of behavior per day and rate of citations per day\n",
        "        if month==True:\n",
        "          person_reinforcer = person_A.groupby(['year', 'month', subset_cat])[df_reinforcer].sum().unstack()\n",
        "          person_behavior = person_A.groupby(['year', 'month', subset_cat]).size().unstack()\n",
        "          reinforcer_per_day = person_reinforcer / 30.42\n",
        "          behavior_per_day = person_behavior / 30.42\n",
        "        else:\n",
        "          person_reinforcer = person_A.groupby(['year', subset_cat])[df_reinforcer].sum().unstack()\n",
        "          person_behavior = person_A.groupby(['year', subset_cat]).size().unstack()\n",
        "          reinforcer_per_day = person_reinforcer / 12\n",
        "          behavior_per_day = person_behavior / 12\n",
        "        reinforcer_per_day = reinforcer_per_day.fillna(0)\n",
        "        behavior_per_day = behavior_per_day.fillna(0)\n",
        "\n",
        "        # Loop through each race and fit the model\n",
        "        cols = list(reinforcer_per_day)\n",
        "        race_plot = []\n",
        "        k_plot = []\n",
        "        re_plot = []\n",
        "        r2_plot = []\n",
        "\n",
        "        for k in cols:\n",
        "          behavior = behavior_per_day[k].values\n",
        "          reinforcer = reinforcer_per_day[k].values\n",
        "          param_seeds = [16, 5]\n",
        "          c, cov = curve_fit(single_match, reinforcer, behavior) # Fit model\n",
        "          preds_from_obs = single_match(reinforcer, *c) # Make predictions based on model params\n",
        "          r_2 = r2_score(behavior, preds_from_obs) # Calculate vac to see how well the model fits\n",
        "\n",
        "          # Append data to cols\n",
        "          person_num.append(person_hash)\n",
        "          reinforcer_type.append(reinforcer_label)\n",
        "          fit_type.append(k)\n",
        "          race_plot.append(k)\n",
        "          k_val.append(c[0])\n",
        "          k_plot.append(c[0])\n",
        "          re_val.append(c[1])\n",
        "          re_plot.append(c[1])\n",
        "          r2_val.append(round(r_2, 4))\n",
        "          r2_plot.append(round(r_2, 4))\n",
        "\n",
        "        # Save data\n",
        "        All_Fits = pd.DataFrame({\"person_num\":person_num, \"reinforcer\":reinforcer_type, \"fit_type\":fit_type, \"est_k\":k_val, \"est_re\":re_val, \"vac\":r2_val})\n",
        "        All_Fits.to_csv('All_Fits_Citations.csv')\n",
        "    \n",
        "      except:\n",
        "        error_list.append(i)\n",
        "        err_officers = pd.DataFrame(error_list)\n",
        "        err_officers.to_csv('Error_List_%s.csv' %reinforcer_label)\n",
        "        All_Fits = pd.DataFrame({\"person_num\":person_num, \"reinforcer\":reinforcer_type, \"fit_type\":fit_type, \"est_k\":k_val, \"est_re\":re_val, \"vac\":r2_val})\n",
        "        All_Fits.to_csv('%s.csv' %fit_df_name)"
      ],
      "execution_count": null,
      "outputs": []
    },
    {
      "cell_type": "code",
      "metadata": {
        "colab": {
          "background_save": true
        },
        "id": "4xa-AVY6yzQK"
      },
      "source": [
        "# Citations as putative reinforcer binned by month\n",
        "single_matching(df=nash_data, unique_identifier='officer_id_hash', \n",
        "                df_reinforcer='citation_issued', reinforcer_label='citations', \n",
        "                fit_df_name='All_Fits_Citations', subset_cat='subject_race', \n",
        "                month=True)"
      ],
      "execution_count": null,
      "outputs": []
    },
    {
      "cell_type": "code",
      "metadata": {
        "id": "iJOEd-g72CGp"
      },
      "source": [
        "# Searches as putative reinforcers binned by year\n",
        "single_matching(df=nash_data, unique_identifier='officer_id_hash', \n",
        "                df_reinforcer='search_conducted', reinforcer_label='searches', \n",
        "                fit_df_name='All_Fits_Searches', subset_cat='subject_race')"
      ],
      "execution_count": null,
      "outputs": []
    },
    {
      "cell_type": "code",
      "metadata": {
        "id": "6Wb_9TjS2LcA"
      },
      "source": [
        "# Frisk as putative reinforcers binned by year\n",
        "single_matching(df=nash_data, unique_identifier='officer_id_hash', \n",
        "                df_reinforcer='frisk_performed', reinforcer_label='frisks', \n",
        "                fit_df_name='All_Fits_Frisks', subset_cat='subject_race')"
      ],
      "execution_count": null,
      "outputs": []
    },
    {
      "cell_type": "code",
      "metadata": {
        "id": "vow6p71G2MdC"
      },
      "source": [
        "# Contraband as putative reinforcers binned by year\n",
        "single_matching(df=nash_data, unique_identifier='officer_id_hash', \n",
        "                df_reinforcer='contraband_found', reinforcer_label='contraband', \n",
        "                fit_df_name='All_Fits_Contraband', subset_cat='subject_race')"
      ],
      "execution_count": null,
      "outputs": []
    },
    {
      "cell_type": "code",
      "metadata": {
        "colab": {
          "background_save": true
        },
        "id": "MjJ2fPLn2NbI"
      },
      "source": [
        "# Arrests as putative reinforcers binned by year\n",
        "single_matching(df=nash_data, unique_identifier='officer_id_hash', \n",
        "                df_reinforcer='arrest_made', reinforcer_label='arrests', \n",
        "                fit_df_name='All_Fits_Arrests', subset_cat='subject_race')"
      ],
      "execution_count": null,
      "outputs": []
    },
    {
      "cell_type": "markdown",
      "metadata": {
        "id": "h1UrdjASLzFe"
      },
      "source": [
        "# Combine all fit dataframes into single dataframe"
      ]
    },
    {
      "cell_type": "code",
      "metadata": {
        "id": "FzUbGC1wrpCf"
      },
      "source": [
        "# Combine all fit dataframes into single dataframe\n",
        "cite_fits = pd.read_csv('All_Fits_Citations.csv')\n",
        "cite_fits = cite_fits.drop(['Unnamed: 0'], axis=1)\n",
        "search_fits = pd.read_csv('All_Fits_Searches.csv')\n",
        "search_fits = search_fits.drop(['Unnamed: 0'], axis=1)\n",
        "frisk_fits = pd.read_csv('All_Fits_Frisks.csv')\n",
        "frisk_fits = frisk_fits.drop(['Unnamed: 0'], axis=1)\n",
        "contra_fits = pd.read_csv('All_Fits_Contraband.csv')\n",
        "contra_fits = contra_fits.drop(['Unnamed: 0'], axis=1)\n",
        "arrest_fits = pd.read_csv('All_Fits_Arrests.csv')\n",
        "arrest_fits = arrest_fits.drop(['Unnamed: 0'], axis=1)\n",
        "\n",
        "all_fits = cite_fits.append([search_fits, frisk_fits, contra_fits, arrest_fits])\n",
        "all_fits.to_csv('All_Single_Alt_Matching_Fits.csv')"
      ],
      "execution_count": null,
      "outputs": []
    }
  ]
}