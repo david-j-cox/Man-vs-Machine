{
 "cells": [
  {
   "cell_type": "markdown",
   "metadata": {
    "id": "Z7u82U1GZ5ps"
   },
   "source": [
    "# Background information\n",
    "*   This notebooks contains the data analytic pipeline for the manuscript titled \"Understanding Policing: A Quantitative Analysis\" and submitted to *Perspectives on Behavior Science*.\n",
    "*   Data for this notebook can be obtained from the Stanford Police Project: https://openpolicing.stanford.edu/data/. "
   ]
  },
  {
   "cell_type": "code",
   "execution_count": 1,
   "metadata": {
    "id": "go63Z8BLuagC"
   },
   "outputs": [],
   "source": [
    "# Packages!!\n",
    "import os\n",
    "import sys\n",
    "import pandas as pd\n",
    "import numpy as np\n",
    "import scipy\n",
    "import pandas_profiling\n",
    "import seaborn as sns\n",
    "import matplotlib.pyplot as plt\n",
    "%matplotlib inline"
   ]
  },
  {
   "cell_type": "code",
   "execution_count": 2,
   "metadata": {},
   "outputs": [
    {
     "name": "stderr",
     "output_type": "stream",
     "text": [
      "/opt/anaconda3/lib/python3.8/site-packages/IPython/core/interactiveshell.py:3071: DtypeWarning: Columns (2,4,15,16,17,22,23,24) have mixed types.Specify dtype option on import or set low_memory=False.\n",
      "  has_raised = await self.run_ast_nodes(code_ast.body, cell_name,\n"
     ]
    }
   ],
   "source": [
    "raw_data = pd.read_csv('/Users/davidjcox/Downloads/nc_statewide_2020_04_01.csv')\n",
    "data = raw_data.copy()"
   ]
  },
  {
   "cell_type": "code",
   "execution_count": null,
   "metadata": {
    "id": "MD91rOFYa-Gv"
   },
   "outputs": [],
   "source": [
    "# Upload data \n",
    "from google.colab import drive\n",
    "drive.mount('/content/gdrive')\n",
    "%cd './gdrive/MyDrive/Policing Data/Statewide North Carolina/Data'\n",
    "raw_data = pd.read_csv(\"nc_statewide_2020_04_01.csv\")\n",
    "data = raw_data.copy()"
   ]
  },
  {
   "cell_type": "code",
   "execution_count": 3,
   "metadata": {
    "id": "keWd_GvzYMjx"
   },
   "outputs": [
    {
     "data": {
      "text/html": [
       "<div>\n",
       "<style scoped>\n",
       "    .dataframe tbody tr th:only-of-type {\n",
       "        vertical-align: middle;\n",
       "    }\n",
       "\n",
       "    .dataframe tbody tr th {\n",
       "        vertical-align: top;\n",
       "    }\n",
       "\n",
       "    .dataframe thead th {\n",
       "        text-align: right;\n",
       "    }\n",
       "</style>\n",
       "<table border=\"1\" class=\"dataframe\">\n",
       "  <thead>\n",
       "    <tr style=\"text-align: right;\">\n",
       "      <th></th>\n",
       "      <th>raw_row_number</th>\n",
       "      <th>date</th>\n",
       "      <th>time</th>\n",
       "      <th>location</th>\n",
       "      <th>county_name</th>\n",
       "      <th>subject_age</th>\n",
       "      <th>subject_race</th>\n",
       "      <th>subject_sex</th>\n",
       "      <th>officer_id_hash</th>\n",
       "      <th>department_name</th>\n",
       "      <th>...</th>\n",
       "      <th>search_conducted</th>\n",
       "      <th>search_person</th>\n",
       "      <th>search_vehicle</th>\n",
       "      <th>search_basis</th>\n",
       "      <th>reason_for_frisk</th>\n",
       "      <th>reason_for_search</th>\n",
       "      <th>reason_for_stop</th>\n",
       "      <th>raw_Ethnicity</th>\n",
       "      <th>raw_Race</th>\n",
       "      <th>raw_action_description</th>\n",
       "    </tr>\n",
       "  </thead>\n",
       "  <tbody>\n",
       "    <tr>\n",
       "      <th>0</th>\n",
       "      <td>1</td>\n",
       "      <td>2000-05-22</td>\n",
       "      <td>21:10:00</td>\n",
       "      <td>Unknown</td>\n",
       "      <td>NaN</td>\n",
       "      <td>45.0</td>\n",
       "      <td>white</td>\n",
       "      <td>male</td>\n",
       "      <td>22e35044ed</td>\n",
       "      <td>NC Division of Motor Vehicles, License and The...</td>\n",
       "      <td>...</td>\n",
       "      <td>False</td>\n",
       "      <td>False</td>\n",
       "      <td>False</td>\n",
       "      <td>NaN</td>\n",
       "      <td>NaN</td>\n",
       "      <td>NaN</td>\n",
       "      <td>Speed Limit Violation</td>\n",
       "      <td>N</td>\n",
       "      <td>W</td>\n",
       "      <td>Citation Issued</td>\n",
       "    </tr>\n",
       "    <tr>\n",
       "      <th>1</th>\n",
       "      <td>2</td>\n",
       "      <td>2000-01-03</td>\n",
       "      <td>07:52:00</td>\n",
       "      <td>Unknown</td>\n",
       "      <td>NaN</td>\n",
       "      <td>20.0</td>\n",
       "      <td>white</td>\n",
       "      <td>male</td>\n",
       "      <td>22e35044ed</td>\n",
       "      <td>NC Division of Motor Vehicles, License and The...</td>\n",
       "      <td>...</td>\n",
       "      <td>False</td>\n",
       "      <td>False</td>\n",
       "      <td>False</td>\n",
       "      <td>NaN</td>\n",
       "      <td>NaN</td>\n",
       "      <td>NaN</td>\n",
       "      <td>Other Motor Vehicle Violation</td>\n",
       "      <td>N</td>\n",
       "      <td>W</td>\n",
       "      <td>Citation Issued</td>\n",
       "    </tr>\n",
       "    <tr>\n",
       "      <th>2</th>\n",
       "      <td>3</td>\n",
       "      <td>2000-01-06</td>\n",
       "      <td>10:30:00</td>\n",
       "      <td>Unknown</td>\n",
       "      <td>NaN</td>\n",
       "      <td>23.0</td>\n",
       "      <td>hispanic</td>\n",
       "      <td>male</td>\n",
       "      <td>22e35044ed</td>\n",
       "      <td>NC Division of Motor Vehicles, License and The...</td>\n",
       "      <td>...</td>\n",
       "      <td>False</td>\n",
       "      <td>False</td>\n",
       "      <td>False</td>\n",
       "      <td>NaN</td>\n",
       "      <td>NaN</td>\n",
       "      <td>NaN</td>\n",
       "      <td>Speed Limit Violation</td>\n",
       "      <td>H</td>\n",
       "      <td>U</td>\n",
       "      <td>Written Warning</td>\n",
       "    </tr>\n",
       "    <tr>\n",
       "      <th>3</th>\n",
       "      <td>4</td>\n",
       "      <td>2000-01-06</td>\n",
       "      <td>14:50:00</td>\n",
       "      <td>Unknown</td>\n",
       "      <td>NaN</td>\n",
       "      <td>60.0</td>\n",
       "      <td>white</td>\n",
       "      <td>male</td>\n",
       "      <td>22e35044ed</td>\n",
       "      <td>NC Division of Motor Vehicles, License and The...</td>\n",
       "      <td>...</td>\n",
       "      <td>False</td>\n",
       "      <td>False</td>\n",
       "      <td>False</td>\n",
       "      <td>NaN</td>\n",
       "      <td>NaN</td>\n",
       "      <td>NaN</td>\n",
       "      <td>Vehicle Regulatory Violation</td>\n",
       "      <td>N</td>\n",
       "      <td>W</td>\n",
       "      <td>Citation Issued</td>\n",
       "    </tr>\n",
       "    <tr>\n",
       "      <th>4</th>\n",
       "      <td>5</td>\n",
       "      <td>2000-01-06</td>\n",
       "      <td>14:50:00</td>\n",
       "      <td>Unknown</td>\n",
       "      <td>NaN</td>\n",
       "      <td>27.0</td>\n",
       "      <td>white</td>\n",
       "      <td>male</td>\n",
       "      <td>22e35044ed</td>\n",
       "      <td>NC Division of Motor Vehicles, License and The...</td>\n",
       "      <td>...</td>\n",
       "      <td>False</td>\n",
       "      <td>False</td>\n",
       "      <td>False</td>\n",
       "      <td>NaN</td>\n",
       "      <td>NaN</td>\n",
       "      <td>NaN</td>\n",
       "      <td>Vehicle Regulatory Violation</td>\n",
       "      <td>N</td>\n",
       "      <td>W</td>\n",
       "      <td>Citation Issued</td>\n",
       "    </tr>\n",
       "  </tbody>\n",
       "</table>\n",
       "<p>5 rows × 29 columns</p>\n",
       "</div>"
      ],
      "text/plain": [
       "   raw_row_number        date      time location county_name  subject_age  \\\n",
       "0               1  2000-05-22  21:10:00  Unknown         NaN         45.0   \n",
       "1               2  2000-01-03  07:52:00  Unknown         NaN         20.0   \n",
       "2               3  2000-01-06  10:30:00  Unknown         NaN         23.0   \n",
       "3               4  2000-01-06  14:50:00  Unknown         NaN         60.0   \n",
       "4               5  2000-01-06  14:50:00  Unknown         NaN         27.0   \n",
       "\n",
       "  subject_race subject_sex officer_id_hash  \\\n",
       "0        white        male      22e35044ed   \n",
       "1        white        male      22e35044ed   \n",
       "2     hispanic        male      22e35044ed   \n",
       "3        white        male      22e35044ed   \n",
       "4        white        male      22e35044ed   \n",
       "\n",
       "                                     department_name  ... search_conducted  \\\n",
       "0  NC Division of Motor Vehicles, License and The...  ...            False   \n",
       "1  NC Division of Motor Vehicles, License and The...  ...            False   \n",
       "2  NC Division of Motor Vehicles, License and The...  ...            False   \n",
       "3  NC Division of Motor Vehicles, License and The...  ...            False   \n",
       "4  NC Division of Motor Vehicles, License and The...  ...            False   \n",
       "\n",
       "   search_person  search_vehicle  search_basis reason_for_frisk  \\\n",
       "0          False           False           NaN              NaN   \n",
       "1          False           False           NaN              NaN   \n",
       "2          False           False           NaN              NaN   \n",
       "3          False           False           NaN              NaN   \n",
       "4          False           False           NaN              NaN   \n",
       "\n",
       "  reason_for_search                reason_for_stop raw_Ethnicity  raw_Race  \\\n",
       "0               NaN          Speed Limit Violation             N         W   \n",
       "1               NaN  Other Motor Vehicle Violation             N         W   \n",
       "2               NaN          Speed Limit Violation             H         U   \n",
       "3               NaN   Vehicle Regulatory Violation             N         W   \n",
       "4               NaN   Vehicle Regulatory Violation             N         W   \n",
       "\n",
       "   raw_action_description  \n",
       "0         Citation Issued  \n",
       "1         Citation Issued  \n",
       "2         Written Warning  \n",
       "3         Citation Issued  \n",
       "4         Citation Issued  \n",
       "\n",
       "[5 rows x 29 columns]"
      ]
     },
     "execution_count": 3,
     "metadata": {},
     "output_type": "execute_result"
    }
   ],
   "source": [
    "# Sample of what the data looks like and the data types\n",
    "data.head()"
   ]
  },
  {
   "cell_type": "code",
   "execution_count": 4,
   "metadata": {
    "id": "qPnrgEhfhvS_"
   },
   "outputs": [],
   "source": [
    "# Create year and month cols for grouping\n",
    "data['year'] = pd.DatetimeIndex(data['date']).year\n",
    "data['month'] = pd.DatetimeIndex(data['date']).month"
   ]
  },
  {
   "cell_type": "markdown",
   "metadata": {
    "id": "nqNgPrNyj-Ol"
   },
   "source": [
    "# Distributions of stops and putative reinforcers per month for all officers"
   ]
  },
  {
   "cell_type": "code",
   "execution_count": 5,
   "metadata": {
    "id": "CwTVMR24j92h"
   },
   "outputs": [],
   "source": [
    "# Create individual data frames for the different independent and dependent variables\n",
    "offcr_stops = data.groupby(['year', 'month', 'officer_id_hash']).size()\n",
    "offcr_cites = data.groupby(['year', 'month', 'officer_id_hash', 'citation_issued']).size()\n",
    "offcr_search = data.groupby(['year', 'month', 'officer_id_hash', 'search_conducted']).size()\n",
    "offcr_frisk = data.groupby(['year', 'month', 'officer_id_hash', 'frisk_performed']).size()\n",
    "offcr_contra = data.groupby(['year', 'month', 'officer_id_hash', 'contraband_found']).size()\n",
    "offcr_arrest = data.groupby(['year', 'month', 'officer_id_hash', 'arrest_made']).size()"
   ]
  },
  {
   "cell_type": "code",
   "execution_count": 6,
   "metadata": {
    "id": "3nUMJDKPisD9"
   },
   "outputs": [
    {
     "name": "stdout",
     "output_type": "stream",
     "text": [
      "Stops | Skew = 393.6477 \n",
      " count    1.174607e+06\n",
      "mean     1.727101e+01\n",
      "std      1.333849e+02\n",
      "min      1.000000e+00\n",
      "25%      2.000000e+00\n",
      "50%      7.000000e+00\n",
      "75%      2.000000e+01\n",
      "max      6.268900e+04\n",
      "dtype: float64 \n",
      "\n",
      "Citations | Skew = 424.2105 \n",
      " count    1.894062e+06\n",
      "mean     1.071066e+01\n",
      "std      8.181870e+01\n",
      "min      1.000000e+00\n",
      "25%      2.000000e+00\n",
      "50%      4.000000e+00\n",
      "75%      1.100000e+01\n",
      "max      4.483200e+04\n",
      "dtype: float64 \n",
      "\n",
      "Searches | Skew = 435.0749 \n",
      " count    1.444708e+06\n",
      "mean     1.404204e+01\n",
      "std      1.192878e+02\n",
      "min      1.000000e+00\n",
      "25%      1.000000e+00\n",
      "50%      4.000000e+00\n",
      "75%      1.500000e+01\n",
      "max      6.202400e+04\n",
      "dtype: float64 \n",
      "\n",
      "Frisks | Skew = 395.993 \n",
      " count    1.189656e+06\n",
      "mean     1.705253e+01\n",
      "std      1.323066e+02\n",
      "min      1.000000e+00\n",
      "25%      2.000000e+00\n",
      "50%      7.000000e+00\n",
      "75%      2.000000e+01\n",
      "max      6.256400e+04\n",
      "dtype: float64 \n",
      "\n",
      "Contraband Found | Skew = 127.5348 \n",
      " count    352299.000000\n",
      "mean          1.774101\n",
      "std           2.646274\n",
      "min           1.000000\n",
      "25%           1.000000\n",
      "50%           1.000000\n",
      "75%           2.000000\n",
      "max         690.000000\n",
      "dtype: float64 \n",
      "\n",
      "Arrests | Skew = 427.2442 \n",
      " count    1.393609e+06\n",
      "mean     1.455691e+01\n",
      "std      1.204342e+02\n",
      "min      1.000000e+00\n",
      "25%      1.000000e+00\n",
      "50%      5.000000e+00\n",
      "75%      1.600000e+01\n",
      "max      6.159000e+04\n",
      "dtype: float64 \n",
      "\n"
     ]
    }
   ],
   "source": [
    "# Print descriptions of each subset dataframe \n",
    "from scipy.stats import skew\n",
    "grouped_data = [offcr_stops, offcr_cites, offcr_search, offcr_frisk, offcr_contra, offcr_arrest]\n",
    "data_type = ['Stops', 'Citations', 'Searches', 'Frisks', 'Contraband Found', 'Arrests']\n",
    "\n",
    "for i in range(len(grouped_data)):\n",
    "  print(data_type[i], \"| Skew =\", round(skew(grouped_data[i]), 4), \"\\n\", grouped_data[i].describe(), \"\\n\")"
   ]
  },
  {
   "cell_type": "code",
   "execution_count": 7,
   "metadata": {
    "id": "FxzJ7dtPm6y5"
   },
   "outputs": [
    {
     "data": {
      "image/png": "[encoded data removed]",
      "text/plain": [
       "<Figure size 144x360 with 1 Axes>"
      ]
     },
     "metadata": {
      "needs_background": "light"
     },
     "output_type": "display_data"
    },
    {
     "data": {
      "image/png": "[encoded data removed]",
      "text/plain": [
       "<Figure size 144x360 with 1 Axes>"
      ]
     },
     "metadata": {
      "needs_background": "light"
     },
     "output_type": "display_data"
    },
    {
     "data": {
      "image/png": "[encoded data removed]",
      "text/plain": [
       "<Figure size 144x360 with 1 Axes>"
      ]
     },
     "metadata": {
      "needs_background": "light"
     },
     "output_type": "display_data"
    },
    {
     "data": {
      "image/png": "[encoded data removed]",
      "text/plain": [
       "<Figure size 144x360 with 1 Axes>"
      ]
     },
     "metadata": {
      "needs_background": "light"
     },
     "output_type": "display_data"
    },
    {
     "data": {
      "image/png": "[encoded data removed]",
      "text/plain": [
       "<Figure size 144x360 with 1 Axes>"
      ]
     },
     "metadata": {
      "needs_background": "light"
     },
     "output_type": "display_data"
    },
    {
     "data": {
      "image/png": "[encoded data removed]",
      "text/plain": [
       "<Figure size 144x360 with 1 Axes>"
      ]
     },
     "metadata": {
      "needs_background": "light"
     },
     "output_type": "display_data"
    }
   ],
   "source": [
    "# Plot letter-value plots / boxen plots of the different distributions. \n",
    "# NB: These are Figure 1 in the manuscript\n",
    "def boxen(df, x_label):\n",
    "  f, ax = plt.subplots(figsize=(2, 5))\n",
    "  sns.boxenplot(y=df, color='white')\n",
    "  plt.xlabel(x_label, fontsize=20, labelpad=(16))\n",
    "  plt.ylabel('Count per Month', fontsize=20, labelpad=(16))\n",
    "  plt.ylim(.1, 1000)\n",
    "  plt.yscale(\"log\")\n",
    "  plt.yticks(ticks=[.1, 1, 10, 100], labels=['0.1', '1', '10', '100'], fontsize=12)\n",
    "  # plt.yticks(fontsize=12)\n",
    "  right_side = ax.spines[\"right\"]\n",
    "  right_side.set_visible(False)\n",
    "  top = ax.spines[\"top\"]\n",
    "  top.set_visible(False)\n",
    "  plt.show()\n",
    "\n",
    "boxen(offcr_stops, 'Stops')\n",
    "boxen(offcr_cites, 'Citations')\n",
    "boxen(offcr_search, 'Searches')\n",
    "boxen(offcr_frisk, 'Frisks')\n",
    "boxen(offcr_contra, 'Contraband')\n",
    "boxen(offcr_arrest, 'Arrests')"
   ]
  },
  {
   "cell_type": "markdown",
   "metadata": {
    "id": "H9U255z0PmwH"
   },
   "source": [
    "# Define single-alternative matching equation"
   ]
  },
  {
   "cell_type": "code",
   "execution_count": 8,
   "metadata": {
    "id": "jrSAdb5Yx9mZ"
   },
   "outputs": [],
   "source": [
    "# Define single alternative matching equation and import packages we'll need to\n",
    "# play with it.  \n",
    "from scipy.optimize import curve_fit\n",
    "from sklearn.metrics import r2_score\n",
    "\n",
    "def single_match(x, k, re):\n",
    "  return (k*x)/(x+re)"
   ]
  },
  {
   "cell_type": "markdown",
   "metadata": {
    "id": "5opTYLZhzymd"
   },
   "source": [
    "# Fit single-alternative matching to each officer's data"
   ]
  },
  {
   "cell_type": "code",
   "execution_count": 13,
   "metadata": {
    "id": "Xd4G9juEwMdS"
   },
   "outputs": [],
   "source": [
    "# Function for fitting single-alternative equation\n",
    "def single_matching(df, unique_identifier, df_reinforcer, reinforcer_label, \n",
    "                    fit_df_name, subset_cat=None, month=False):\n",
    "  \"\"\"\n",
    "    Function Inputs:\n",
    "    ----------\n",
    "    df: Dataframe from which to subset the individual officer data. \n",
    "    unique_identifier: Dataframe column containing the individual person id. \n",
    "    df_reinforcer: The column that contains the reinforcer being tested. \n",
    "    reinforcer_label: The label to assign to the reinforcer being tested. \n",
    "    fit_df_name: Name of the fit dataframe that is saved by running this function. \n",
    "    subset_cat: Column to subsetting df for fitting across different categories.\n",
    "    month: True if binning by month and year. False if binning only by year. \n",
    "\n",
    "    DESCRIPTION: This function fits the single-altenative matching equation \n",
    "        (Herrnstein, 1970) to behavior data binned per month for every \n",
    "        officer in this dataframe. It is designed so you can run through a loop \n",
    "        and test a variety of potential reinforcers in your data set, determine \n",
    "        which one best describes each officer's data, and save the results. \n",
    "\n",
    "    Returns:\n",
    "    -------\n",
    "    None. Pandas dataframe automatically saved after every officer. The \n",
    "    auto-saved dataframe contains:\n",
    "      (1) Unique officer id number\n",
    "      (2) Reinforcer label\n",
    "      (3) The subset category of the data for each fit (if specified)\n",
    "      (4) The estimated k parameter for the single-alternative matching equation. \n",
    "      (5) The estimated Re parameter for the single-alternative matching equation. \n",
    "      (6) The variance accounted for by the single-alternative matching equation. \n",
    "  \"\"\"\n",
    "  import warnings\n",
    "  warnings.filterwarnings('ignore')\n",
    "\n",
    "  # Create list of all the unique officers in the dataset\n",
    "  uniq_persons = df[unique_identifier].unique()\n",
    "  \n",
    "  # Lists for storing data\n",
    "  person_num = []\n",
    "  fit_type = []\n",
    "  reinforcer_type = []\n",
    "  k_val = []\n",
    "  re_val = []\n",
    "  r2_val = []\n",
    "  error_list = []\n",
    "  count = 1\n",
    "\n",
    "  for i in uniq_persons:\n",
    "    # Subset single officer data\n",
    "    person_hash = i\n",
    "    person_A = df[df[unique_identifier]==i]\n",
    "    person_A = person_A[person_A['time'].notna()]\n",
    "    person_A = person_A.reset_index()\n",
    "\n",
    "    # Obtain rate of behavior per month and rate of citations per month\n",
    "    person_reinforcer = person_A.groupby(['year', 'month'])[df_reinforcer].sum()\n",
    "    person_behavior = person_A.groupby(['year', 'month']).size()\n",
    "\n",
    "    if len(person_behavior) > 5:\n",
    "      try:\n",
    "        reinforcer_per_day = person_reinforcer / 30.42  # Convert to rate per day\n",
    "        behavior_per_day = person_behavior / 30.42  # Convert to rate per day\n",
    "\n",
    "        # Fit the single-alt matching equation to the officer data\n",
    "        behavior = behavior_per_day.values\n",
    "        reinforcer = reinforcer_per_day.values\n",
    "        c, cov = curve_fit(single_match, reinforcer, behavior) # Fit model\n",
    "        preds_from_obs = single_match(reinforcer, *c)  # Make predictions based on model params\n",
    "        r_2 = r2_score(behavior, preds_from_obs) # Calculate vac to see how well the model fits\n",
    "\n",
    "        # Append data to cols\n",
    "        person_num.append(person_hash)\n",
    "        reinforcer_type.append(reinforcer_label)\n",
    "        fit_type.append('overall')\n",
    "        k_val.append(c[0])\n",
    "        re_val.append(c[1])\n",
    "        r2_val.append(round(r_2, 4))\n",
    "\n",
    "        # Save data\n",
    "        All_Fits = pd.DataFrame({\"person_num\":person_num, \"reinforcer\":reinforcer_type, \"fit_type\":fit_type, \"est_k\":k_val, \"est_re\":re_val, \"vac\":r2_val})\n",
    "        All_Fits.to_csv('%s.csv' %fit_df_name)\n",
    "\n",
    "        # Run the same analysis, but grouped by race\n",
    "        # Calculate rate of behavior per day and rate of citations per day\n",
    "        if month==True:\n",
    "          person_reinforcer = person_A.groupby(['year', 'month', subset_cat])[df_reinforcer].sum().unstack()\n",
    "          person_behavior = person_A.groupby(['year', 'month', subset_cat]).size().unstack()\n",
    "          reinforcer_per_day = person_reinforcer / 30.42\n",
    "          behavior_per_day = person_behavior / 30.42\n",
    "        else:\n",
    "          person_reinforcer = person_A.groupby(['year', subset_cat])[df_reinforcer].sum().unstack()\n",
    "          person_behavior = person_A.groupby(['year', subset_cat]).size().unstack()\n",
    "          reinforcer_per_day = person_reinforcer / 12\n",
    "          behavior_per_day = person_behavior / 12\n",
    "        reinforcer_per_day = reinforcer_per_day.fillna(0)\n",
    "        behavior_per_day = behavior_per_day.fillna(0)\n",
    "\n",
    "        # Loop through each race and fit the model\n",
    "        cols = list(reinforcer_per_day)\n",
    "        race_plot = []\n",
    "        k_plot = []\n",
    "        re_plot = []\n",
    "        r2_plot = []\n",
    "\n",
    "        for k in cols:\n",
    "          behavior = behavior_per_day[k].values\n",
    "          reinforcer = reinforcer_per_day[k].values\n",
    "          param_seeds = [16, 5]\n",
    "          c, cov = curve_fit(single_match, reinforcer, behavior) # Fit model\n",
    "          preds_from_obs = single_match(reinforcer, *c) # Make predictions based on model params\n",
    "          r_2 = r2_score(behavior, preds_from_obs) # Calculate vac to see how well the model fits\n",
    "\n",
    "          # Append data to cols\n",
    "          person_num.append(person_hash)\n",
    "          reinforcer_type.append(reinforcer_label)\n",
    "          fit_type.append(k)\n",
    "          race_plot.append(k)\n",
    "          k_val.append(c[0])\n",
    "          k_plot.append(c[0])\n",
    "          re_val.append(c[1])\n",
    "          re_plot.append(c[1])\n",
    "          r2_val.append(round(r_2, 4))\n",
    "          r2_plot.append(round(r_2, 4))\n",
    "\n",
    "        # Save data\n",
    "        All_Fits = pd.DataFrame({\"person_num\":person_num, \"reinforcer\":reinforcer_type, \"fit_type\":fit_type, \"est_k\":k_val, \"est_re\":re_val, \"vac\":r2_val})\n",
    "        All_Fits.to_csv('All_Fits_Citations.csv')\n",
    "        \n",
    "        count+=1\n",
    "        \n",
    "        if count%100==0:\n",
    "            print(\"%s fits completed\" %count)\n",
    "    \n",
    "      except:\n",
    "        error_list.append(i)\n",
    "        err_officers = pd.DataFrame(error_list)\n",
    "        err_officers.to_csv('Error_List_%s.csv' %reinforcer_label)\n",
    "        All_Fits = pd.DataFrame({\"person_num\":person_num, \"reinforcer\":reinforcer_type, \"fit_type\":fit_type, \"est_k\":k_val, \"est_re\":re_val, \"vac\":r2_val})\n",
    "        All_Fits.to_csv('%s.csv' %fit_df_name)\n",
    "        count+=1"
   ]
  },
  {
   "cell_type": "code",
   "execution_count": 14,
   "metadata": {
    "id": "4xa-AVY6yzQK"
   },
   "outputs": [
    {
     "name": "stdout",
     "output_type": "stream",
     "text": [
      "100 fits completed\n",
      "200 fits completed\n",
      "300 fits completed\n",
      "400 fits completed\n",
      "500 fits completed\n",
      "600 fits completed\n",
      "700 fits completed\n",
      "800 fits completed\n",
      "900 fits completed\n",
      "1000 fits completed\n",
      "1100 fits completed\n",
      "1200 fits completed\n",
      "1300 fits completed\n",
      "1400 fits completed\n",
      "1500 fits completed\n",
      "1600 fits completed\n",
      "1700 fits completed\n",
      "1800 fits completed\n",
      "1900 fits completed\n",
      "2000 fits completed\n",
      "2100 fits completed\n",
      "2200 fits completed\n",
      "2300 fits completed\n",
      "2400 fits completed\n",
      "2500 fits completed\n",
      "2600 fits completed\n",
      "2700 fits completed\n",
      "2800 fits completed\n",
      "2900 fits completed\n",
      "3000 fits completed\n",
      "3100 fits completed\n",
      "3200 fits completed\n",
      "3300 fits completed\n",
      "3400 fits completed\n",
      "3500 fits completed\n",
      "3600 fits completed\n",
      "3700 fits completed\n",
      "3800 fits completed\n",
      "3900 fits completed\n",
      "4000 fits completed\n",
      "4100 fits completed\n",
      "4200 fits completed\n",
      "4300 fits completed\n",
      "4400 fits completed\n",
      "4500 fits completed\n",
      "4600 fits completed\n",
      "4700 fits completed\n",
      "4800 fits completed\n",
      "4900 fits completed\n",
      "5000 fits completed\n",
      "5100 fits completed\n",
      "5200 fits completed\n",
      "5300 fits completed\n",
      "5400 fits completed\n",
      "5500 fits completed\n",
      "5600 fits completed\n",
      "5700 fits completed\n",
      "5800 fits completed\n",
      "5900 fits completed\n",
      "6000 fits completed\n",
      "6100 fits completed\n",
      "6200 fits completed\n",
      "6300 fits completed\n",
      "6400 fits completed\n",
      "6500 fits completed\n",
      "6600 fits completed\n",
      "6700 fits completed\n",
      "6800 fits completed\n",
      "6900 fits completed\n",
      "7000 fits completed\n",
      "7100 fits completed\n",
      "7200 fits completed\n",
      "7300 fits completed\n",
      "7400 fits completed\n",
      "7500 fits completed\n",
      "7600 fits completed\n",
      "7700 fits completed\n",
      "7800 fits completed\n",
      "7900 fits completed\n",
      "8000 fits completed\n",
      "8100 fits completed\n",
      "8200 fits completed\n",
      "8300 fits completed\n",
      "8400 fits completed\n",
      "8500 fits completed\n",
      "8600 fits completed\n",
      "8700 fits completed\n",
      "8800 fits completed\n",
      "8900 fits completed\n",
      "9000 fits completed\n",
      "9100 fits completed\n",
      "9200 fits completed\n",
      "9300 fits completed\n",
      "9400 fits completed\n",
      "9500 fits completed\n",
      "9600 fits completed\n",
      "9700 fits completed\n",
      "9800 fits completed\n",
      "9900 fits completed\n",
      "10000 fits completed\n",
      "10100 fits completed\n",
      "10200 fits completed\n",
      "10300 fits completed\n",
      "10400 fits completed\n",
      "10500 fits completed\n",
      "10600 fits completed\n",
      "10700 fits completed\n",
      "10800 fits completed\n",
      "10900 fits completed\n",
      "11000 fits completed\n",
      "11100 fits completed\n",
      "11200 fits completed\n",
      "11300 fits completed\n",
      "11400 fits completed\n",
      "11500 fits completed\n",
      "11600 fits completed\n",
      "11700 fits completed\n",
      "11800 fits completed\n",
      "11900 fits completed\n",
      "12000 fits completed\n",
      "12100 fits completed\n",
      "12200 fits completed\n",
      "12300 fits completed\n",
      "12400 fits completed\n",
      "12500 fits completed\n",
      "12600 fits completed\n",
      "12700 fits completed\n",
      "12800 fits completed\n",
      "12900 fits completed\n",
      "13000 fits completed\n",
      "13100 fits completed\n",
      "13200 fits completed\n",
      "13300 fits completed\n",
      "13400 fits completed\n",
      "13500 fits completed\n",
      "13600 fits completed\n",
      "13700 fits completed\n",
      "13800 fits completed\n",
      "13900 fits completed\n",
      "14000 fits completed\n",
      "14100 fits completed\n",
      "14200 fits completed\n",
      "14300 fits completed\n",
      "14400 fits completed\n",
      "14500 fits completed\n",
      "14600 fits completed\n",
      "14700 fits completed\n",
      "14800 fits completed\n",
      "14900 fits completed\n",
      "15000 fits completed\n",
      "15100 fits completed\n",
      "15200 fits completed\n",
      "15300 fits completed\n",
      "15400 fits completed\n",
      "15500 fits completed\n",
      "15600 fits completed\n",
      "15700 fits completed\n",
      "15800 fits completed\n",
      "15900 fits completed\n",
      "16000 fits completed\n",
      "16100 fits completed\n",
      "16200 fits completed\n",
      "16300 fits completed\n",
      "16400 fits completed\n",
      "16500 fits completed\n",
      "16600 fits completed\n",
      "16700 fits completed\n",
      "16800 fits completed\n",
      "16900 fits completed\n",
      "17000 fits completed\n",
      "17100 fits completed\n",
      "17200 fits completed\n",
      "17300 fits completed\n",
      "17400 fits completed\n",
      "17500 fits completed\n",
      "17600 fits completed\n",
      "17700 fits completed\n",
      "17800 fits completed\n",
      "17900 fits completed\n",
      "18000 fits completed\n",
      "18100 fits completed\n",
      "18200 fits completed\n",
      "18300 fits completed\n",
      "18400 fits completed\n",
      "18500 fits completed\n",
      "18600 fits completed\n",
      "18700 fits completed\n",
      "18800 fits completed\n",
      "18900 fits completed\n",
      "19000 fits completed\n",
      "19100 fits completed\n",
      "19200 fits completed\n",
      "19300 fits completed\n",
      "19400 fits completed\n",
      "19500 fits completed\n",
      "19600 fits completed\n",
      "19700 fits completed\n",
      "19800 fits completed\n",
      "19900 fits completed\n",
      "20000 fits completed\n",
      "20100 fits completed\n",
      "20200 fits completed\n",
      "20300 fits completed\n",
      "20400 fits completed\n",
      "20500 fits completed\n",
      "20600 fits completed\n",
      "20700 fits completed\n",
      "20800 fits completed\n",
      "20900 fits completed\n",
      "21000 fits completed\n",
      "21100 fits completed\n"
     ]
    }
   ],
   "source": [
    "# Citations as putative reinforcer binned by month\n",
    "single_matching(df=data, unique_identifier='officer_id_hash', \n",
    "                df_reinforcer='citation_issued', reinforcer_label='citations', \n",
    "                fit_df_name='All_Fits_Citations', subset_cat='subject_race', \n",
    "                month=True)"
   ]
  },
  {
   "cell_type": "code",
   "execution_count": null,
   "metadata": {
    "id": "iJOEd-g72CGp"
   },
   "outputs": [
    {
     "name": "stdout",
     "output_type": "stream",
     "text": [
      "100 fits completed\n",
      "200 fits completed\n",
      "300 fits completed\n",
      "400 fits completed\n",
      "500 fits completed\n",
      "600 fits completed\n",
      "700 fits completed\n",
      "800 fits completed\n",
      "900 fits completed\n",
      "1000 fits completed\n",
      "1100 fits completed\n",
      "1200 fits completed\n",
      "1300 fits completed\n",
      "1400 fits completed\n",
      "1500 fits completed\n",
      "1600 fits completed\n",
      "1700 fits completed\n",
      "1800 fits completed\n",
      "1900 fits completed\n",
      "2000 fits completed\n",
      "2100 fits completed\n",
      "2200 fits completed\n",
      "2300 fits completed\n",
      "2400 fits completed\n",
      "2500 fits completed\n",
      "2600 fits completed\n",
      "2700 fits completed\n",
      "2800 fits completed\n",
      "2900 fits completed\n",
      "3000 fits completed\n",
      "3100 fits completed\n",
      "3200 fits completed\n",
      "3400 fits completed\n",
      "3500 fits completed\n",
      "3600 fits completed\n",
      "3700 fits completed\n",
      "3800 fits completed\n",
      "3900 fits completed\n",
      "4000 fits completed\n",
      "4100 fits completed\n",
      "4200 fits completed\n",
      "4300 fits completed\n",
      "4400 fits completed\n",
      "4500 fits completed\n",
      "4600 fits completed\n",
      "4700 fits completed\n",
      "4800 fits completed\n",
      "4900 fits completed\n",
      "5000 fits completed\n",
      "5100 fits completed\n",
      "5200 fits completed\n",
      "5300 fits completed\n",
      "5400 fits completed\n",
      "5500 fits completed\n",
      "5600 fits completed\n",
      "5700 fits completed\n",
      "5800 fits completed\n",
      "5900 fits completed\n",
      "6000 fits completed\n",
      "6100 fits completed\n",
      "6200 fits completed\n",
      "6300 fits completed\n",
      "6400 fits completed\n",
      "6500 fits completed\n",
      "6600 fits completed\n",
      "6700 fits completed\n",
      "6800 fits completed\n",
      "6900 fits completed\n",
      "7000 fits completed\n",
      "7100 fits completed\n",
      "7200 fits completed\n",
      "7300 fits completed\n",
      "7400 fits completed\n",
      "7500 fits completed\n",
      "7600 fits completed\n",
      "7700 fits completed\n",
      "7800 fits completed\n",
      "7900 fits completed\n",
      "8000 fits completed\n",
      "8100 fits completed\n",
      "8200 fits completed\n",
      "8300 fits completed\n",
      "8400 fits completed\n",
      "8500 fits completed\n",
      "8600 fits completed\n",
      "8700 fits completed\n",
      "8800 fits completed\n",
      "8900 fits completed\n",
      "9000 fits completed\n",
      "9100 fits completed\n",
      "9200 fits completed\n",
      "9300 fits completed\n",
      "9400 fits completed\n",
      "9500 fits completed\n",
      "9600 fits completed\n",
      "9700 fits completed\n",
      "9900 fits completed\n",
      "10000 fits completed\n",
      "10100 fits completed\n",
      "10200 fits completed\n",
      "10300 fits completed\n",
      "10400 fits completed\n",
      "10500 fits completed\n",
      "10600 fits completed\n",
      "10700 fits completed\n",
      "10800 fits completed\n",
      "10900 fits completed\n",
      "11000 fits completed\n",
      "11100 fits completed\n",
      "11200 fits completed\n"
     ]
    }
   ],
   "source": [
    "# Searches as putative reinforcers binned by year\n",
    "single_matching(df=data, unique_identifier='officer_id_hash', \n",
    "                df_reinforcer='search_conducted', reinforcer_label='searches', \n",
    "                fit_df_name='All_Fits_Searches', subset_cat='subject_race')"
   ]
  },
  {
   "cell_type": "code",
   "execution_count": null,
   "metadata": {
    "id": "6Wb_9TjS2LcA"
   },
   "outputs": [],
   "source": [
    "# Frisk as putative reinforcers binned by year\n",
    "single_matching(df=data, unique_identifier='officer_id_hash', \n",
    "                df_reinforcer='frisk_performed', reinforcer_label='frisks', \n",
    "                fit_df_name='All_Fits_Frisks', subset_cat='subject_race')"
   ]
  },
  {
   "cell_type": "code",
   "execution_count": null,
   "metadata": {
    "id": "vow6p71G2MdC"
   },
   "outputs": [],
   "source": [
    "# Contraband as putative reinforcers binned by year\n",
    "single_matching(df=data, unique_identifier='officer_id_hash', \n",
    "                df_reinforcer='contraband_found', reinforcer_label='contraband', \n",
    "                fit_df_name='All_Fits_Contraband', subset_cat='subject_race')"
   ]
  },
  {
   "cell_type": "code",
   "execution_count": null,
   "metadata": {
    "id": "MjJ2fPLn2NbI"
   },
   "outputs": [],
   "source": [
    "# Arrests as putative reinforcers binned by year\n",
    "single_matching(df=data, unique_identifier='officer_id_hash', \n",
    "                df_reinforcer='arrest_made', reinforcer_label='arrests', \n",
    "                fit_df_name='All_Fits_Arrests', subset_cat='subject_race')"
   ]
  },
  {
   "cell_type": "markdown",
   "metadata": {
    "id": "h1UrdjASLzFe"
   },
   "source": [
    "# Combine all fit dataframes into single dataframe"
   ]
  },
  {
   "cell_type": "code",
   "execution_count": null,
   "metadata": {
    "id": "FzUbGC1wrpCf"
   },
   "outputs": [],
   "source": [
    "# Combine all fit dataframes into single dataframe\n",
    "cite_fits = pd.read_csv('All_Fits_Citations.csv')\n",
    "cite_fits = cite_fits.drop(['Unnamed: 0'], axis=1)\n",
    "search_fits = pd.read_csv('All_Fits_Searches.csv')\n",
    "search_fits = search_fits.drop(['Unnamed: 0'], axis=1)\n",
    "frisk_fits = pd.read_csv('All_Fits_Frisks.csv')\n",
    "frisk_fits = frisk_fits.drop(['Unnamed: 0'], axis=1)\n",
    "contra_fits = pd.read_csv('All_Fits_Contraband.csv')\n",
    "contra_fits = contra_fits.drop(['Unnamed: 0'], axis=1)\n",
    "arrest_fits = pd.read_csv('All_Fits_Arrests.csv')\n",
    "arrest_fits = arrest_fits.drop(['Unnamed: 0'], axis=1)\n",
    "\n",
    "all_fits = cite_fits.append([search_fits, frisk_fits, contra_fits, arrest_fits])\n",
    "all_fits.to_csv('All_Single_Alt_Matching_Fits.csv')"
   ]
  },
  {
   "cell_type": "code",
   "execution_count": null,
   "metadata": {
    "id": "SCs8tasp7MGo"
   },
   "outputs": [],
   "source": [
    "all_fits.columns = ['person_num', 'reinforcer', 'fit_type', 'est_k', 'est_re', 'vac']"
   ]
  },
  {
   "cell_type": "markdown",
   "metadata": {
    "id": "i9NC8hfExiuZ"
   },
   "source": [
    "# Proportion descriptions for ms"
   ]
  },
  {
   "cell_type": "code",
   "execution_count": null,
   "metadata": {
    "id": "rbpo6_wTFBjB"
   },
   "outputs": [],
   "source": [
    "# Distribution vals for everything\n",
    "pd.set_option('max_colwidth', 30) \n",
    "pd.set_option('max_rows', len(all_fits))\n",
    "all_fits.groupby(['fit_type', 'reinforcer']).describe()"
   ]
  },
  {
   "cell_type": "code",
   "execution_count": null,
   "metadata": {
    "id": "2-ll7pZq8ES2"
   },
   "outputs": [],
   "source": [
    "# Print the proportion of officers whose databehavior was described by the \n",
    "# single-alternative matching equation with vac greater than 90%\n",
    "print((round((cite_fits['vac'].ge(0.9).sum())/len(cite_fits), 5)), \"= Citation Proportion >90%\")\n",
    "print((round((search_fits['vac'].ge(0.9).sum())/len(search_fits), 5)), \"= Search Proportion >90%\")\n",
    "print((round((frisk_fits['vac'].ge(0.9).sum())/len(frisk_fits), 5)), \"= Frisk Proportion >90%\")\n",
    "print((round((contra_fits['vac'].ge(0.9).sum())/len(contra_fits), 5)), \"= Contraband Found Proportion >90%\")\n",
    "print((round((arrest_fits['vac'].ge(0.9).sum())/len(arrest_fits), 5)), \"= Arrest Proportion >90%\")"
   ]
  },
  {
   "cell_type": "code",
   "execution_count": null,
   "metadata": {
    "id": "vZWgV_HO6IQD"
   },
   "outputs": [],
   "source": [
    "# Print the proportion of officers whose databehavior was described by the \n",
    "# single-alternative matching equation with vac greater than 80%\n",
    "print((round((cite_fits['vac'].ge(0.8).sum())/len(cite_fits), 5)), \"= Citation Proportion >80%\")\n",
    "print((round((search_fits['vac'].ge(0.8).sum())/len(search_fits), 5)), \"= Search Proportion >80%\")\n",
    "print((round((frisk_fits['vac'].ge(0.8).sum())/len(frisk_fits), 5)), \"= Frisk Proportion >80%\")\n",
    "print((round((contra_fits['vac'].ge(0.8).sum())/len(contra_fits), 5)), \"= Contraband Found Proportion >80%\")\n",
    "print((round((arrest_fits['vac'].ge(0.8).sum())/len(arrest_fits), 5)), \"= Arrest Proportion >80%\")"
   ]
  },
  {
   "cell_type": "code",
   "execution_count": null,
   "metadata": {
    "id": "KOGCvuKilcfX"
   },
   "outputs": [],
   "source": [
    "# Print the number of officers for whom:\n",
    "# VAC > 90%\n",
    "print('VAC > 90%')\n",
    "print(cite_fits['vac'].ge(0.9).sum(), \"= Citation Count\")\n",
    "print(search_fits['vac'].ge(0.9).sum(), \"= Search Count\")\n",
    "print(frisk_fits['vac'].ge(0.9).sum(), \"= Frisk Count\")\n",
    "print(contra_fits['vac'].ge(0.9).sum(), \"= Contraband Count\")\n",
    "print(arrest_fits['vac'].ge(0.9).sum(), \"= Arrest Count\")\n",
    "\n",
    "# VAC > 80%\n",
    "print('\\nVAC > 80%')\n",
    "print(cite_fits['vac'].ge(0.8).sum(), \"= Citation Count\")\n",
    "print(search_fits['vac'].ge(0.8).sum(), \"= Search Count\")\n",
    "print(frisk_fits['vac'].ge(0.8).sum(), \"= Frisk Count\")\n",
    "print(contra_fits['vac'].ge(0.8).sum(), \"= Contraband Count\")\n",
    "print(arrest_fits['vac'].ge(0.8).sum(), \"= Arrest Count\")"
   ]
  },
  {
   "cell_type": "code",
   "execution_count": null,
   "metadata": {
    "id": "XTESr-9FoeUA"
   },
   "outputs": [],
   "source": [
    "# Create list of officers for whom vac was > 90% using Eq. 1\n",
    "def offcrs_90(df):\n",
    "  temp_list = []\n",
    "  reinf = []\n",
    "  for i in range(len(df)):\n",
    "    if df['vac'][i]>=0.90:\n",
    "      if df['person_num'][i] in temp_list:\n",
    "        continue\n",
    "      else:\n",
    "        temp_list.append(df['person_num'][i])\n",
    "        reinf.append(df['reinforcer'][i])\n",
    "  return pd.DataFrame(list(zip(temp_list, reinf)), columns=['person_num', 'reinforcer'])\n",
    "\n",
    "cites_offcr = offcrs_90(cite_fits)\n",
    "search_offcr = offcrs_90(search_fits)\n",
    "frisk_offcr = offcrs_90(frisk_fits)\n",
    "contra_offcr = offcrs_90(contra_fits)\n",
    "arrest_offcr = offcrs_90(arrest_fits)\n",
    "\n",
    "# Combine all officer dfs where VAC was .90 or greater\n",
    "all_offcr90s = cites_offcr.append(search_offcr)\n",
    "all_offcr90s = all_offcr90s.append(frisk_offcr)\n",
    "all_offcr90s = all_offcr90s.append(contra_offcr)\n",
    "all_offcr90s = all_offcr90s.append(arrest_offcr)\n",
    "\n",
    "# Show value counts for all_offcr90s df\n",
    "print(\"Unique Officers with VAC > 0.90 = %s\" %len(all_offcr90s['person_num'].unique()))\n",
    "offcr90_val_counts = pd.DataFrame(all_offcr90s.value_counts(), columns=['count'])\n",
    "offcr90_val_counts['count'].value_counts()"
   ]
  },
  {
   "cell_type": "code",
   "execution_count": null,
   "metadata": {
    "id": "DSFk_Hq9otGB"
   },
   "outputs": [],
   "source": [
    "# Combine all officer dfs where VAC was .90 or greater\n",
    "all_offcr90s = cites_offcr.append(search_offcr)\n",
    "all_offcr90s = all_offcr90s.append(frisk_offcr)\n",
    "all_offcr90s = all_offcr90s.append(contra_offcr)\n",
    "all_offcr90s = all_offcr90s.append(arrest_offcr)"
   ]
  },
  {
   "cell_type": "code",
   "execution_count": null,
   "metadata": {
    "id": "XQBFmQ3VqVqF"
   },
   "outputs": [],
   "source": [
    "print(\"Unique Officers with VAC > 90 = %s\" %len(all_offcr90s['person_num'].unique()))\n",
    "offcr90_val_counts = pd.DataFrame(all_offcr90s.value_counts(), columns=['count'])\n",
    "offcr90_val_counts['count'].unique()"
   ]
  }
 ],
 "metadata": {
  "accelerator": "TPU",
  "colab": {
   "collapsed_sections": [],
   "machine_shape": "hm",
   "name": "North Carolina State Patrol Data Pipeline.ipynb",
   "provenance": [],
   "toc_visible": true
  },
  "kernelspec": {
   "display_name": "Python 3",
   "language": "python",
   "name": "python3"
  },
  "language_info": {
   "codemirror_mode": {
    "name": "ipython",
    "version": 3
   },
   "file_extension": ".py",
   "mimetype": "text/x-python",
   "name": "python",
   "nbconvert_exporter": "python",
   "pygments_lexer": "ipython3",
   "version": "3.8.3"
  }
 },
 "nbformat": 4,
 "nbformat_minor": 1
}
