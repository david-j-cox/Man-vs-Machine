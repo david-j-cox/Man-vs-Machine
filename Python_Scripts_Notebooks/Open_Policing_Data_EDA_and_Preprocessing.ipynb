{
 "cells": [
  {
   "cell_type": "code",
   "execution_count": 1,
   "metadata": {},
   "outputs": [],
   "source": [
    "# Packages!!\n",
    "import os\n",
    "import sys\n",
    "import pandas as pd\n",
    "import numpy as np\n",
    "import scipy\n",
    "from pandas_profiling import ProfileReport"
   ]
  },
  {
   "cell_type": "code",
   "execution_count": 2,
   "metadata": {},
   "outputs": [],
   "source": [
    "# Point to local file for custom scripts. \n",
    "sys.path.append('C:/Users/David-PC/Dropbox/Coding/Local Python Modules/')\n",
    "\n",
    "#% Set working directory\n",
    "os.chdir('C:/Users/David-PC/Dropbox/Projects/CurrentProjectManuscripts/Empirical/PersonalFun/Matching & Police Behavior/Data')"
   ]
  },
  {
   "cell_type": "code",
   "execution_count": 3,
   "metadata": {},
   "outputs": [
    {
     "name": "stdout",
     "output_type": "stream",
     "text": [
      "Features:\n",
      " ['raw_row_number', 'date', 'time', 'location', 'lat', 'lng', 'precinct', 'reporting_area', 'zone', 'subject_age', 'subject_race', 'subject_sex', 'officer_id_hash', 'type', 'violation', 'arrest_made', 'citation_issued', 'warning_issued', 'outcome', 'contraband_found', 'contraband_drugs', 'contraband_weapons', 'frisk_performed', 'search_conducted', 'search_person', 'search_vehicle', 'search_basis', 'reason_for_stop', 'vehicle_registration_state', 'notes', 'raw_verbal_warning_issued', 'raw_written_warning_issued', 'raw_traffic_citation_issued', 'raw_misd_state_citation_issued', 'raw_suspect_ethnicity', 'raw_driver_searched', 'raw_passenger_searched', 'raw_search_consent', 'raw_search_arrest', 'raw_search_warrant', 'raw_search_inventory', 'raw_search_plain_view'] \n",
      "\n",
      "Num of Observations= 3092351\n"
     ]
    }
   ],
   "source": [
    "# Read in the data\n",
    "nash_raw_data = pd.read_csv('tn_nashville_2020_04_01.csv', low_memory=False)\n",
    "nash_data = nash_raw_data.copy()\n",
    "print(\"Features:\\n\", list(nash_data), \"\\n\")\n",
    "print(\"Num of Observations=\", len(nash_data))"
   ]
  },
  {
   "cell_type": "code",
   "execution_count": null,
   "metadata": {},
   "outputs": [
    {
     "data": {
      "application/vnd.jupyter.widget-view+json": {
       "model_id": "9957840c9f8647a9bc4bd6526fafc34d",
       "version_major": 2,
       "version_minor": 0
      },
      "text/plain": [
       "HBox(children=(FloatProgress(value=0.0, description='Summarize dataset', max=56.0, style=ProgressStyle(descrip…"
      ]
     },
     "metadata": {},
     "output_type": "display_data"
    }
   ],
   "source": [
    "# Run Pandas Profiling\n",
    "profile = ProfileReport(nash_data, title=\"Nashville EDA\", explorative=True)\n",
    "profile.to_widgets()"
   ]
  },
  {
   "cell_type": "code",
   "execution_count": null,
   "metadata": {},
   "outputs": [],
   "source": [
    "# Save profile report to an html file\n",
    "profile.to_file(\"Nashville_Policing_Initial_EDA.html\")"
   ]
  }
 ],
 "metadata": {
  "kernelspec": {
   "display_name": "Python 3",
   "language": "python",
   "name": "python3"
  },
  "language_info": {
   "codemirror_mode": {
    "name": "ipython",
    "version": 3
   },
   "file_extension": ".py",
   "mimetype": "text/x-python",
   "name": "python",
   "nbconvert_exporter": "python",
   "pygments_lexer": "ipython3",
   "version": "3.7.6"
  }
 },
 "nbformat": 4,
 "nbformat_minor": 4
}
